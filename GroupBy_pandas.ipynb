{
  "nbformat": 4,
  "nbformat_minor": 0,
  "metadata": {
    "colab": {
      "name": "TensorFlow with GPU",
      "version": "0.3.2",
      "provenance": [],
      "collapsed_sections": [],
      "toc_visible": true,
      "include_colab_link": true
    },
    "kernelspec": {
      "display_name": "Python 3",
      "name": "python3"
    }
  },
  "cells": [
    {
      "cell_type": "markdown",
      "metadata": {
        "id": "view-in-github",
        "colab_type": "text"
      },
      "source": [
        "<a href=\"https://colab.research.google.com/github/priyanshgupta1998/DataScience_codes/blob/master/GroupBy_pandas.ipynb\" target=\"_parent\"><img src=\"https://colab.research.google.com/assets/colab-badge.svg\" alt=\"Open In Colab\"/></a>"
      ]
    },
    {
      "metadata": {
        "id": "QXDiciHLiFQ4",
        "colab_type": "code",
        "colab": {}
      },
      "cell_type": "code",
      "source": [
        "#import the pandas library\n",
        "import pandas as pd"
      ],
      "execution_count": 0,
      "outputs": []
    },
    {
      "metadata": {
        "id": "tMeHLj0ridRg",
        "colab_type": "code",
        "colab": {}
      },
      "cell_type": "code",
      "source": [
        "ipl_data = {'Team': ['Riders', 'Riders', 'Devils', 'Devils', 'Kings',\n",
        "   'kings', 'Kings', 'Kings', 'Riders', 'Royals', 'Royals', 'Riders'],\n",
        "   'Rank': [1, 2, 2, 3, 3,4 ,1 ,1,2 , 4,1,2],\n",
        "   'Year': [2014,2015,2014,2015,2014,2015,2016,2017,2016,2014,2015,2017],\n",
        "   'Points':[876,789,863,673,741,812,756,788,694,701,804,690]}\n"
      ],
      "execution_count": 0,
      "outputs": []
    },
    {
      "metadata": {
        "id": "txxbMukDiFUh",
        "colab_type": "code",
        "colab": {
          "base_uri": "https://localhost:8080/",
          "height": 421
        },
        "outputId": "3732a9f3-70dc-4f0d-9ad6-20c7d82c5012"
      },
      "cell_type": "code",
      "source": [
        "df = pd.DataFrame(ipl_data)\n",
        "df"
      ],
      "execution_count": 4,
      "outputs": [
        {
          "output_type": "execute_result",
          "data": {
            "text/html": [
              "<div>\n",
              "<style scoped>\n",
              "    .dataframe tbody tr th:only-of-type {\n",
              "        vertical-align: middle;\n",
              "    }\n",
              "\n",
              "    .dataframe tbody tr th {\n",
              "        vertical-align: top;\n",
              "    }\n",
              "\n",
              "    .dataframe thead th {\n",
              "        text-align: right;\n",
              "    }\n",
              "</style>\n",
              "<table border=\"1\" class=\"dataframe\">\n",
              "  <thead>\n",
              "    <tr style=\"text-align: right;\">\n",
              "      <th></th>\n",
              "      <th>Points</th>\n",
              "      <th>Rank</th>\n",
              "      <th>Team</th>\n",
              "      <th>Year</th>\n",
              "    </tr>\n",
              "  </thead>\n",
              "  <tbody>\n",
              "    <tr>\n",
              "      <th>0</th>\n",
              "      <td>876</td>\n",
              "      <td>1</td>\n",
              "      <td>Riders</td>\n",
              "      <td>2014</td>\n",
              "    </tr>\n",
              "    <tr>\n",
              "      <th>1</th>\n",
              "      <td>789</td>\n",
              "      <td>2</td>\n",
              "      <td>Riders</td>\n",
              "      <td>2015</td>\n",
              "    </tr>\n",
              "    <tr>\n",
              "      <th>2</th>\n",
              "      <td>863</td>\n",
              "      <td>2</td>\n",
              "      <td>Devils</td>\n",
              "      <td>2014</td>\n",
              "    </tr>\n",
              "    <tr>\n",
              "      <th>3</th>\n",
              "      <td>673</td>\n",
              "      <td>3</td>\n",
              "      <td>Devils</td>\n",
              "      <td>2015</td>\n",
              "    </tr>\n",
              "    <tr>\n",
              "      <th>4</th>\n",
              "      <td>741</td>\n",
              "      <td>3</td>\n",
              "      <td>Kings</td>\n",
              "      <td>2014</td>\n",
              "    </tr>\n",
              "    <tr>\n",
              "      <th>5</th>\n",
              "      <td>812</td>\n",
              "      <td>4</td>\n",
              "      <td>kings</td>\n",
              "      <td>2015</td>\n",
              "    </tr>\n",
              "    <tr>\n",
              "      <th>6</th>\n",
              "      <td>756</td>\n",
              "      <td>1</td>\n",
              "      <td>Kings</td>\n",
              "      <td>2016</td>\n",
              "    </tr>\n",
              "    <tr>\n",
              "      <th>7</th>\n",
              "      <td>788</td>\n",
              "      <td>1</td>\n",
              "      <td>Kings</td>\n",
              "      <td>2017</td>\n",
              "    </tr>\n",
              "    <tr>\n",
              "      <th>8</th>\n",
              "      <td>694</td>\n",
              "      <td>2</td>\n",
              "      <td>Riders</td>\n",
              "      <td>2016</td>\n",
              "    </tr>\n",
              "    <tr>\n",
              "      <th>9</th>\n",
              "      <td>701</td>\n",
              "      <td>4</td>\n",
              "      <td>Royals</td>\n",
              "      <td>2014</td>\n",
              "    </tr>\n",
              "    <tr>\n",
              "      <th>10</th>\n",
              "      <td>804</td>\n",
              "      <td>1</td>\n",
              "      <td>Royals</td>\n",
              "      <td>2015</td>\n",
              "    </tr>\n",
              "    <tr>\n",
              "      <th>11</th>\n",
              "      <td>690</td>\n",
              "      <td>2</td>\n",
              "      <td>Riders</td>\n",
              "      <td>2017</td>\n",
              "    </tr>\n",
              "  </tbody>\n",
              "</table>\n",
              "</div>"
            ],
            "text/plain": [
              "    Points  Rank    Team  Year\n",
              "0      876     1  Riders  2014\n",
              "1      789     2  Riders  2015\n",
              "2      863     2  Devils  2014\n",
              "3      673     3  Devils  2015\n",
              "4      741     3   Kings  2014\n",
              "5      812     4   kings  2015\n",
              "6      756     1   Kings  2016\n",
              "7      788     1   Kings  2017\n",
              "8      694     2  Riders  2016\n",
              "9      701     4  Royals  2014\n",
              "10     804     1  Royals  2015\n",
              "11     690     2  Riders  2017"
            ]
          },
          "metadata": {
            "tags": []
          },
          "execution_count": 4
        }
      ]
    },
    {
      "metadata": {
        "id": "4U2docGTl-28",
        "colab_type": "text"
      },
      "cell_type": "markdown",
      "source": [
        "#split based on TEAM"
      ]
    },
    {
      "metadata": {
        "id": "wiChpqneiFYJ",
        "colab_type": "code",
        "colab": {
          "base_uri": "https://localhost:8080/",
          "height": 102
        },
        "outputId": "a29fd0a1-13bb-4843-eaf1-074b8e3e29f5"
      },
      "cell_type": "code",
      "source": [
        "team_g = df.groupby('Team')\n",
        "team_g.groups"
      ],
      "execution_count": 7,
      "outputs": [
        {
          "output_type": "execute_result",
          "data": {
            "text/plain": [
              "{'Devils': Int64Index([2, 3], dtype='int64'),\n",
              " 'Kings': Int64Index([4, 6, 7], dtype='int64'),\n",
              " 'Riders': Int64Index([0, 1, 8, 11], dtype='int64'),\n",
              " 'Royals': Int64Index([9, 10], dtype='int64'),\n",
              " 'kings': Int64Index([5], dtype='int64')}"
            ]
          },
          "metadata": {
            "tags": []
          },
          "execution_count": 7
        }
      ]
    },
    {
      "metadata": {
        "id": "SB6HEJTqiFab",
        "colab_type": "code",
        "colab": {
          "base_uri": "https://localhost:8080/",
          "height": 561
        },
        "outputId": "eec27fb6-23b6-4549-ecee-129995ba75e4"
      },
      "cell_type": "code",
      "source": [
        "for team, data in team_g:\n",
        "    print(\"Team:\",team)\n",
        "    print(\"data:\",data)\n",
        "    print(\"\\n\")"
      ],
      "execution_count": 10,
      "outputs": [
        {
          "output_type": "stream",
          "text": [
            "Team: Devils\n",
            "data:    Points  Rank    Team  Year\n",
            "2     863     2  Devils  2014\n",
            "3     673     3  Devils  2015\n",
            "\n",
            "\n",
            "Team: Kings\n",
            "data:    Points  Rank   Team  Year\n",
            "4     741     3  Kings  2014\n",
            "6     756     1  Kings  2016\n",
            "7     788     1  Kings  2017\n",
            "\n",
            "\n",
            "Team: Riders\n",
            "data:     Points  Rank    Team  Year\n",
            "0      876     1  Riders  2014\n",
            "1      789     2  Riders  2015\n",
            "8      694     2  Riders  2016\n",
            "11     690     2  Riders  2017\n",
            "\n",
            "\n",
            "Team: Royals\n",
            "data:     Points  Rank    Team  Year\n",
            "9      701     4  Royals  2014\n",
            "10     804     1  Royals  2015\n",
            "\n",
            "\n",
            "Team: kings\n",
            "data:    Points  Rank   Team  Year\n",
            "5     812     4  kings  2015\n",
            "\n",
            "\n"
          ],
          "name": "stdout"
        }
      ]
    },
    {
      "metadata": {
        "id": "5aqlN1zFm8M9",
        "colab_type": "text"
      },
      "cell_type": "markdown",
      "source": [
        "# Rank based"
      ]
    },
    {
      "metadata": {
        "id": "15dR6uuniFcu",
        "colab_type": "code",
        "colab": {
          "base_uri": "https://localhost:8080/",
          "height": 85
        },
        "outputId": "49d97796-da23-4da9-af96-6773c5b32c0f"
      },
      "cell_type": "code",
      "source": [
        "rank_g = df.groupby('Rank')\n",
        "rank_g.groups"
      ],
      "execution_count": 12,
      "outputs": [
        {
          "output_type": "execute_result",
          "data": {
            "text/plain": [
              "{1: Int64Index([0, 6, 7, 10], dtype='int64'),\n",
              " 2: Int64Index([1, 2, 8, 11], dtype='int64'),\n",
              " 3: Int64Index([3, 4], dtype='int64'),\n",
              " 4: Int64Index([5, 9], dtype='int64')}"
            ]
          },
          "metadata": {
            "tags": []
          },
          "execution_count": 12
        }
      ]
    },
    {
      "metadata": {
        "id": "ur2AdYXwm_ml",
        "colab_type": "text"
      },
      "cell_type": "markdown",
      "source": [
        "#Year based "
      ]
    },
    {
      "metadata": {
        "id": "qFattWcmiFfb",
        "colab_type": "code",
        "colab": {
          "base_uri": "https://localhost:8080/",
          "height": 85
        },
        "outputId": "db0fc89a-a3a9-4bd4-a5f4-abd522899414"
      },
      "cell_type": "code",
      "source": [
        "year_g = df.groupby('Year')\n",
        "year_g.groups"
      ],
      "execution_count": 13,
      "outputs": [
        {
          "output_type": "execute_result",
          "data": {
            "text/plain": [
              "{2014: Int64Index([0, 2, 4, 9], dtype='int64'),\n",
              " 2015: Int64Index([1, 3, 5, 10], dtype='int64'),\n",
              " 2016: Int64Index([6, 8], dtype='int64'),\n",
              " 2017: Int64Index([7, 11], dtype='int64')}"
            ]
          },
          "metadata": {
            "tags": []
          },
          "execution_count": 13
        }
      ]
    },
    {
      "metadata": {
        "id": "liYNwlI0nBkl",
        "colab_type": "text"
      },
      "cell_type": "markdown",
      "source": [
        "#Points based"
      ]
    },
    {
      "metadata": {
        "id": "eRyHg5K9mbZH",
        "colab_type": "code",
        "colab": {
          "base_uri": "https://localhost:8080/",
          "height": 221
        },
        "outputId": "2f5304a0-e5af-48c0-9c0e-2a5ff551ceb8"
      },
      "cell_type": "code",
      "source": [
        "points_g = df.groupby('Points')\n",
        "points_g.groups "
      ],
      "execution_count": 17,
      "outputs": [
        {
          "output_type": "execute_result",
          "data": {
            "text/plain": [
              "{673: Int64Index([3], dtype='int64'),\n",
              " 690: Int64Index([11], dtype='int64'),\n",
              " 694: Int64Index([8], dtype='int64'),\n",
              " 701: Int64Index([9], dtype='int64'),\n",
              " 741: Int64Index([4], dtype='int64'),\n",
              " 756: Int64Index([6], dtype='int64'),\n",
              " 788: Int64Index([7], dtype='int64'),\n",
              " 789: Int64Index([1], dtype='int64'),\n",
              " 804: Int64Index([10], dtype='int64'),\n",
              " 812: Int64Index([5], dtype='int64'),\n",
              " 863: Int64Index([2], dtype='int64'),\n",
              " 876: Int64Index([0], dtype='int64')}"
            ]
          },
          "metadata": {
            "tags": []
          },
          "execution_count": 17
        }
      ]
    },
    {
      "metadata": {
        "id": "nvf4Riv5nVX_",
        "colab_type": "code",
        "colab": {
          "base_uri": "https://localhost:8080/",
          "height": 421
        },
        "outputId": "8b073fcb-2b9f-4fba-cd94-10028893098a"
      },
      "cell_type": "code",
      "source": [
        "df"
      ],
      "execution_count": 19,
      "outputs": [
        {
          "output_type": "execute_result",
          "data": {
            "text/html": [
              "<div>\n",
              "<style scoped>\n",
              "    .dataframe tbody tr th:only-of-type {\n",
              "        vertical-align: middle;\n",
              "    }\n",
              "\n",
              "    .dataframe tbody tr th {\n",
              "        vertical-align: top;\n",
              "    }\n",
              "\n",
              "    .dataframe thead th {\n",
              "        text-align: right;\n",
              "    }\n",
              "</style>\n",
              "<table border=\"1\" class=\"dataframe\">\n",
              "  <thead>\n",
              "    <tr style=\"text-align: right;\">\n",
              "      <th></th>\n",
              "      <th>Points</th>\n",
              "      <th>Rank</th>\n",
              "      <th>Team</th>\n",
              "      <th>Year</th>\n",
              "    </tr>\n",
              "  </thead>\n",
              "  <tbody>\n",
              "    <tr>\n",
              "      <th>0</th>\n",
              "      <td>876</td>\n",
              "      <td>1</td>\n",
              "      <td>Riders</td>\n",
              "      <td>2014</td>\n",
              "    </tr>\n",
              "    <tr>\n",
              "      <th>1</th>\n",
              "      <td>789</td>\n",
              "      <td>2</td>\n",
              "      <td>Riders</td>\n",
              "      <td>2015</td>\n",
              "    </tr>\n",
              "    <tr>\n",
              "      <th>2</th>\n",
              "      <td>863</td>\n",
              "      <td>2</td>\n",
              "      <td>Devils</td>\n",
              "      <td>2014</td>\n",
              "    </tr>\n",
              "    <tr>\n",
              "      <th>3</th>\n",
              "      <td>673</td>\n",
              "      <td>3</td>\n",
              "      <td>Devils</td>\n",
              "      <td>2015</td>\n",
              "    </tr>\n",
              "    <tr>\n",
              "      <th>4</th>\n",
              "      <td>741</td>\n",
              "      <td>3</td>\n",
              "      <td>Kings</td>\n",
              "      <td>2014</td>\n",
              "    </tr>\n",
              "    <tr>\n",
              "      <th>5</th>\n",
              "      <td>812</td>\n",
              "      <td>4</td>\n",
              "      <td>kings</td>\n",
              "      <td>2015</td>\n",
              "    </tr>\n",
              "    <tr>\n",
              "      <th>6</th>\n",
              "      <td>756</td>\n",
              "      <td>1</td>\n",
              "      <td>Kings</td>\n",
              "      <td>2016</td>\n",
              "    </tr>\n",
              "    <tr>\n",
              "      <th>7</th>\n",
              "      <td>788</td>\n",
              "      <td>1</td>\n",
              "      <td>Kings</td>\n",
              "      <td>2017</td>\n",
              "    </tr>\n",
              "    <tr>\n",
              "      <th>8</th>\n",
              "      <td>694</td>\n",
              "      <td>2</td>\n",
              "      <td>Riders</td>\n",
              "      <td>2016</td>\n",
              "    </tr>\n",
              "    <tr>\n",
              "      <th>9</th>\n",
              "      <td>701</td>\n",
              "      <td>4</td>\n",
              "      <td>Royals</td>\n",
              "      <td>2014</td>\n",
              "    </tr>\n",
              "    <tr>\n",
              "      <th>10</th>\n",
              "      <td>804</td>\n",
              "      <td>1</td>\n",
              "      <td>Royals</td>\n",
              "      <td>2015</td>\n",
              "    </tr>\n",
              "    <tr>\n",
              "      <th>11</th>\n",
              "      <td>690</td>\n",
              "      <td>2</td>\n",
              "      <td>Riders</td>\n",
              "      <td>2017</td>\n",
              "    </tr>\n",
              "  </tbody>\n",
              "</table>\n",
              "</div>"
            ],
            "text/plain": [
              "    Points  Rank    Team  Year\n",
              "0      876     1  Riders  2014\n",
              "1      789     2  Riders  2015\n",
              "2      863     2  Devils  2014\n",
              "3      673     3  Devils  2015\n",
              "4      741     3   Kings  2014\n",
              "5      812     4   kings  2015\n",
              "6      756     1   Kings  2016\n",
              "7      788     1   Kings  2017\n",
              "8      694     2  Riders  2016\n",
              "9      701     4  Royals  2014\n",
              "10     804     1  Royals  2015\n",
              "11     690     2  Riders  2017"
            ]
          },
          "metadata": {
            "tags": []
          },
          "execution_count": 19
        }
      ]
    },
    {
      "metadata": {
        "id": "bS1CtVscnnk2",
        "colab_type": "code",
        "colab": {
          "base_uri": "https://localhost:8080/",
          "height": 255
        },
        "outputId": "af3574ff-eb6f-4c21-f150-64136fa262cb"
      },
      "cell_type": "code",
      "source": [
        "team_g.describe()"
      ],
      "execution_count": 20,
      "outputs": [
        {
          "output_type": "execute_result",
          "data": {
            "text/html": [
              "<div>\n",
              "<style scoped>\n",
              "    .dataframe tbody tr th:only-of-type {\n",
              "        vertical-align: middle;\n",
              "    }\n",
              "\n",
              "    .dataframe tbody tr th {\n",
              "        vertical-align: top;\n",
              "    }\n",
              "\n",
              "    .dataframe thead tr th {\n",
              "        text-align: left;\n",
              "    }\n",
              "\n",
              "    .dataframe thead tr:last-of-type th {\n",
              "        text-align: right;\n",
              "    }\n",
              "</style>\n",
              "<table border=\"1\" class=\"dataframe\">\n",
              "  <thead>\n",
              "    <tr>\n",
              "      <th></th>\n",
              "      <th colspan=\"8\" halign=\"left\">Points</th>\n",
              "      <th colspan=\"8\" halign=\"left\">Year</th>\n",
              "    </tr>\n",
              "    <tr>\n",
              "      <th></th>\n",
              "      <th>count</th>\n",
              "      <th>mean</th>\n",
              "      <th>std</th>\n",
              "      <th>min</th>\n",
              "      <th>25%</th>\n",
              "      <th>50%</th>\n",
              "      <th>75%</th>\n",
              "      <th>max</th>\n",
              "      <th>count</th>\n",
              "      <th>mean</th>\n",
              "      <th>std</th>\n",
              "      <th>min</th>\n",
              "      <th>25%</th>\n",
              "      <th>50%</th>\n",
              "      <th>75%</th>\n",
              "      <th>max</th>\n",
              "    </tr>\n",
              "    <tr>\n",
              "      <th>Rank</th>\n",
              "      <th></th>\n",
              "      <th></th>\n",
              "      <th></th>\n",
              "      <th></th>\n",
              "      <th></th>\n",
              "      <th></th>\n",
              "      <th></th>\n",
              "      <th></th>\n",
              "      <th></th>\n",
              "      <th></th>\n",
              "      <th></th>\n",
              "      <th></th>\n",
              "      <th></th>\n",
              "      <th></th>\n",
              "      <th></th>\n",
              "      <th></th>\n",
              "    </tr>\n",
              "  </thead>\n",
              "  <tbody>\n",
              "    <tr>\n",
              "      <th>1</th>\n",
              "      <td>4.0</td>\n",
              "      <td>806.0</td>\n",
              "      <td>50.754310</td>\n",
              "      <td>756.0</td>\n",
              "      <td>780.00</td>\n",
              "      <td>796.0</td>\n",
              "      <td>822.00</td>\n",
              "      <td>876.0</td>\n",
              "      <td>4.0</td>\n",
              "      <td>2015.5</td>\n",
              "      <td>1.290994</td>\n",
              "      <td>2014.0</td>\n",
              "      <td>2014.75</td>\n",
              "      <td>2015.5</td>\n",
              "      <td>2016.25</td>\n",
              "      <td>2017.0</td>\n",
              "    </tr>\n",
              "    <tr>\n",
              "      <th>2</th>\n",
              "      <td>4.0</td>\n",
              "      <td>759.0</td>\n",
              "      <td>83.070251</td>\n",
              "      <td>690.0</td>\n",
              "      <td>693.00</td>\n",
              "      <td>741.5</td>\n",
              "      <td>807.50</td>\n",
              "      <td>863.0</td>\n",
              "      <td>4.0</td>\n",
              "      <td>2015.5</td>\n",
              "      <td>1.290994</td>\n",
              "      <td>2014.0</td>\n",
              "      <td>2014.75</td>\n",
              "      <td>2015.5</td>\n",
              "      <td>2016.25</td>\n",
              "      <td>2017.0</td>\n",
              "    </tr>\n",
              "    <tr>\n",
              "      <th>3</th>\n",
              "      <td>2.0</td>\n",
              "      <td>707.0</td>\n",
              "      <td>48.083261</td>\n",
              "      <td>673.0</td>\n",
              "      <td>690.00</td>\n",
              "      <td>707.0</td>\n",
              "      <td>724.00</td>\n",
              "      <td>741.0</td>\n",
              "      <td>2.0</td>\n",
              "      <td>2014.5</td>\n",
              "      <td>0.707107</td>\n",
              "      <td>2014.0</td>\n",
              "      <td>2014.25</td>\n",
              "      <td>2014.5</td>\n",
              "      <td>2014.75</td>\n",
              "      <td>2015.0</td>\n",
              "    </tr>\n",
              "    <tr>\n",
              "      <th>4</th>\n",
              "      <td>2.0</td>\n",
              "      <td>756.5</td>\n",
              "      <td>78.488853</td>\n",
              "      <td>701.0</td>\n",
              "      <td>728.75</td>\n",
              "      <td>756.5</td>\n",
              "      <td>784.25</td>\n",
              "      <td>812.0</td>\n",
              "      <td>2.0</td>\n",
              "      <td>2014.5</td>\n",
              "      <td>0.707107</td>\n",
              "      <td>2014.0</td>\n",
              "      <td>2014.25</td>\n",
              "      <td>2014.5</td>\n",
              "      <td>2014.75</td>\n",
              "      <td>2015.0</td>\n",
              "    </tr>\n",
              "  </tbody>\n",
              "</table>\n",
              "</div>"
            ],
            "text/plain": [
              "     Points                                                         Year  \\\n",
              "      count   mean        std    min     25%    50%     75%    max count   \n",
              "Rank                                                                       \n",
              "1       4.0  806.0  50.754310  756.0  780.00  796.0  822.00  876.0   4.0   \n",
              "2       4.0  759.0  83.070251  690.0  693.00  741.5  807.50  863.0   4.0   \n",
              "3       2.0  707.0  48.083261  673.0  690.00  707.0  724.00  741.0   2.0   \n",
              "4       2.0  756.5  78.488853  701.0  728.75  756.5  784.25  812.0   2.0   \n",
              "\n",
              "                                                                  \n",
              "        mean       std     min      25%     50%      75%     max  \n",
              "Rank                                                              \n",
              "1     2015.5  1.290994  2014.0  2014.75  2015.5  2016.25  2017.0  \n",
              "2     2015.5  1.290994  2014.0  2014.75  2015.5  2016.25  2017.0  \n",
              "3     2014.5  0.707107  2014.0  2014.25  2014.5  2014.75  2015.0  \n",
              "4     2014.5  0.707107  2014.0  2014.25  2014.5  2014.75  2015.0  "
            ]
          },
          "metadata": {
            "tags": []
          },
          "execution_count": 20
        }
      ]
    },
    {
      "metadata": {
        "id": "THuCh_rInrr0",
        "colab_type": "code",
        "colab": {
          "base_uri": "https://localhost:8080/",
          "height": 503
        },
        "outputId": "5a62704c-e7c2-4947-c1cd-ff6ca98cdd0b"
      },
      "cell_type": "code",
      "source": [
        "points_g.describe()"
      ],
      "execution_count": 21,
      "outputs": [
        {
          "output_type": "execute_result",
          "data": {
            "text/html": [
              "<div>\n",
              "<style scoped>\n",
              "    .dataframe tbody tr th:only-of-type {\n",
              "        vertical-align: middle;\n",
              "    }\n",
              "\n",
              "    .dataframe tbody tr th {\n",
              "        vertical-align: top;\n",
              "    }\n",
              "\n",
              "    .dataframe thead tr th {\n",
              "        text-align: left;\n",
              "    }\n",
              "\n",
              "    .dataframe thead tr:last-of-type th {\n",
              "        text-align: right;\n",
              "    }\n",
              "</style>\n",
              "<table border=\"1\" class=\"dataframe\">\n",
              "  <thead>\n",
              "    <tr>\n",
              "      <th></th>\n",
              "      <th colspan=\"8\" halign=\"left\">Rank</th>\n",
              "      <th colspan=\"8\" halign=\"left\">Year</th>\n",
              "    </tr>\n",
              "    <tr>\n",
              "      <th></th>\n",
              "      <th>count</th>\n",
              "      <th>mean</th>\n",
              "      <th>std</th>\n",
              "      <th>min</th>\n",
              "      <th>25%</th>\n",
              "      <th>50%</th>\n",
              "      <th>75%</th>\n",
              "      <th>max</th>\n",
              "      <th>count</th>\n",
              "      <th>mean</th>\n",
              "      <th>std</th>\n",
              "      <th>min</th>\n",
              "      <th>25%</th>\n",
              "      <th>50%</th>\n",
              "      <th>75%</th>\n",
              "      <th>max</th>\n",
              "    </tr>\n",
              "    <tr>\n",
              "      <th>Points</th>\n",
              "      <th></th>\n",
              "      <th></th>\n",
              "      <th></th>\n",
              "      <th></th>\n",
              "      <th></th>\n",
              "      <th></th>\n",
              "      <th></th>\n",
              "      <th></th>\n",
              "      <th></th>\n",
              "      <th></th>\n",
              "      <th></th>\n",
              "      <th></th>\n",
              "      <th></th>\n",
              "      <th></th>\n",
              "      <th></th>\n",
              "      <th></th>\n",
              "    </tr>\n",
              "  </thead>\n",
              "  <tbody>\n",
              "    <tr>\n",
              "      <th>673</th>\n",
              "      <td>1.0</td>\n",
              "      <td>3.0</td>\n",
              "      <td>NaN</td>\n",
              "      <td>3.0</td>\n",
              "      <td>3.0</td>\n",
              "      <td>3.0</td>\n",
              "      <td>3.0</td>\n",
              "      <td>3.0</td>\n",
              "      <td>1.0</td>\n",
              "      <td>2015.0</td>\n",
              "      <td>NaN</td>\n",
              "      <td>2015.0</td>\n",
              "      <td>2015.0</td>\n",
              "      <td>2015.0</td>\n",
              "      <td>2015.0</td>\n",
              "      <td>2015.0</td>\n",
              "    </tr>\n",
              "    <tr>\n",
              "      <th>690</th>\n",
              "      <td>1.0</td>\n",
              "      <td>2.0</td>\n",
              "      <td>NaN</td>\n",
              "      <td>2.0</td>\n",
              "      <td>2.0</td>\n",
              "      <td>2.0</td>\n",
              "      <td>2.0</td>\n",
              "      <td>2.0</td>\n",
              "      <td>1.0</td>\n",
              "      <td>2017.0</td>\n",
              "      <td>NaN</td>\n",
              "      <td>2017.0</td>\n",
              "      <td>2017.0</td>\n",
              "      <td>2017.0</td>\n",
              "      <td>2017.0</td>\n",
              "      <td>2017.0</td>\n",
              "    </tr>\n",
              "    <tr>\n",
              "      <th>694</th>\n",
              "      <td>1.0</td>\n",
              "      <td>2.0</td>\n",
              "      <td>NaN</td>\n",
              "      <td>2.0</td>\n",
              "      <td>2.0</td>\n",
              "      <td>2.0</td>\n",
              "      <td>2.0</td>\n",
              "      <td>2.0</td>\n",
              "      <td>1.0</td>\n",
              "      <td>2016.0</td>\n",
              "      <td>NaN</td>\n",
              "      <td>2016.0</td>\n",
              "      <td>2016.0</td>\n",
              "      <td>2016.0</td>\n",
              "      <td>2016.0</td>\n",
              "      <td>2016.0</td>\n",
              "    </tr>\n",
              "    <tr>\n",
              "      <th>701</th>\n",
              "      <td>1.0</td>\n",
              "      <td>4.0</td>\n",
              "      <td>NaN</td>\n",
              "      <td>4.0</td>\n",
              "      <td>4.0</td>\n",
              "      <td>4.0</td>\n",
              "      <td>4.0</td>\n",
              "      <td>4.0</td>\n",
              "      <td>1.0</td>\n",
              "      <td>2014.0</td>\n",
              "      <td>NaN</td>\n",
              "      <td>2014.0</td>\n",
              "      <td>2014.0</td>\n",
              "      <td>2014.0</td>\n",
              "      <td>2014.0</td>\n",
              "      <td>2014.0</td>\n",
              "    </tr>\n",
              "    <tr>\n",
              "      <th>741</th>\n",
              "      <td>1.0</td>\n",
              "      <td>3.0</td>\n",
              "      <td>NaN</td>\n",
              "      <td>3.0</td>\n",
              "      <td>3.0</td>\n",
              "      <td>3.0</td>\n",
              "      <td>3.0</td>\n",
              "      <td>3.0</td>\n",
              "      <td>1.0</td>\n",
              "      <td>2014.0</td>\n",
              "      <td>NaN</td>\n",
              "      <td>2014.0</td>\n",
              "      <td>2014.0</td>\n",
              "      <td>2014.0</td>\n",
              "      <td>2014.0</td>\n",
              "      <td>2014.0</td>\n",
              "    </tr>\n",
              "    <tr>\n",
              "      <th>756</th>\n",
              "      <td>1.0</td>\n",
              "      <td>1.0</td>\n",
              "      <td>NaN</td>\n",
              "      <td>1.0</td>\n",
              "      <td>1.0</td>\n",
              "      <td>1.0</td>\n",
              "      <td>1.0</td>\n",
              "      <td>1.0</td>\n",
              "      <td>1.0</td>\n",
              "      <td>2016.0</td>\n",
              "      <td>NaN</td>\n",
              "      <td>2016.0</td>\n",
              "      <td>2016.0</td>\n",
              "      <td>2016.0</td>\n",
              "      <td>2016.0</td>\n",
              "      <td>2016.0</td>\n",
              "    </tr>\n",
              "    <tr>\n",
              "      <th>788</th>\n",
              "      <td>1.0</td>\n",
              "      <td>1.0</td>\n",
              "      <td>NaN</td>\n",
              "      <td>1.0</td>\n",
              "      <td>1.0</td>\n",
              "      <td>1.0</td>\n",
              "      <td>1.0</td>\n",
              "      <td>1.0</td>\n",
              "      <td>1.0</td>\n",
              "      <td>2017.0</td>\n",
              "      <td>NaN</td>\n",
              "      <td>2017.0</td>\n",
              "      <td>2017.0</td>\n",
              "      <td>2017.0</td>\n",
              "      <td>2017.0</td>\n",
              "      <td>2017.0</td>\n",
              "    </tr>\n",
              "    <tr>\n",
              "      <th>789</th>\n",
              "      <td>1.0</td>\n",
              "      <td>2.0</td>\n",
              "      <td>NaN</td>\n",
              "      <td>2.0</td>\n",
              "      <td>2.0</td>\n",
              "      <td>2.0</td>\n",
              "      <td>2.0</td>\n",
              "      <td>2.0</td>\n",
              "      <td>1.0</td>\n",
              "      <td>2015.0</td>\n",
              "      <td>NaN</td>\n",
              "      <td>2015.0</td>\n",
              "      <td>2015.0</td>\n",
              "      <td>2015.0</td>\n",
              "      <td>2015.0</td>\n",
              "      <td>2015.0</td>\n",
              "    </tr>\n",
              "    <tr>\n",
              "      <th>804</th>\n",
              "      <td>1.0</td>\n",
              "      <td>1.0</td>\n",
              "      <td>NaN</td>\n",
              "      <td>1.0</td>\n",
              "      <td>1.0</td>\n",
              "      <td>1.0</td>\n",
              "      <td>1.0</td>\n",
              "      <td>1.0</td>\n",
              "      <td>1.0</td>\n",
              "      <td>2015.0</td>\n",
              "      <td>NaN</td>\n",
              "      <td>2015.0</td>\n",
              "      <td>2015.0</td>\n",
              "      <td>2015.0</td>\n",
              "      <td>2015.0</td>\n",
              "      <td>2015.0</td>\n",
              "    </tr>\n",
              "    <tr>\n",
              "      <th>812</th>\n",
              "      <td>1.0</td>\n",
              "      <td>4.0</td>\n",
              "      <td>NaN</td>\n",
              "      <td>4.0</td>\n",
              "      <td>4.0</td>\n",
              "      <td>4.0</td>\n",
              "      <td>4.0</td>\n",
              "      <td>4.0</td>\n",
              "      <td>1.0</td>\n",
              "      <td>2015.0</td>\n",
              "      <td>NaN</td>\n",
              "      <td>2015.0</td>\n",
              "      <td>2015.0</td>\n",
              "      <td>2015.0</td>\n",
              "      <td>2015.0</td>\n",
              "      <td>2015.0</td>\n",
              "    </tr>\n",
              "    <tr>\n",
              "      <th>863</th>\n",
              "      <td>1.0</td>\n",
              "      <td>2.0</td>\n",
              "      <td>NaN</td>\n",
              "      <td>2.0</td>\n",
              "      <td>2.0</td>\n",
              "      <td>2.0</td>\n",
              "      <td>2.0</td>\n",
              "      <td>2.0</td>\n",
              "      <td>1.0</td>\n",
              "      <td>2014.0</td>\n",
              "      <td>NaN</td>\n",
              "      <td>2014.0</td>\n",
              "      <td>2014.0</td>\n",
              "      <td>2014.0</td>\n",
              "      <td>2014.0</td>\n",
              "      <td>2014.0</td>\n",
              "    </tr>\n",
              "    <tr>\n",
              "      <th>876</th>\n",
              "      <td>1.0</td>\n",
              "      <td>1.0</td>\n",
              "      <td>NaN</td>\n",
              "      <td>1.0</td>\n",
              "      <td>1.0</td>\n",
              "      <td>1.0</td>\n",
              "      <td>1.0</td>\n",
              "      <td>1.0</td>\n",
              "      <td>1.0</td>\n",
              "      <td>2014.0</td>\n",
              "      <td>NaN</td>\n",
              "      <td>2014.0</td>\n",
              "      <td>2014.0</td>\n",
              "      <td>2014.0</td>\n",
              "      <td>2014.0</td>\n",
              "      <td>2014.0</td>\n",
              "    </tr>\n",
              "  </tbody>\n",
              "</table>\n",
              "</div>"
            ],
            "text/plain": [
              "        Rank                                    Year                      \\\n",
              "       count mean std  min  25%  50%  75%  max count    mean std     min   \n",
              "Points                                                                     \n",
              "673      1.0  3.0 NaN  3.0  3.0  3.0  3.0  3.0   1.0  2015.0 NaN  2015.0   \n",
              "690      1.0  2.0 NaN  2.0  2.0  2.0  2.0  2.0   1.0  2017.0 NaN  2017.0   \n",
              "694      1.0  2.0 NaN  2.0  2.0  2.0  2.0  2.0   1.0  2016.0 NaN  2016.0   \n",
              "701      1.0  4.0 NaN  4.0  4.0  4.0  4.0  4.0   1.0  2014.0 NaN  2014.0   \n",
              "741      1.0  3.0 NaN  3.0  3.0  3.0  3.0  3.0   1.0  2014.0 NaN  2014.0   \n",
              "756      1.0  1.0 NaN  1.0  1.0  1.0  1.0  1.0   1.0  2016.0 NaN  2016.0   \n",
              "788      1.0  1.0 NaN  1.0  1.0  1.0  1.0  1.0   1.0  2017.0 NaN  2017.0   \n",
              "789      1.0  2.0 NaN  2.0  2.0  2.0  2.0  2.0   1.0  2015.0 NaN  2015.0   \n",
              "804      1.0  1.0 NaN  1.0  1.0  1.0  1.0  1.0   1.0  2015.0 NaN  2015.0   \n",
              "812      1.0  4.0 NaN  4.0  4.0  4.0  4.0  4.0   1.0  2015.0 NaN  2015.0   \n",
              "863      1.0  2.0 NaN  2.0  2.0  2.0  2.0  2.0   1.0  2014.0 NaN  2014.0   \n",
              "876      1.0  1.0 NaN  1.0  1.0  1.0  1.0  1.0   1.0  2014.0 NaN  2014.0   \n",
              "\n",
              "                                        \n",
              "           25%     50%     75%     max  \n",
              "Points                                  \n",
              "673     2015.0  2015.0  2015.0  2015.0  \n",
              "690     2017.0  2017.0  2017.0  2017.0  \n",
              "694     2016.0  2016.0  2016.0  2016.0  \n",
              "701     2014.0  2014.0  2014.0  2014.0  \n",
              "741     2014.0  2014.0  2014.0  2014.0  \n",
              "756     2016.0  2016.0  2016.0  2016.0  \n",
              "788     2017.0  2017.0  2017.0  2017.0  \n",
              "789     2015.0  2015.0  2015.0  2015.0  \n",
              "804     2015.0  2015.0  2015.0  2015.0  \n",
              "812     2015.0  2015.0  2015.0  2015.0  \n",
              "863     2014.0  2014.0  2014.0  2014.0  \n",
              "876     2014.0  2014.0  2014.0  2014.0  "
            ]
          },
          "metadata": {
            "tags": []
          },
          "execution_count": 21
        }
      ]
    },
    {
      "metadata": {
        "id": "7pNQa8qTnx_B",
        "colab_type": "code",
        "colab": {
          "base_uri": "https://localhost:8080/",
          "height": 255
        },
        "outputId": "e633fa53-692a-446c-cc18-cf332a9530fa"
      },
      "cell_type": "code",
      "source": [
        "year_g.describe()"
      ],
      "execution_count": 22,
      "outputs": [
        {
          "output_type": "execute_result",
          "data": {
            "text/html": [
              "<div>\n",
              "<style scoped>\n",
              "    .dataframe tbody tr th:only-of-type {\n",
              "        vertical-align: middle;\n",
              "    }\n",
              "\n",
              "    .dataframe tbody tr th {\n",
              "        vertical-align: top;\n",
              "    }\n",
              "\n",
              "    .dataframe thead tr th {\n",
              "        text-align: left;\n",
              "    }\n",
              "\n",
              "    .dataframe thead tr:last-of-type th {\n",
              "        text-align: right;\n",
              "    }\n",
              "</style>\n",
              "<table border=\"1\" class=\"dataframe\">\n",
              "  <thead>\n",
              "    <tr>\n",
              "      <th></th>\n",
              "      <th colspan=\"8\" halign=\"left\">Points</th>\n",
              "      <th colspan=\"8\" halign=\"left\">Rank</th>\n",
              "    </tr>\n",
              "    <tr>\n",
              "      <th></th>\n",
              "      <th>count</th>\n",
              "      <th>mean</th>\n",
              "      <th>std</th>\n",
              "      <th>min</th>\n",
              "      <th>25%</th>\n",
              "      <th>50%</th>\n",
              "      <th>75%</th>\n",
              "      <th>max</th>\n",
              "      <th>count</th>\n",
              "      <th>mean</th>\n",
              "      <th>std</th>\n",
              "      <th>min</th>\n",
              "      <th>25%</th>\n",
              "      <th>50%</th>\n",
              "      <th>75%</th>\n",
              "      <th>max</th>\n",
              "    </tr>\n",
              "    <tr>\n",
              "      <th>Year</th>\n",
              "      <th></th>\n",
              "      <th></th>\n",
              "      <th></th>\n",
              "      <th></th>\n",
              "      <th></th>\n",
              "      <th></th>\n",
              "      <th></th>\n",
              "      <th></th>\n",
              "      <th></th>\n",
              "      <th></th>\n",
              "      <th></th>\n",
              "      <th></th>\n",
              "      <th></th>\n",
              "      <th></th>\n",
              "      <th></th>\n",
              "      <th></th>\n",
              "    </tr>\n",
              "  </thead>\n",
              "  <tbody>\n",
              "    <tr>\n",
              "      <th>2014</th>\n",
              "      <td>4.0</td>\n",
              "      <td>795.25</td>\n",
              "      <td>87.439026</td>\n",
              "      <td>701.0</td>\n",
              "      <td>731.0</td>\n",
              "      <td>802.0</td>\n",
              "      <td>866.25</td>\n",
              "      <td>876.0</td>\n",
              "      <td>4.0</td>\n",
              "      <td>2.5</td>\n",
              "      <td>1.290994</td>\n",
              "      <td>1.0</td>\n",
              "      <td>1.75</td>\n",
              "      <td>2.5</td>\n",
              "      <td>3.25</td>\n",
              "      <td>4.0</td>\n",
              "    </tr>\n",
              "    <tr>\n",
              "      <th>2015</th>\n",
              "      <td>4.0</td>\n",
              "      <td>769.50</td>\n",
              "      <td>65.035888</td>\n",
              "      <td>673.0</td>\n",
              "      <td>760.0</td>\n",
              "      <td>796.5</td>\n",
              "      <td>806.00</td>\n",
              "      <td>812.0</td>\n",
              "      <td>4.0</td>\n",
              "      <td>2.5</td>\n",
              "      <td>1.290994</td>\n",
              "      <td>1.0</td>\n",
              "      <td>1.75</td>\n",
              "      <td>2.5</td>\n",
              "      <td>3.25</td>\n",
              "      <td>4.0</td>\n",
              "    </tr>\n",
              "    <tr>\n",
              "      <th>2016</th>\n",
              "      <td>2.0</td>\n",
              "      <td>725.00</td>\n",
              "      <td>43.840620</td>\n",
              "      <td>694.0</td>\n",
              "      <td>709.5</td>\n",
              "      <td>725.0</td>\n",
              "      <td>740.50</td>\n",
              "      <td>756.0</td>\n",
              "      <td>2.0</td>\n",
              "      <td>1.5</td>\n",
              "      <td>0.707107</td>\n",
              "      <td>1.0</td>\n",
              "      <td>1.25</td>\n",
              "      <td>1.5</td>\n",
              "      <td>1.75</td>\n",
              "      <td>2.0</td>\n",
              "    </tr>\n",
              "    <tr>\n",
              "      <th>2017</th>\n",
              "      <td>2.0</td>\n",
              "      <td>739.00</td>\n",
              "      <td>69.296465</td>\n",
              "      <td>690.0</td>\n",
              "      <td>714.5</td>\n",
              "      <td>739.0</td>\n",
              "      <td>763.50</td>\n",
              "      <td>788.0</td>\n",
              "      <td>2.0</td>\n",
              "      <td>1.5</td>\n",
              "      <td>0.707107</td>\n",
              "      <td>1.0</td>\n",
              "      <td>1.25</td>\n",
              "      <td>1.5</td>\n",
              "      <td>1.75</td>\n",
              "      <td>2.0</td>\n",
              "    </tr>\n",
              "  </tbody>\n",
              "</table>\n",
              "</div>"
            ],
            "text/plain": [
              "     Points                                                         Rank       \\\n",
              "      count    mean        std    min    25%    50%     75%    max count mean   \n",
              "Year                                                                            \n",
              "2014    4.0  795.25  87.439026  701.0  731.0  802.0  866.25  876.0   4.0  2.5   \n",
              "2015    4.0  769.50  65.035888  673.0  760.0  796.5  806.00  812.0   4.0  2.5   \n",
              "2016    2.0  725.00  43.840620  694.0  709.5  725.0  740.50  756.0   2.0  1.5   \n",
              "2017    2.0  739.00  69.296465  690.0  714.5  739.0  763.50  788.0   2.0  1.5   \n",
              "\n",
              "                                           \n",
              "           std  min   25%  50%   75%  max  \n",
              "Year                                       \n",
              "2014  1.290994  1.0  1.75  2.5  3.25  4.0  \n",
              "2015  1.290994  1.0  1.75  2.5  3.25  4.0  \n",
              "2016  0.707107  1.0  1.25  1.5  1.75  2.0  \n",
              "2017  0.707107  1.0  1.25  1.5  1.75  2.0  "
            ]
          },
          "metadata": {
            "tags": []
          },
          "execution_count": 22
        }
      ]
    },
    {
      "metadata": {
        "id": "ddSWEOz7nyCz",
        "colab_type": "code",
        "colab": {
          "base_uri": "https://localhost:8080/",
          "height": 255
        },
        "outputId": "1cc6e007-1a8f-4c7e-e673-7c853c1b70d1"
      },
      "cell_type": "code",
      "source": [
        "rank_g.describe()"
      ],
      "execution_count": 23,
      "outputs": [
        {
          "output_type": "execute_result",
          "data": {
            "text/html": [
              "<div>\n",
              "<style scoped>\n",
              "    .dataframe tbody tr th:only-of-type {\n",
              "        vertical-align: middle;\n",
              "    }\n",
              "\n",
              "    .dataframe tbody tr th {\n",
              "        vertical-align: top;\n",
              "    }\n",
              "\n",
              "    .dataframe thead tr th {\n",
              "        text-align: left;\n",
              "    }\n",
              "\n",
              "    .dataframe thead tr:last-of-type th {\n",
              "        text-align: right;\n",
              "    }\n",
              "</style>\n",
              "<table border=\"1\" class=\"dataframe\">\n",
              "  <thead>\n",
              "    <tr>\n",
              "      <th></th>\n",
              "      <th colspan=\"8\" halign=\"left\">Points</th>\n",
              "      <th colspan=\"8\" halign=\"left\">Year</th>\n",
              "    </tr>\n",
              "    <tr>\n",
              "      <th></th>\n",
              "      <th>count</th>\n",
              "      <th>mean</th>\n",
              "      <th>std</th>\n",
              "      <th>min</th>\n",
              "      <th>25%</th>\n",
              "      <th>50%</th>\n",
              "      <th>75%</th>\n",
              "      <th>max</th>\n",
              "      <th>count</th>\n",
              "      <th>mean</th>\n",
              "      <th>std</th>\n",
              "      <th>min</th>\n",
              "      <th>25%</th>\n",
              "      <th>50%</th>\n",
              "      <th>75%</th>\n",
              "      <th>max</th>\n",
              "    </tr>\n",
              "    <tr>\n",
              "      <th>Rank</th>\n",
              "      <th></th>\n",
              "      <th></th>\n",
              "      <th></th>\n",
              "      <th></th>\n",
              "      <th></th>\n",
              "      <th></th>\n",
              "      <th></th>\n",
              "      <th></th>\n",
              "      <th></th>\n",
              "      <th></th>\n",
              "      <th></th>\n",
              "      <th></th>\n",
              "      <th></th>\n",
              "      <th></th>\n",
              "      <th></th>\n",
              "      <th></th>\n",
              "    </tr>\n",
              "  </thead>\n",
              "  <tbody>\n",
              "    <tr>\n",
              "      <th>1</th>\n",
              "      <td>4.0</td>\n",
              "      <td>806.0</td>\n",
              "      <td>50.754310</td>\n",
              "      <td>756.0</td>\n",
              "      <td>780.00</td>\n",
              "      <td>796.0</td>\n",
              "      <td>822.00</td>\n",
              "      <td>876.0</td>\n",
              "      <td>4.0</td>\n",
              "      <td>2015.5</td>\n",
              "      <td>1.290994</td>\n",
              "      <td>2014.0</td>\n",
              "      <td>2014.75</td>\n",
              "      <td>2015.5</td>\n",
              "      <td>2016.25</td>\n",
              "      <td>2017.0</td>\n",
              "    </tr>\n",
              "    <tr>\n",
              "      <th>2</th>\n",
              "      <td>4.0</td>\n",
              "      <td>759.0</td>\n",
              "      <td>83.070251</td>\n",
              "      <td>690.0</td>\n",
              "      <td>693.00</td>\n",
              "      <td>741.5</td>\n",
              "      <td>807.50</td>\n",
              "      <td>863.0</td>\n",
              "      <td>4.0</td>\n",
              "      <td>2015.5</td>\n",
              "      <td>1.290994</td>\n",
              "      <td>2014.0</td>\n",
              "      <td>2014.75</td>\n",
              "      <td>2015.5</td>\n",
              "      <td>2016.25</td>\n",
              "      <td>2017.0</td>\n",
              "    </tr>\n",
              "    <tr>\n",
              "      <th>3</th>\n",
              "      <td>2.0</td>\n",
              "      <td>707.0</td>\n",
              "      <td>48.083261</td>\n",
              "      <td>673.0</td>\n",
              "      <td>690.00</td>\n",
              "      <td>707.0</td>\n",
              "      <td>724.00</td>\n",
              "      <td>741.0</td>\n",
              "      <td>2.0</td>\n",
              "      <td>2014.5</td>\n",
              "      <td>0.707107</td>\n",
              "      <td>2014.0</td>\n",
              "      <td>2014.25</td>\n",
              "      <td>2014.5</td>\n",
              "      <td>2014.75</td>\n",
              "      <td>2015.0</td>\n",
              "    </tr>\n",
              "    <tr>\n",
              "      <th>4</th>\n",
              "      <td>2.0</td>\n",
              "      <td>756.5</td>\n",
              "      <td>78.488853</td>\n",
              "      <td>701.0</td>\n",
              "      <td>728.75</td>\n",
              "      <td>756.5</td>\n",
              "      <td>784.25</td>\n",
              "      <td>812.0</td>\n",
              "      <td>2.0</td>\n",
              "      <td>2014.5</td>\n",
              "      <td>0.707107</td>\n",
              "      <td>2014.0</td>\n",
              "      <td>2014.25</td>\n",
              "      <td>2014.5</td>\n",
              "      <td>2014.75</td>\n",
              "      <td>2015.0</td>\n",
              "    </tr>\n",
              "  </tbody>\n",
              "</table>\n",
              "</div>"
            ],
            "text/plain": [
              "     Points                                                         Year  \\\n",
              "      count   mean        std    min     25%    50%     75%    max count   \n",
              "Rank                                                                       \n",
              "1       4.0  806.0  50.754310  756.0  780.00  796.0  822.00  876.0   4.0   \n",
              "2       4.0  759.0  83.070251  690.0  693.00  741.5  807.50  863.0   4.0   \n",
              "3       2.0  707.0  48.083261  673.0  690.00  707.0  724.00  741.0   2.0   \n",
              "4       2.0  756.5  78.488853  701.0  728.75  756.5  784.25  812.0   2.0   \n",
              "\n",
              "                                                                  \n",
              "        mean       std     min      25%     50%      75%     max  \n",
              "Rank                                                              \n",
              "1     2015.5  1.290994  2014.0  2014.75  2015.5  2016.25  2017.0  \n",
              "2     2015.5  1.290994  2014.0  2014.75  2015.5  2016.25  2017.0  \n",
              "3     2014.5  0.707107  2014.0  2014.25  2014.5  2014.75  2015.0  \n",
              "4     2014.5  0.707107  2014.0  2014.25  2014.5  2014.75  2015.0  "
            ]
          },
          "metadata": {
            "tags": []
          },
          "execution_count": 23
        }
      ]
    },
    {
      "metadata": {
        "id": "srv40fNRnyGv",
        "colab_type": "code",
        "colab": {}
      },
      "cell_type": "code",
      "source": [
        ""
      ],
      "execution_count": 0,
      "outputs": []
    },
    {
      "metadata": {
        "id": "9sPUApSknMN2",
        "colab_type": "text"
      },
      "cell_type": "markdown",
      "source": [
        "# based on both 'team' & 'year'"
      ]
    },
    {
      "metadata": {
        "id": "tdWkqZAHmbiK",
        "colab_type": "code",
        "colab": {
          "base_uri": "https://localhost:8080/",
          "height": 221
        },
        "outputId": "868999d0-0550-4a64-e6ab-83a9d0f04be1"
      },
      "cell_type": "code",
      "source": [
        "df.groupby(['Team','Year']).groups"
      ],
      "execution_count": 18,
      "outputs": [
        {
          "output_type": "execute_result",
          "data": {
            "text/plain": [
              "{('Devils', 2014): Int64Index([2], dtype='int64'),\n",
              " ('Devils', 2015): Int64Index([3], dtype='int64'),\n",
              " ('Kings', 2014): Int64Index([4], dtype='int64'),\n",
              " ('Kings', 2016): Int64Index([6], dtype='int64'),\n",
              " ('Kings', 2017): Int64Index([7], dtype='int64'),\n",
              " ('Riders', 2014): Int64Index([0], dtype='int64'),\n",
              " ('Riders', 2015): Int64Index([1], dtype='int64'),\n",
              " ('Riders', 2016): Int64Index([8], dtype='int64'),\n",
              " ('Riders', 2017): Int64Index([11], dtype='int64'),\n",
              " ('Royals', 2014): Int64Index([9], dtype='int64'),\n",
              " ('Royals', 2015): Int64Index([10], dtype='int64'),\n",
              " ('kings', 2015): Int64Index([5], dtype='int64')}"
            ]
          },
          "metadata": {
            "tags": []
          },
          "execution_count": 18
        }
      ]
    },
    {
      "metadata": {
        "id": "5eGvnEZooXil",
        "colab_type": "text"
      },
      "cell_type": "markdown",
      "source": [
        "# Extract Value"
      ]
    },
    {
      "metadata": {
        "id": "p27gHw0-mbl7",
        "colab_type": "code",
        "colab": {
          "base_uri": "https://localhost:8080/",
          "height": 102
        },
        "outputId": "13a26f65-4ed6-458c-9ca8-22172907d594"
      },
      "cell_type": "code",
      "source": [
        "grouped = df.groupby('Year')  # split the dataset based on year and make various unique groups\n",
        "print (grouped.get_group(2014))   # pick a group manually"
      ],
      "execution_count": 24,
      "outputs": [
        {
          "output_type": "stream",
          "text": [
            "   Points  Rank    Team  Year\n",
            "0     876     1  Riders  2014\n",
            "2     863     2  Devils  2014\n",
            "4     741     3   Kings  2014\n",
            "9     701     4  Royals  2014\n"
          ],
          "name": "stdout"
        }
      ]
    },
    {
      "metadata": {
        "id": "kSmCAWFao87f",
        "colab_type": "text"
      },
      "cell_type": "markdown",
      "source": [
        "#Once the group by object is created, several aggregation operations can be performed on the grouped data."
      ]
    },
    {
      "metadata": {
        "id": "WNayg4JjpUSs",
        "colab_type": "code",
        "colab": {}
      },
      "cell_type": "code",
      "source": [
        "import numpy as np"
      ],
      "execution_count": 0,
      "outputs": []
    },
    {
      "metadata": {
        "id": "cfNVG-uJmbgw",
        "colab_type": "code",
        "colab": {
          "base_uri": "https://localhost:8080/",
          "height": 119
        },
        "outputId": "5319670f-b682-4eae-b05b-36a03a10ea2a"
      },
      "cell_type": "code",
      "source": [
        "grouped = df.groupby('Year')\n",
        "print(grouped['Points'].agg(np.mean))  # calculate the meadian of all the points from each group of years."
      ],
      "execution_count": 27,
      "outputs": [
        {
          "output_type": "stream",
          "text": [
            "Year\n",
            "2014    795.25\n",
            "2015    769.50\n",
            "2016    725.00\n",
            "2017    739.00\n",
            "Name: Points, dtype: float64\n"
          ],
          "name": "stdout"
        }
      ]
    },
    {
      "metadata": {
        "id": "8ZtG1xdKpxfO",
        "colab_type": "code",
        "colab": {
          "base_uri": "https://localhost:8080/",
          "height": 421
        },
        "outputId": "d5d05a7f-f460-442d-b728-ee0555698bd2"
      },
      "cell_type": "code",
      "source": [
        "df"
      ],
      "execution_count": 29,
      "outputs": [
        {
          "output_type": "execute_result",
          "data": {
            "text/html": [
              "<div>\n",
              "<style scoped>\n",
              "    .dataframe tbody tr th:only-of-type {\n",
              "        vertical-align: middle;\n",
              "    }\n",
              "\n",
              "    .dataframe tbody tr th {\n",
              "        vertical-align: top;\n",
              "    }\n",
              "\n",
              "    .dataframe thead th {\n",
              "        text-align: right;\n",
              "    }\n",
              "</style>\n",
              "<table border=\"1\" class=\"dataframe\">\n",
              "  <thead>\n",
              "    <tr style=\"text-align: right;\">\n",
              "      <th></th>\n",
              "      <th>Points</th>\n",
              "      <th>Rank</th>\n",
              "      <th>Team</th>\n",
              "      <th>Year</th>\n",
              "    </tr>\n",
              "  </thead>\n",
              "  <tbody>\n",
              "    <tr>\n",
              "      <th>0</th>\n",
              "      <td>876</td>\n",
              "      <td>1</td>\n",
              "      <td>Riders</td>\n",
              "      <td>2014</td>\n",
              "    </tr>\n",
              "    <tr>\n",
              "      <th>1</th>\n",
              "      <td>789</td>\n",
              "      <td>2</td>\n",
              "      <td>Riders</td>\n",
              "      <td>2015</td>\n",
              "    </tr>\n",
              "    <tr>\n",
              "      <th>2</th>\n",
              "      <td>863</td>\n",
              "      <td>2</td>\n",
              "      <td>Devils</td>\n",
              "      <td>2014</td>\n",
              "    </tr>\n",
              "    <tr>\n",
              "      <th>3</th>\n",
              "      <td>673</td>\n",
              "      <td>3</td>\n",
              "      <td>Devils</td>\n",
              "      <td>2015</td>\n",
              "    </tr>\n",
              "    <tr>\n",
              "      <th>4</th>\n",
              "      <td>741</td>\n",
              "      <td>3</td>\n",
              "      <td>Kings</td>\n",
              "      <td>2014</td>\n",
              "    </tr>\n",
              "    <tr>\n",
              "      <th>5</th>\n",
              "      <td>812</td>\n",
              "      <td>4</td>\n",
              "      <td>kings</td>\n",
              "      <td>2015</td>\n",
              "    </tr>\n",
              "    <tr>\n",
              "      <th>6</th>\n",
              "      <td>756</td>\n",
              "      <td>1</td>\n",
              "      <td>Kings</td>\n",
              "      <td>2016</td>\n",
              "    </tr>\n",
              "    <tr>\n",
              "      <th>7</th>\n",
              "      <td>788</td>\n",
              "      <td>1</td>\n",
              "      <td>Kings</td>\n",
              "      <td>2017</td>\n",
              "    </tr>\n",
              "    <tr>\n",
              "      <th>8</th>\n",
              "      <td>694</td>\n",
              "      <td>2</td>\n",
              "      <td>Riders</td>\n",
              "      <td>2016</td>\n",
              "    </tr>\n",
              "    <tr>\n",
              "      <th>9</th>\n",
              "      <td>701</td>\n",
              "      <td>4</td>\n",
              "      <td>Royals</td>\n",
              "      <td>2014</td>\n",
              "    </tr>\n",
              "    <tr>\n",
              "      <th>10</th>\n",
              "      <td>804</td>\n",
              "      <td>1</td>\n",
              "      <td>Royals</td>\n",
              "      <td>2015</td>\n",
              "    </tr>\n",
              "    <tr>\n",
              "      <th>11</th>\n",
              "      <td>690</td>\n",
              "      <td>2</td>\n",
              "      <td>Riders</td>\n",
              "      <td>2017</td>\n",
              "    </tr>\n",
              "  </tbody>\n",
              "</table>\n",
              "</div>"
            ],
            "text/plain": [
              "    Points  Rank    Team  Year\n",
              "0      876     1  Riders  2014\n",
              "1      789     2  Riders  2015\n",
              "2      863     2  Devils  2014\n",
              "3      673     3  Devils  2015\n",
              "4      741     3   Kings  2014\n",
              "5      812     4   kings  2015\n",
              "6      756     1   Kings  2016\n",
              "7      788     1   Kings  2017\n",
              "8      694     2  Riders  2016\n",
              "9      701     4  Royals  2014\n",
              "10     804     1  Royals  2015\n",
              "11     690     2  Riders  2017"
            ]
          },
          "metadata": {
            "tags": []
          },
          "execution_count": 29
        }
      ]
    },
    {
      "metadata": {
        "id": "lIFAGCl8p3sG",
        "colab_type": "code",
        "colab": {
          "base_uri": "https://localhost:8080/",
          "height": 102
        },
        "outputId": "d8f48032-67a3-4cb2-90f2-37de9a8d3fe8"
      },
      "cell_type": "code",
      "source": [
        "grouped = df.groupby('Team')\n",
        "grouped.groups"
      ],
      "execution_count": 31,
      "outputs": [
        {
          "output_type": "execute_result",
          "data": {
            "text/plain": [
              "{'Devils': Int64Index([2, 3], dtype='int64'),\n",
              " 'Kings': Int64Index([4, 6, 7], dtype='int64'),\n",
              " 'Riders': Int64Index([0, 1, 8, 11], dtype='int64'),\n",
              " 'Royals': Int64Index([9, 10], dtype='int64'),\n",
              " 'kings': Int64Index([5], dtype='int64')}"
            ]
          },
          "metadata": {
            "tags": []
          },
          "execution_count": 31
        }
      ]
    },
    {
      "metadata": {
        "id": "vQaQG5Avmbes",
        "colab_type": "code",
        "colab": {
          "base_uri": "https://localhost:8080/",
          "height": 136
        },
        "outputId": "63d34ef9-f08a-4aea-a6fd-64bbd855ec57"
      },
      "cell_type": "code",
      "source": [
        "grouped = df.groupby('Team')\n",
        "print(grouped.agg(np.size))"
      ],
      "execution_count": 28,
      "outputs": [
        {
          "output_type": "stream",
          "text": [
            "        Points  Rank  Year\n",
            "Team                      \n",
            "Devils       2     2     2\n",
            "Kings        3     3     3\n",
            "Riders       4     4     4\n",
            "Royals       2     2     2\n",
            "kings        1     1     1\n"
          ],
          "name": "stdout"
        }
      ]
    },
    {
      "metadata": {
        "id": "oi2EjEPimbcd",
        "colab_type": "code",
        "colab": {
          "base_uri": "https://localhost:8080/",
          "height": 235
        },
        "outputId": "398f23ca-dd80-4184-89ee-cd6927059117"
      },
      "cell_type": "code",
      "source": [
        "grouped['Points'].agg([np.sum, np.mean, np.std])"
      ],
      "execution_count": 32,
      "outputs": [
        {
          "output_type": "execute_result",
          "data": {
            "text/html": [
              "<div>\n",
              "<style scoped>\n",
              "    .dataframe tbody tr th:only-of-type {\n",
              "        vertical-align: middle;\n",
              "    }\n",
              "\n",
              "    .dataframe tbody tr th {\n",
              "        vertical-align: top;\n",
              "    }\n",
              "\n",
              "    .dataframe thead th {\n",
              "        text-align: right;\n",
              "    }\n",
              "</style>\n",
              "<table border=\"1\" class=\"dataframe\">\n",
              "  <thead>\n",
              "    <tr style=\"text-align: right;\">\n",
              "      <th></th>\n",
              "      <th>sum</th>\n",
              "      <th>mean</th>\n",
              "      <th>std</th>\n",
              "    </tr>\n",
              "    <tr>\n",
              "      <th>Team</th>\n",
              "      <th></th>\n",
              "      <th></th>\n",
              "      <th></th>\n",
              "    </tr>\n",
              "  </thead>\n",
              "  <tbody>\n",
              "    <tr>\n",
              "      <th>Devils</th>\n",
              "      <td>1536</td>\n",
              "      <td>768.000000</td>\n",
              "      <td>134.350288</td>\n",
              "    </tr>\n",
              "    <tr>\n",
              "      <th>Kings</th>\n",
              "      <td>2285</td>\n",
              "      <td>761.666667</td>\n",
              "      <td>24.006943</td>\n",
              "    </tr>\n",
              "    <tr>\n",
              "      <th>Riders</th>\n",
              "      <td>3049</td>\n",
              "      <td>762.250000</td>\n",
              "      <td>88.567771</td>\n",
              "    </tr>\n",
              "    <tr>\n",
              "      <th>Royals</th>\n",
              "      <td>1505</td>\n",
              "      <td>752.500000</td>\n",
              "      <td>72.831998</td>\n",
              "    </tr>\n",
              "    <tr>\n",
              "      <th>kings</th>\n",
              "      <td>812</td>\n",
              "      <td>812.000000</td>\n",
              "      <td>NaN</td>\n",
              "    </tr>\n",
              "  </tbody>\n",
              "</table>\n",
              "</div>"
            ],
            "text/plain": [
              "         sum        mean         std\n",
              "Team                                \n",
              "Devils  1536  768.000000  134.350288\n",
              "Kings   2285  761.666667   24.006943\n",
              "Riders  3049  762.250000   88.567771\n",
              "Royals  1505  752.500000   72.831998\n",
              "kings    812  812.000000         NaN"
            ]
          },
          "metadata": {
            "tags": []
          },
          "execution_count": 32
        }
      ]
    }
  ]
}