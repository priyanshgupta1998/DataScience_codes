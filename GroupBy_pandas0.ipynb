{
  "nbformat": 4,
  "nbformat_minor": 0,
  "metadata": {
    "colab": {
      "name": "TensorFlow with GPU",
      "version": "0.3.2",
      "provenance": [],
      "collapsed_sections": [],
      "toc_visible": true,
      "include_colab_link": true
    },
    "kernelspec": {
      "display_name": "Python 3",
      "name": "python3"
    }
  },
  "cells": [
    {
      "cell_type": "markdown",
      "metadata": {
        "id": "view-in-github",
        "colab_type": "text"
      },
      "source": [
        "<a href=\"https://colab.research.google.com/github/priyanshgupta1998/DataScience_codes/blob/master/GroupBy_pandas0.ipynb\" target=\"_parent\"><img src=\"https://colab.research.google.com/assets/colab-badge.svg\" alt=\"Open In Colab\"/></a>"
      ]
    },
    {
      "metadata": {
        "id": "zAsbFo_7ZPY8",
        "colab_type": "text"
      },
      "cell_type": "markdown",
      "source": [
        "#Pandas - GroupBy()"
      ]
    },
    {
      "metadata": {
        "id": "OPHc4nkIZVo9",
        "colab_type": "text"
      },
      "cell_type": "markdown",
      "source": [
        "1. split the data into subsets\n",
        "2. apply some funtioning on each subsets and do analytics on each subset  ,(IN COLUMNS WHICH HAS NUMERICAL VALUES )\n",
        "3. combining the result"
      ]
    },
    {
      "metadata": {
        "id": "FLF5IYVaY-pe",
        "colab_type": "code",
        "colab": {
          "base_uri": "https://localhost:8080/",
          "height": 452
        },
        "outputId": "4dad4f09-e198-4110-dd68-502d6cd7d3db"
      },
      "cell_type": "code",
      "source": [
        "import pandas as pd\n",
        "df = pd.read_csv(\"/home/weather_by_cities.csv\")\n",
        "df"
      ],
      "execution_count": 35,
      "outputs": [
        {
          "output_type": "execute_result",
          "data": {
            "text/html": [
              "<div>\n",
              "<style scoped>\n",
              "    .dataframe tbody tr th:only-of-type {\n",
              "        vertical-align: middle;\n",
              "    }\n",
              "\n",
              "    .dataframe tbody tr th {\n",
              "        vertical-align: top;\n",
              "    }\n",
              "\n",
              "    .dataframe thead th {\n",
              "        text-align: right;\n",
              "    }\n",
              "</style>\n",
              "<table border=\"1\" class=\"dataframe\">\n",
              "  <thead>\n",
              "    <tr style=\"text-align: right;\">\n",
              "      <th></th>\n",
              "      <th>day</th>\n",
              "      <th>city</th>\n",
              "      <th>temperature</th>\n",
              "      <th>windspeed</th>\n",
              "      <th>event</th>\n",
              "    </tr>\n",
              "  </thead>\n",
              "  <tbody>\n",
              "    <tr>\n",
              "      <th>0</th>\n",
              "      <td>1/1/2017</td>\n",
              "      <td>new york</td>\n",
              "      <td>32</td>\n",
              "      <td>6</td>\n",
              "      <td>Rain</td>\n",
              "    </tr>\n",
              "    <tr>\n",
              "      <th>1</th>\n",
              "      <td>1/2/2017</td>\n",
              "      <td>new york</td>\n",
              "      <td>36</td>\n",
              "      <td>7</td>\n",
              "      <td>Sunny</td>\n",
              "    </tr>\n",
              "    <tr>\n",
              "      <th>2</th>\n",
              "      <td>1/3/2017</td>\n",
              "      <td>new york</td>\n",
              "      <td>28</td>\n",
              "      <td>12</td>\n",
              "      <td>Snow</td>\n",
              "    </tr>\n",
              "    <tr>\n",
              "      <th>3</th>\n",
              "      <td>1/4/2017</td>\n",
              "      <td>new york</td>\n",
              "      <td>33</td>\n",
              "      <td>7</td>\n",
              "      <td>Sunny</td>\n",
              "    </tr>\n",
              "    <tr>\n",
              "      <th>4</th>\n",
              "      <td>1/4/2017</td>\n",
              "      <td>mumbai</td>\n",
              "      <td>42</td>\n",
              "      <td>10</td>\n",
              "      <td>Sunny</td>\n",
              "    </tr>\n",
              "    <tr>\n",
              "      <th>5</th>\n",
              "      <td>1/1/2017</td>\n",
              "      <td>mumbai</td>\n",
              "      <td>90</td>\n",
              "      <td>5</td>\n",
              "      <td>Sunny</td>\n",
              "    </tr>\n",
              "    <tr>\n",
              "      <th>6</th>\n",
              "      <td>1/2/2017</td>\n",
              "      <td>mumbai</td>\n",
              "      <td>85</td>\n",
              "      <td>12</td>\n",
              "      <td>Fog</td>\n",
              "    </tr>\n",
              "    <tr>\n",
              "      <th>7</th>\n",
              "      <td>1/3/2017</td>\n",
              "      <td>mumbai</td>\n",
              "      <td>87</td>\n",
              "      <td>15</td>\n",
              "      <td>Fog</td>\n",
              "    </tr>\n",
              "    <tr>\n",
              "      <th>8</th>\n",
              "      <td>1/4/2017</td>\n",
              "      <td>mumbai</td>\n",
              "      <td>92</td>\n",
              "      <td>5</td>\n",
              "      <td>Rain</td>\n",
              "    </tr>\n",
              "    <tr>\n",
              "      <th>9</th>\n",
              "      <td>1/1/2017</td>\n",
              "      <td>paris</td>\n",
              "      <td>45</td>\n",
              "      <td>20</td>\n",
              "      <td>Sunny</td>\n",
              "    </tr>\n",
              "    <tr>\n",
              "      <th>10</th>\n",
              "      <td>1/2/2017</td>\n",
              "      <td>paris</td>\n",
              "      <td>50</td>\n",
              "      <td>13</td>\n",
              "      <td>Cloudy</td>\n",
              "    </tr>\n",
              "    <tr>\n",
              "      <th>11</th>\n",
              "      <td>1/3/2017</td>\n",
              "      <td>paris</td>\n",
              "      <td>54</td>\n",
              "      <td>8</td>\n",
              "      <td>Cloudy</td>\n",
              "    </tr>\n",
              "    <tr>\n",
              "      <th>12</th>\n",
              "      <td>1/4/2017</td>\n",
              "      <td>paris</td>\n",
              "      <td>42</td>\n",
              "      <td>10</td>\n",
              "      <td>Cloudy</td>\n",
              "    </tr>\n",
              "  </tbody>\n",
              "</table>\n",
              "</div>"
            ],
            "text/plain": [
              "         day      city  temperature  windspeed   event\n",
              "0   1/1/2017  new york           32          6    Rain\n",
              "1   1/2/2017  new york           36          7   Sunny\n",
              "2   1/3/2017  new york           28         12    Snow\n",
              "3   1/4/2017  new york           33          7   Sunny\n",
              "4   1/4/2017    mumbai           42         10   Sunny\n",
              "5   1/1/2017    mumbai           90          5   Sunny\n",
              "6   1/2/2017    mumbai           85         12     Fog\n",
              "7   1/3/2017    mumbai           87         15     Fog\n",
              "8   1/4/2017    mumbai           92          5    Rain\n",
              "9   1/1/2017     paris           45         20   Sunny\n",
              "10  1/2/2017     paris           50         13  Cloudy\n",
              "11  1/3/2017     paris           54          8  Cloudy\n",
              "12  1/4/2017     paris           42         10  Cloudy"
            ]
          },
          "metadata": {
            "tags": []
          },
          "execution_count": 35
        }
      ]
    },
    {
      "metadata": {
        "id": "Mxz6QPS_a_DS",
        "colab_type": "text"
      },
      "cell_type": "markdown",
      "source": [
        "Here ,we will make a group of same 'items'.\n",
        "\n",
        "Ex. In the following instance same city variables will make a unique group ."
      ]
    },
    {
      "metadata": {
        "id": "WzK7iM2GY-vM",
        "colab_type": "code",
        "colab": {
          "base_uri": "https://localhost:8080/",
          "height": 34
        },
        "outputId": "dc014a24-4d8e-4f00-c790-9a605929f5a1"
      },
      "cell_type": "code",
      "source": [
        "g = df.groupby(\"city\")   # split the data based on 'city' _header\n",
        "g"
      ],
      "execution_count": 36,
      "outputs": [
        {
          "output_type": "execute_result",
          "data": {
            "text/plain": [
              "<pandas.core.groupby.DataFrameGroupBy object at 0x7fa1fa36ec88>"
            ]
          },
          "metadata": {
            "tags": []
          },
          "execution_count": 36
        }
      ]
    },
    {
      "metadata": {
        "id": "DichYo02ZnOd",
        "colab_type": "text"
      },
      "cell_type": "markdown",
      "source": [
        "![alt text](https://github.com/codebasics/py/raw/276980947e5772f357190adb06529e8501fcc5d1/pandas/7_group_by/group_by_cities.png)"
      ]
    },
    {
      "metadata": {
        "id": "9i7y7mztZ5Ck",
        "colab_type": "text"
      },
      "cell_type": "markdown",
      "source": [
        "#Iteration"
      ]
    },
    {
      "metadata": {
        "id": "6kLj7F89Y-xk",
        "colab_type": "code",
        "colab": {
          "base_uri": "https://localhost:8080/",
          "height": 442
        },
        "outputId": "f88d8aa0-f822-4ae5-8b86-62827867261d"
      },
      "cell_type": "code",
      "source": [
        "for city, data in g:\n",
        "    print(\"city:\",city)\n",
        "    print(\"\\n\")\n",
        "    print(\"data:\",data)"
      ],
      "execution_count": 37,
      "outputs": [
        {
          "output_type": "stream",
          "text": [
            "city: mumbai\n",
            "\n",
            "\n",
            "data:         day    city  temperature  windspeed  event\n",
            "4  1/4/2017  mumbai           42         10  Sunny\n",
            "5  1/1/2017  mumbai           90          5  Sunny\n",
            "6  1/2/2017  mumbai           85         12    Fog\n",
            "7  1/3/2017  mumbai           87         15    Fog\n",
            "8  1/4/2017  mumbai           92          5   Rain\n",
            "city: new york\n",
            "\n",
            "\n",
            "data:         day      city  temperature  windspeed  event\n",
            "0  1/1/2017  new york           32          6   Rain\n",
            "1  1/2/2017  new york           36          7  Sunny\n",
            "2  1/3/2017  new york           28         12   Snow\n",
            "3  1/4/2017  new york           33          7  Sunny\n",
            "city: paris\n",
            "\n",
            "\n",
            "data:          day   city  temperature  windspeed   event\n",
            "9   1/1/2017  paris           45         20   Sunny\n",
            "10  1/2/2017  paris           50         13  Cloudy\n",
            "11  1/3/2017  paris           54          8  Cloudy\n",
            "12  1/4/2017  paris           42         10  Cloudy\n"
          ],
          "name": "stdout"
        }
      ]
    },
    {
      "metadata": {
        "id": "WBAHBCj7Y-1I",
        "colab_type": "code",
        "colab": {
          "base_uri": "https://localhost:8080/",
          "height": 34
        },
        "outputId": "94cb27a8-4665-4a3d-b132-6396141da069"
      },
      "cell_type": "code",
      "source": [
        "T = df.groupby(\"temperature\")   # split the data based on 'temperature' _header\n",
        "T   "
      ],
      "execution_count": 38,
      "outputs": [
        {
          "output_type": "execute_result",
          "data": {
            "text/plain": [
              "<pandas.core.groupby.DataFrameGroupBy object at 0x7fa1fa33c240>"
            ]
          },
          "metadata": {
            "tags": []
          },
          "execution_count": 38
        }
      ]
    },
    {
      "metadata": {
        "id": "hU32X875biNp",
        "colab_type": "text"
      },
      "cell_type": "markdown",
      "source": [
        "all the features will make a unique group that contain Same /equal temprature  "
      ]
    },
    {
      "metadata": {
        "id": "1Y9GV2OlY-4l",
        "colab_type": "code",
        "colab": {
          "base_uri": "https://localhost:8080/",
          "height": 1054
        },
        "outputId": "4d2b2b94-694d-4fa9-dadc-bf60e447357f"
      },
      "cell_type": "code",
      "source": [
        "for temp, data in T:\n",
        "    print('Temp : ',temp)\n",
        "    print(\"\\n\")\n",
        "    print(\"data:\",data)"
      ],
      "execution_count": 39,
      "outputs": [
        {
          "output_type": "stream",
          "text": [
            "Temp :  28\n",
            "\n",
            "\n",
            "data:         day      city  temperature  windspeed event\n",
            "2  1/3/2017  new york           28         12  Snow\n",
            "Temp :  32\n",
            "\n",
            "\n",
            "data:         day      city  temperature  windspeed event\n",
            "0  1/1/2017  new york           32          6  Rain\n",
            "Temp :  33\n",
            "\n",
            "\n",
            "data:         day      city  temperature  windspeed  event\n",
            "3  1/4/2017  new york           33          7  Sunny\n",
            "Temp :  36\n",
            "\n",
            "\n",
            "data:         day      city  temperature  windspeed  event\n",
            "1  1/2/2017  new york           36          7  Sunny\n",
            "Temp :  42\n",
            "\n",
            "\n",
            "data:          day    city  temperature  windspeed   event\n",
            "4   1/4/2017  mumbai           42         10   Sunny\n",
            "12  1/4/2017   paris           42         10  Cloudy\n",
            "Temp :  45\n",
            "\n",
            "\n",
            "data:         day   city  temperature  windspeed  event\n",
            "9  1/1/2017  paris           45         20  Sunny\n",
            "Temp :  50\n",
            "\n",
            "\n",
            "data:          day   city  temperature  windspeed   event\n",
            "10  1/2/2017  paris           50         13  Cloudy\n",
            "Temp :  54\n",
            "\n",
            "\n",
            "data:          day   city  temperature  windspeed   event\n",
            "11  1/3/2017  paris           54          8  Cloudy\n",
            "Temp :  85\n",
            "\n",
            "\n",
            "data:         day    city  temperature  windspeed event\n",
            "6  1/2/2017  mumbai           85         12   Fog\n",
            "Temp :  87\n",
            "\n",
            "\n",
            "data:         day    city  temperature  windspeed event\n",
            "7  1/3/2017  mumbai           87         15   Fog\n",
            "Temp :  90\n",
            "\n",
            "\n",
            "data:         day    city  temperature  windspeed  event\n",
            "5  1/1/2017  mumbai           90          5  Sunny\n",
            "Temp :  92\n",
            "\n",
            "\n",
            "data:         day    city  temperature  windspeed event\n",
            "8  1/4/2017  mumbai           92          5  Rain\n"
          ],
          "name": "stdout"
        }
      ]
    },
    {
      "metadata": {
        "id": "UB4YeJC_Y-7z",
        "colab_type": "code",
        "colab": {
          "base_uri": "https://localhost:8080/",
          "height": 204
        },
        "outputId": "bae3dc86-94a1-42d5-faef-e94f763f8681"
      },
      "cell_type": "code",
      "source": [
        "g.get_group('mumbai')   # extract one unique group"
      ],
      "execution_count": 40,
      "outputs": [
        {
          "output_type": "execute_result",
          "data": {
            "text/html": [
              "<div>\n",
              "<style scoped>\n",
              "    .dataframe tbody tr th:only-of-type {\n",
              "        vertical-align: middle;\n",
              "    }\n",
              "\n",
              "    .dataframe tbody tr th {\n",
              "        vertical-align: top;\n",
              "    }\n",
              "\n",
              "    .dataframe thead th {\n",
              "        text-align: right;\n",
              "    }\n",
              "</style>\n",
              "<table border=\"1\" class=\"dataframe\">\n",
              "  <thead>\n",
              "    <tr style=\"text-align: right;\">\n",
              "      <th></th>\n",
              "      <th>day</th>\n",
              "      <th>city</th>\n",
              "      <th>temperature</th>\n",
              "      <th>windspeed</th>\n",
              "      <th>event</th>\n",
              "    </tr>\n",
              "  </thead>\n",
              "  <tbody>\n",
              "    <tr>\n",
              "      <th>4</th>\n",
              "      <td>1/4/2017</td>\n",
              "      <td>mumbai</td>\n",
              "      <td>42</td>\n",
              "      <td>10</td>\n",
              "      <td>Sunny</td>\n",
              "    </tr>\n",
              "    <tr>\n",
              "      <th>5</th>\n",
              "      <td>1/1/2017</td>\n",
              "      <td>mumbai</td>\n",
              "      <td>90</td>\n",
              "      <td>5</td>\n",
              "      <td>Sunny</td>\n",
              "    </tr>\n",
              "    <tr>\n",
              "      <th>6</th>\n",
              "      <td>1/2/2017</td>\n",
              "      <td>mumbai</td>\n",
              "      <td>85</td>\n",
              "      <td>12</td>\n",
              "      <td>Fog</td>\n",
              "    </tr>\n",
              "    <tr>\n",
              "      <th>7</th>\n",
              "      <td>1/3/2017</td>\n",
              "      <td>mumbai</td>\n",
              "      <td>87</td>\n",
              "      <td>15</td>\n",
              "      <td>Fog</td>\n",
              "    </tr>\n",
              "    <tr>\n",
              "      <th>8</th>\n",
              "      <td>1/4/2017</td>\n",
              "      <td>mumbai</td>\n",
              "      <td>92</td>\n",
              "      <td>5</td>\n",
              "      <td>Rain</td>\n",
              "    </tr>\n",
              "  </tbody>\n",
              "</table>\n",
              "</div>"
            ],
            "text/plain": [
              "        day    city  temperature  windspeed  event\n",
              "4  1/4/2017  mumbai           42         10  Sunny\n",
              "5  1/1/2017  mumbai           90          5  Sunny\n",
              "6  1/2/2017  mumbai           85         12    Fog\n",
              "7  1/3/2017  mumbai           87         15    Fog\n",
              "8  1/4/2017  mumbai           92          5   Rain"
            ]
          },
          "metadata": {
            "tags": []
          },
          "execution_count": 40
        }
      ]
    },
    {
      "metadata": {
        "id": "t5xTqYsIY-tx",
        "colab_type": "code",
        "colab": {
          "base_uri": "https://localhost:8080/",
          "height": 173
        },
        "outputId": "43abfa7f-9446-4532-c5c9-15ab7f17f449"
      },
      "cell_type": "code",
      "source": [
        "g.max()   # make a table which has maximum temprature  and maximum windspeed from each group of cities."
      ],
      "execution_count": 41,
      "outputs": [
        {
          "output_type": "execute_result",
          "data": {
            "text/html": [
              "<div>\n",
              "<style scoped>\n",
              "    .dataframe tbody tr th:only-of-type {\n",
              "        vertical-align: middle;\n",
              "    }\n",
              "\n",
              "    .dataframe tbody tr th {\n",
              "        vertical-align: top;\n",
              "    }\n",
              "\n",
              "    .dataframe thead th {\n",
              "        text-align: right;\n",
              "    }\n",
              "</style>\n",
              "<table border=\"1\" class=\"dataframe\">\n",
              "  <thead>\n",
              "    <tr style=\"text-align: right;\">\n",
              "      <th></th>\n",
              "      <th>day</th>\n",
              "      <th>temperature</th>\n",
              "      <th>windspeed</th>\n",
              "      <th>event</th>\n",
              "    </tr>\n",
              "    <tr>\n",
              "      <th>city</th>\n",
              "      <th></th>\n",
              "      <th></th>\n",
              "      <th></th>\n",
              "      <th></th>\n",
              "    </tr>\n",
              "  </thead>\n",
              "  <tbody>\n",
              "    <tr>\n",
              "      <th>mumbai</th>\n",
              "      <td>1/4/2017</td>\n",
              "      <td>92</td>\n",
              "      <td>15</td>\n",
              "      <td>Sunny</td>\n",
              "    </tr>\n",
              "    <tr>\n",
              "      <th>new york</th>\n",
              "      <td>1/4/2017</td>\n",
              "      <td>36</td>\n",
              "      <td>12</td>\n",
              "      <td>Sunny</td>\n",
              "    </tr>\n",
              "    <tr>\n",
              "      <th>paris</th>\n",
              "      <td>1/4/2017</td>\n",
              "      <td>54</td>\n",
              "      <td>20</td>\n",
              "      <td>Sunny</td>\n",
              "    </tr>\n",
              "  </tbody>\n",
              "</table>\n",
              "</div>"
            ],
            "text/plain": [
              "               day  temperature  windspeed  event\n",
              "city                                             \n",
              "mumbai    1/4/2017           92         15  Sunny\n",
              "new york  1/4/2017           36         12  Sunny\n",
              "paris     1/4/2017           54         20  Sunny"
            ]
          },
          "metadata": {
            "tags": []
          },
          "execution_count": 41
        }
      ]
    },
    {
      "metadata": {
        "id": "IOvetigdeBOU",
        "colab_type": "code",
        "colab": {
          "base_uri": "https://localhost:8080/",
          "height": 173
        },
        "outputId": "512c0cf8-f528-4e26-9e3e-d5230c1cf06d"
      },
      "cell_type": "code",
      "source": [
        "g.mean()  # it will calculate the average of temprature and windspeed from each group."
      ],
      "execution_count": 42,
      "outputs": [
        {
          "output_type": "execute_result",
          "data": {
            "text/html": [
              "<div>\n",
              "<style scoped>\n",
              "    .dataframe tbody tr th:only-of-type {\n",
              "        vertical-align: middle;\n",
              "    }\n",
              "\n",
              "    .dataframe tbody tr th {\n",
              "        vertical-align: top;\n",
              "    }\n",
              "\n",
              "    .dataframe thead th {\n",
              "        text-align: right;\n",
              "    }\n",
              "</style>\n",
              "<table border=\"1\" class=\"dataframe\">\n",
              "  <thead>\n",
              "    <tr style=\"text-align: right;\">\n",
              "      <th></th>\n",
              "      <th>temperature</th>\n",
              "      <th>windspeed</th>\n",
              "    </tr>\n",
              "    <tr>\n",
              "      <th>city</th>\n",
              "      <th></th>\n",
              "      <th></th>\n",
              "    </tr>\n",
              "  </thead>\n",
              "  <tbody>\n",
              "    <tr>\n",
              "      <th>mumbai</th>\n",
              "      <td>79.20</td>\n",
              "      <td>9.40</td>\n",
              "    </tr>\n",
              "    <tr>\n",
              "      <th>new york</th>\n",
              "      <td>32.25</td>\n",
              "      <td>8.00</td>\n",
              "    </tr>\n",
              "    <tr>\n",
              "      <th>paris</th>\n",
              "      <td>47.75</td>\n",
              "      <td>12.75</td>\n",
              "    </tr>\n",
              "  </tbody>\n",
              "</table>\n",
              "</div>"
            ],
            "text/plain": [
              "          temperature  windspeed\n",
              "city                            \n",
              "mumbai          79.20       9.40\n",
              "new york        32.25       8.00\n",
              "paris           47.75      12.75"
            ]
          },
          "metadata": {
            "tags": []
          },
          "execution_count": 42
        }
      ]
    },
    {
      "metadata": {
        "id": "8-EFXdvmeCPs",
        "colab_type": "text"
      },
      "cell_type": "markdown",
      "source": [
        "![alt text](https://github.com/codebasics/py/raw/276980947e5772f357190adb06529e8501fcc5d1/pandas/7_group_by/split_apply_combine.png)"
      ]
    },
    {
      "metadata": {
        "id": "peRptNzUeBWI",
        "colab_type": "code",
        "colab": {
          "base_uri": "https://localhost:8080/",
          "height": 241
        },
        "outputId": "60cb899b-7371-4e08-ce13-89bc989ae955"
      },
      "cell_type": "code",
      "source": [
        "g.describe()"
      ],
      "execution_count": 43,
      "outputs": [
        {
          "output_type": "execute_result",
          "data": {
            "text/html": [
              "<div>\n",
              "<style scoped>\n",
              "    .dataframe tbody tr th:only-of-type {\n",
              "        vertical-align: middle;\n",
              "    }\n",
              "\n",
              "    .dataframe tbody tr th {\n",
              "        vertical-align: top;\n",
              "    }\n",
              "\n",
              "    .dataframe thead tr th {\n",
              "        text-align: left;\n",
              "    }\n",
              "\n",
              "    .dataframe thead tr:last-of-type th {\n",
              "        text-align: right;\n",
              "    }\n",
              "</style>\n",
              "<table border=\"1\" class=\"dataframe\">\n",
              "  <thead>\n",
              "    <tr>\n",
              "      <th></th>\n",
              "      <th colspan=\"8\" halign=\"left\">temperature</th>\n",
              "      <th colspan=\"8\" halign=\"left\">windspeed</th>\n",
              "    </tr>\n",
              "    <tr>\n",
              "      <th></th>\n",
              "      <th>count</th>\n",
              "      <th>mean</th>\n",
              "      <th>std</th>\n",
              "      <th>min</th>\n",
              "      <th>25%</th>\n",
              "      <th>50%</th>\n",
              "      <th>75%</th>\n",
              "      <th>max</th>\n",
              "      <th>count</th>\n",
              "      <th>mean</th>\n",
              "      <th>std</th>\n",
              "      <th>min</th>\n",
              "      <th>25%</th>\n",
              "      <th>50%</th>\n",
              "      <th>75%</th>\n",
              "      <th>max</th>\n",
              "    </tr>\n",
              "    <tr>\n",
              "      <th>city</th>\n",
              "      <th></th>\n",
              "      <th></th>\n",
              "      <th></th>\n",
              "      <th></th>\n",
              "      <th></th>\n",
              "      <th></th>\n",
              "      <th></th>\n",
              "      <th></th>\n",
              "      <th></th>\n",
              "      <th></th>\n",
              "      <th></th>\n",
              "      <th></th>\n",
              "      <th></th>\n",
              "      <th></th>\n",
              "      <th></th>\n",
              "      <th></th>\n",
              "    </tr>\n",
              "  </thead>\n",
              "  <tbody>\n",
              "    <tr>\n",
              "      <th>mumbai</th>\n",
              "      <td>5.0</td>\n",
              "      <td>79.20</td>\n",
              "      <td>20.969025</td>\n",
              "      <td>42.0</td>\n",
              "      <td>85.00</td>\n",
              "      <td>87.0</td>\n",
              "      <td>90.00</td>\n",
              "      <td>92.0</td>\n",
              "      <td>5.0</td>\n",
              "      <td>9.40</td>\n",
              "      <td>4.393177</td>\n",
              "      <td>5.0</td>\n",
              "      <td>5.00</td>\n",
              "      <td>10.0</td>\n",
              "      <td>12.00</td>\n",
              "      <td>15.0</td>\n",
              "    </tr>\n",
              "    <tr>\n",
              "      <th>new york</th>\n",
              "      <td>4.0</td>\n",
              "      <td>32.25</td>\n",
              "      <td>3.304038</td>\n",
              "      <td>28.0</td>\n",
              "      <td>31.00</td>\n",
              "      <td>32.5</td>\n",
              "      <td>33.75</td>\n",
              "      <td>36.0</td>\n",
              "      <td>4.0</td>\n",
              "      <td>8.00</td>\n",
              "      <td>2.708013</td>\n",
              "      <td>6.0</td>\n",
              "      <td>6.75</td>\n",
              "      <td>7.0</td>\n",
              "      <td>8.25</td>\n",
              "      <td>12.0</td>\n",
              "    </tr>\n",
              "    <tr>\n",
              "      <th>paris</th>\n",
              "      <td>4.0</td>\n",
              "      <td>47.75</td>\n",
              "      <td>5.315073</td>\n",
              "      <td>42.0</td>\n",
              "      <td>44.25</td>\n",
              "      <td>47.5</td>\n",
              "      <td>51.00</td>\n",
              "      <td>54.0</td>\n",
              "      <td>4.0</td>\n",
              "      <td>12.75</td>\n",
              "      <td>5.251984</td>\n",
              "      <td>8.0</td>\n",
              "      <td>9.50</td>\n",
              "      <td>11.5</td>\n",
              "      <td>14.75</td>\n",
              "      <td>20.0</td>\n",
              "    </tr>\n",
              "  </tbody>\n",
              "</table>\n",
              "</div>"
            ],
            "text/plain": [
              "         temperature                                                    \\\n",
              "               count   mean        std   min    25%   50%    75%   max   \n",
              "city                                                                     \n",
              "mumbai           5.0  79.20  20.969025  42.0  85.00  87.0  90.00  92.0   \n",
              "new york         4.0  32.25   3.304038  28.0  31.00  32.5  33.75  36.0   \n",
              "paris            4.0  47.75   5.315073  42.0  44.25  47.5  51.00  54.0   \n",
              "\n",
              "         windspeed                                                 \n",
              "             count   mean       std  min   25%   50%    75%   max  \n",
              "city                                                               \n",
              "mumbai         5.0   9.40  4.393177  5.0  5.00  10.0  12.00  15.0  \n",
              "new york       4.0   8.00  2.708013  6.0  6.75   7.0   8.25  12.0  \n",
              "paris          4.0  12.75  5.251984  8.0  9.50  11.5  14.75  20.0  "
            ]
          },
          "metadata": {
            "tags": []
          },
          "execution_count": 43
        }
      ]
    },
    {
      "metadata": {
        "id": "T33kFg9IeBaV",
        "colab_type": "code",
        "colab": {
          "base_uri": "https://localhost:8080/",
          "height": 846
        },
        "outputId": "2e28fec8-4eb5-4247-f15a-3aee05037ec8"
      },
      "cell_type": "code",
      "source": [
        "%matplotlib inline\n",
        "g.plot()   # it will show the statistics analysis of each group of cities ."
      ],
      "execution_count": 44,
      "outputs": [
        {
          "output_type": "execute_result",
          "data": {
            "text/plain": [
              "city\n",
              "mumbai      AxesSubplot(0.125,0.125;0.775x0.755)\n",
              "new york    AxesSubplot(0.125,0.125;0.775x0.755)\n",
              "paris       AxesSubplot(0.125,0.125;0.775x0.755)\n",
              "dtype: object"
            ]
          },
          "metadata": {
            "tags": []
          },
          "execution_count": 44
        },
        {
          "output_type": "display_data",
          "data": {
            "image/png": "[encoded data removed]",
            "text/plain": [
              "<Figure size 432x288 with 1 Axes>"
            ]
          },
          "metadata": {
            "tags": []
          }
        },
        {
          "output_type": "display_data",
          "data": {
            "image/png": "[encoded data removed]",
            "text/plain": [
              "<Figure size 432x288 with 1 Axes>"
            ]
          },
          "metadata": {
            "tags": []
          }
        },
        {
          "output_type": "display_data",
          "data": {
            "image/png": "[encoded data removed]",
            "text/plain": [
              "<Figure size 432x288 with 1 Axes>"
            ]
          },
          "metadata": {
            "tags": []
          }
        }
      ]
    },
    {
      "metadata": {
        "id": "LEGm3S70rWgj",
        "colab_type": "code",
        "colab": {
          "base_uri": "https://localhost:8080/",
          "height": 452
        },
        "outputId": "145baa29-fa4c-4e5a-d56c-cb703f08a40e"
      },
      "cell_type": "code",
      "source": [
        "df"
      ],
      "execution_count": 45,
      "outputs": [
        {
          "output_type": "execute_result",
          "data": {
            "text/html": [
              "<div>\n",
              "<style scoped>\n",
              "    .dataframe tbody tr th:only-of-type {\n",
              "        vertical-align: middle;\n",
              "    }\n",
              "\n",
              "    .dataframe tbody tr th {\n",
              "        vertical-align: top;\n",
              "    }\n",
              "\n",
              "    .dataframe thead th {\n",
              "        text-align: right;\n",
              "    }\n",
              "</style>\n",
              "<table border=\"1\" class=\"dataframe\">\n",
              "  <thead>\n",
              "    <tr style=\"text-align: right;\">\n",
              "      <th></th>\n",
              "      <th>day</th>\n",
              "      <th>city</th>\n",
              "      <th>temperature</th>\n",
              "      <th>windspeed</th>\n",
              "      <th>event</th>\n",
              "    </tr>\n",
              "  </thead>\n",
              "  <tbody>\n",
              "    <tr>\n",
              "      <th>0</th>\n",
              "      <td>1/1/2017</td>\n",
              "      <td>new york</td>\n",
              "      <td>32</td>\n",
              "      <td>6</td>\n",
              "      <td>Rain</td>\n",
              "    </tr>\n",
              "    <tr>\n",
              "      <th>1</th>\n",
              "      <td>1/2/2017</td>\n",
              "      <td>new york</td>\n",
              "      <td>36</td>\n",
              "      <td>7</td>\n",
              "      <td>Sunny</td>\n",
              "    </tr>\n",
              "    <tr>\n",
              "      <th>2</th>\n",
              "      <td>1/3/2017</td>\n",
              "      <td>new york</td>\n",
              "      <td>28</td>\n",
              "      <td>12</td>\n",
              "      <td>Snow</td>\n",
              "    </tr>\n",
              "    <tr>\n",
              "      <th>3</th>\n",
              "      <td>1/4/2017</td>\n",
              "      <td>new york</td>\n",
              "      <td>33</td>\n",
              "      <td>7</td>\n",
              "      <td>Sunny</td>\n",
              "    </tr>\n",
              "    <tr>\n",
              "      <th>4</th>\n",
              "      <td>1/4/2017</td>\n",
              "      <td>mumbai</td>\n",
              "      <td>42</td>\n",
              "      <td>10</td>\n",
              "      <td>Sunny</td>\n",
              "    </tr>\n",
              "    <tr>\n",
              "      <th>5</th>\n",
              "      <td>1/1/2017</td>\n",
              "      <td>mumbai</td>\n",
              "      <td>90</td>\n",
              "      <td>5</td>\n",
              "      <td>Sunny</td>\n",
              "    </tr>\n",
              "    <tr>\n",
              "      <th>6</th>\n",
              "      <td>1/2/2017</td>\n",
              "      <td>mumbai</td>\n",
              "      <td>85</td>\n",
              "      <td>12</td>\n",
              "      <td>Fog</td>\n",
              "    </tr>\n",
              "    <tr>\n",
              "      <th>7</th>\n",
              "      <td>1/3/2017</td>\n",
              "      <td>mumbai</td>\n",
              "      <td>87</td>\n",
              "      <td>15</td>\n",
              "      <td>Fog</td>\n",
              "    </tr>\n",
              "    <tr>\n",
              "      <th>8</th>\n",
              "      <td>1/4/2017</td>\n",
              "      <td>mumbai</td>\n",
              "      <td>92</td>\n",
              "      <td>5</td>\n",
              "      <td>Rain</td>\n",
              "    </tr>\n",
              "    <tr>\n",
              "      <th>9</th>\n",
              "      <td>1/1/2017</td>\n",
              "      <td>paris</td>\n",
              "      <td>45</td>\n",
              "      <td>20</td>\n",
              "      <td>Sunny</td>\n",
              "    </tr>\n",
              "    <tr>\n",
              "      <th>10</th>\n",
              "      <td>1/2/2017</td>\n",
              "      <td>paris</td>\n",
              "      <td>50</td>\n",
              "      <td>13</td>\n",
              "      <td>Cloudy</td>\n",
              "    </tr>\n",
              "    <tr>\n",
              "      <th>11</th>\n",
              "      <td>1/3/2017</td>\n",
              "      <td>paris</td>\n",
              "      <td>54</td>\n",
              "      <td>8</td>\n",
              "      <td>Cloudy</td>\n",
              "    </tr>\n",
              "    <tr>\n",
              "      <th>12</th>\n",
              "      <td>1/4/2017</td>\n",
              "      <td>paris</td>\n",
              "      <td>42</td>\n",
              "      <td>10</td>\n",
              "      <td>Cloudy</td>\n",
              "    </tr>\n",
              "  </tbody>\n",
              "</table>\n",
              "</div>"
            ],
            "text/plain": [
              "         day      city  temperature  windspeed   event\n",
              "0   1/1/2017  new york           32          6    Rain\n",
              "1   1/2/2017  new york           36          7   Sunny\n",
              "2   1/3/2017  new york           28         12    Snow\n",
              "3   1/4/2017  new york           33          7   Sunny\n",
              "4   1/4/2017    mumbai           42         10   Sunny\n",
              "5   1/1/2017    mumbai           90          5   Sunny\n",
              "6   1/2/2017    mumbai           85         12     Fog\n",
              "7   1/3/2017    mumbai           87         15     Fog\n",
              "8   1/4/2017    mumbai           92          5    Rain\n",
              "9   1/1/2017     paris           45         20   Sunny\n",
              "10  1/2/2017     paris           50         13  Cloudy\n",
              "11  1/3/2017     paris           54          8  Cloudy\n",
              "12  1/4/2017     paris           42         10  Cloudy"
            ]
          },
          "metadata": {
            "tags": []
          },
          "execution_count": 45
        }
      ]
    },
    {
      "metadata": {
        "id": "gTVfIVsYeBdh",
        "colab_type": "code",
        "colab": {
          "base_uri": "https://localhost:8080/",
          "height": 238
        },
        "outputId": "7d2d209b-645b-4678-f766-824682f036de"
      },
      "cell_type": "code",
      "source": [
        "j = df.groupby(['city','temperature'])\n",
        "j.groups"
      ],
      "execution_count": 47,
      "outputs": [
        {
          "output_type": "execute_result",
          "data": {
            "text/plain": [
              "{('mumbai', 42): Int64Index([4], dtype='int64'),\n",
              " ('mumbai', 85): Int64Index([6], dtype='int64'),\n",
              " ('mumbai', 87): Int64Index([7], dtype='int64'),\n",
              " ('mumbai', 90): Int64Index([5], dtype='int64'),\n",
              " ('mumbai', 92): Int64Index([8], dtype='int64'),\n",
              " ('new york', 28): Int64Index([2], dtype='int64'),\n",
              " ('new york', 32): Int64Index([0], dtype='int64'),\n",
              " ('new york', 33): Int64Index([3], dtype='int64'),\n",
              " ('new york', 36): Int64Index([1], dtype='int64'),\n",
              " ('paris', 42): Int64Index([12], dtype='int64'),\n",
              " ('paris', 45): Int64Index([9], dtype='int64'),\n",
              " ('paris', 50): Int64Index([10], dtype='int64'),\n",
              " ('paris', 54): Int64Index([11], dtype='int64')}"
            ]
          },
          "metadata": {
            "tags": []
          },
          "execution_count": 47
        }
      ]
    },
    {
      "metadata": {
        "id": "ZC4yb3kDeBhH",
        "colab_type": "code",
        "colab": {
          "base_uri": "https://localhost:8080/",
          "height": 204
        },
        "outputId": "a0555c73-b597-420c-a72c-1275391725e2"
      },
      "cell_type": "code",
      "source": [
        "j = df.groupby(['city','windspeed'])\n",
        "j.groups"
      ],
      "execution_count": 48,
      "outputs": [
        {
          "output_type": "execute_result",
          "data": {
            "text/plain": [
              "{('mumbai', 5): Int64Index([5, 8], dtype='int64'),\n",
              " ('mumbai', 10): Int64Index([4], dtype='int64'),\n",
              " ('mumbai', 12): Int64Index([6], dtype='int64'),\n",
              " ('mumbai', 15): Int64Index([7], dtype='int64'),\n",
              " ('new york', 6): Int64Index([0], dtype='int64'),\n",
              " ('new york', 7): Int64Index([1, 3], dtype='int64'),\n",
              " ('new york', 12): Int64Index([2], dtype='int64'),\n",
              " ('paris', 8): Int64Index([11], dtype='int64'),\n",
              " ('paris', 10): Int64Index([12], dtype='int64'),\n",
              " ('paris', 13): Int64Index([10], dtype='int64'),\n",
              " ('paris', 20): Int64Index([9], dtype='int64')}"
            ]
          },
          "metadata": {
            "tags": []
          },
          "execution_count": 48
        }
      ]
    }
  ]
}