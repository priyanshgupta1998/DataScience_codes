{
  "nbformat": 4,
  "nbformat_minor": 0,
  "metadata": {
    "colab": {
      "name": "TensorFlow_with_GPU (5).ipynb",
      "version": "0.3.2",
      "provenance": [],
      "collapsed_sections": [],
      "include_colab_link": true
    },
    "kernelspec": {
      "name": "python3",
      "display_name": "Python 3"
    },
    "accelerator": "GPU"
  },
  "cells": [
    {
      "cell_type": "markdown",
      "metadata": {
        "id": "view-in-github",
        "colab_type": "text"
      },
      "source": [
        "<a href=\"https://colab.research.google.com/github/priyanshgupta1998/DataScience_codes/blob/master/Time_series_forcast_Rail_predict.ipynb\" target=\"_parent\"><img src=\"https://colab.research.google.com/assets/colab-badge.svg\" alt=\"Open In Colab\"/></a>"
      ]
    },
    {
      "metadata": {
        "id": "BG50DGFqLZA6",
        "colab_type": "text"
      },
      "cell_type": "markdown",
      "source": [
        "#Time Series Forecasting"
      ]
    },
    {
      "metadata": {
        "id": "sbFA3iRiO6Ka",
        "colab_type": "code",
        "colab": {}
      },
      "cell_type": "code",
      "source": [
        "import pandas as pd          \n",
        "import numpy as np          # For mathematical calculations \n",
        "import matplotlib.pyplot as plt  # For plotting graphs \n",
        "from datetime import datetime    # To access datetime \n",
        "from pandas import Series        # To work on series \n",
        "%matplotlib inline \n",
        "import warnings                   # To ignore the warnings warnings.filterwarnings(\"ignore\")\n",
        "import seaborn as sns"
      ],
      "execution_count": 0,
      "outputs": []
    },
    {
      "metadata": {
        "id": "rDol5v_g0xHz",
        "colab_type": "text"
      },
      "cell_type": "markdown",
      "source": [
        "Now let’s read the train and test data"
      ]
    },
    {
      "metadata": {
        "id": "PY0nGbdXO6PL",
        "colab_type": "code",
        "colab": {}
      },
      "cell_type": "code",
      "source": [
        "test=pd.read_csv(\"/home/Test_Rail.csv\") \n",
        "train=pd.read_csv(\"/home/Train_Rail.csv\")"
      ],
      "execution_count": 0,
      "outputs": []
    },
    {
      "metadata": {
        "id": "8mwSTHWD1FS2",
        "colab_type": "text"
      },
      "cell_type": "markdown",
      "source": [
        "Let’s make a copy of train and test data so that even if we do changes in these dataset we do not lose the original dataset."
      ]
    },
    {
      "metadata": {
        "id": "7TLfj_MeO6Vs",
        "colab_type": "code",
        "colab": {}
      },
      "cell_type": "code",
      "source": [
        "train_original=train.copy() \n",
        "test_original=test.copy()"
      ],
      "execution_count": 0,
      "outputs": []
    },
    {
      "metadata": {
        "id": "-I_fIQUX8_i3",
        "colab_type": "code",
        "outputId": "ef1afe2c-44ea-4032-be89-1a816150d949",
        "colab": {
          "base_uri": "https://localhost:8080/",
          "height": 204
        }
      },
      "cell_type": "code",
      "source": [
        "train.head()"
      ],
      "execution_count": 6,
      "outputs": [
        {
          "output_type": "execute_result",
          "data": {
            "text/html": [
              "<div>\n",
              "<style scoped>\n",
              "    .dataframe tbody tr th:only-of-type {\n",
              "        vertical-align: middle;\n",
              "    }\n",
              "\n",
              "    .dataframe tbody tr th {\n",
              "        vertical-align: top;\n",
              "    }\n",
              "\n",
              "    .dataframe thead th {\n",
              "        text-align: right;\n",
              "    }\n",
              "</style>\n",
              "<table border=\"1\" class=\"dataframe\">\n",
              "  <thead>\n",
              "    <tr style=\"text-align: right;\">\n",
              "      <th></th>\n",
              "      <th>ID</th>\n",
              "      <th>Datetime</th>\n",
              "      <th>Count</th>\n",
              "    </tr>\n",
              "  </thead>\n",
              "  <tbody>\n",
              "    <tr>\n",
              "      <th>0</th>\n",
              "      <td>0</td>\n",
              "      <td>25-08-2012 00:00</td>\n",
              "      <td>8</td>\n",
              "    </tr>\n",
              "    <tr>\n",
              "      <th>1</th>\n",
              "      <td>1</td>\n",
              "      <td>25-08-2012 01:00</td>\n",
              "      <td>2</td>\n",
              "    </tr>\n",
              "    <tr>\n",
              "      <th>2</th>\n",
              "      <td>2</td>\n",
              "      <td>25-08-2012 02:00</td>\n",
              "      <td>6</td>\n",
              "    </tr>\n",
              "    <tr>\n",
              "      <th>3</th>\n",
              "      <td>3</td>\n",
              "      <td>25-08-2012 03:00</td>\n",
              "      <td>2</td>\n",
              "    </tr>\n",
              "    <tr>\n",
              "      <th>4</th>\n",
              "      <td>4</td>\n",
              "      <td>25-08-2012 04:00</td>\n",
              "      <td>2</td>\n",
              "    </tr>\n",
              "  </tbody>\n",
              "</table>\n",
              "</div>"
            ],
            "text/plain": [
              "   ID          Datetime  Count\n",
              "0   0  25-08-2012 00:00      8\n",
              "1   1  25-08-2012 01:00      2\n",
              "2   2  25-08-2012 02:00      6\n",
              "3   3  25-08-2012 03:00      2\n",
              "4   4  25-08-2012 04:00      2"
            ]
          },
          "metadata": {
            "tags": []
          },
          "execution_count": 6
        }
      ]
    },
    {
      "metadata": {
        "id": "r8N82rCS9GMz",
        "colab_type": "code",
        "outputId": "971da772-a3cd-44e6-9cbd-61af8ec96dc2",
        "colab": {
          "base_uri": "https://localhost:8080/",
          "height": 204
        }
      },
      "cell_type": "code",
      "source": [
        "test.head()"
      ],
      "execution_count": 7,
      "outputs": [
        {
          "output_type": "execute_result",
          "data": {
            "text/html": [
              "<div>\n",
              "<style scoped>\n",
              "    .dataframe tbody tr th:only-of-type {\n",
              "        vertical-align: middle;\n",
              "    }\n",
              "\n",
              "    .dataframe tbody tr th {\n",
              "        vertical-align: top;\n",
              "    }\n",
              "\n",
              "    .dataframe thead th {\n",
              "        text-align: right;\n",
              "    }\n",
              "</style>\n",
              "<table border=\"1\" class=\"dataframe\">\n",
              "  <thead>\n",
              "    <tr style=\"text-align: right;\">\n",
              "      <th></th>\n",
              "      <th>ID</th>\n",
              "      <th>Datetime</th>\n",
              "    </tr>\n",
              "  </thead>\n",
              "  <tbody>\n",
              "    <tr>\n",
              "      <th>0</th>\n",
              "      <td>18288</td>\n",
              "      <td>26-09-2014 00:00</td>\n",
              "    </tr>\n",
              "    <tr>\n",
              "      <th>1</th>\n",
              "      <td>18289</td>\n",
              "      <td>26-09-2014 01:00</td>\n",
              "    </tr>\n",
              "    <tr>\n",
              "      <th>2</th>\n",
              "      <td>18290</td>\n",
              "      <td>26-09-2014 02:00</td>\n",
              "    </tr>\n",
              "    <tr>\n",
              "      <th>3</th>\n",
              "      <td>18291</td>\n",
              "      <td>26-09-2014 03:00</td>\n",
              "    </tr>\n",
              "    <tr>\n",
              "      <th>4</th>\n",
              "      <td>18292</td>\n",
              "      <td>26-09-2014 04:00</td>\n",
              "    </tr>\n",
              "  </tbody>\n",
              "</table>\n",
              "</div>"
            ],
            "text/plain": [
              "      ID          Datetime\n",
              "0  18288  26-09-2014 00:00\n",
              "1  18289  26-09-2014 01:00\n",
              "2  18290  26-09-2014 02:00\n",
              "3  18291  26-09-2014 03:00\n",
              "4  18292  26-09-2014 04:00"
            ]
          },
          "metadata": {
            "tags": []
          },
          "execution_count": 7
        }
      ]
    },
    {
      "metadata": {
        "id": "sh4i_mqq1WI2",
        "colab_type": "text"
      },
      "cell_type": "markdown",
      "source": [
        " let’s have a quick look at the dataset"
      ]
    },
    {
      "metadata": {
        "id": "ZmMz-Vs6O6Z5",
        "colab_type": "code",
        "outputId": "ebc463f7-4e5b-4b55-e5e7-554ebc7c47cf",
        "colab": {
          "base_uri": "https://localhost:8080/",
          "height": 34
        }
      },
      "cell_type": "code",
      "source": [
        "train.columns"
      ],
      "execution_count": 8,
      "outputs": [
        {
          "output_type": "execute_result",
          "data": {
            "text/plain": [
              "Index(['ID', 'Datetime', 'Count'], dtype='object')"
            ]
          },
          "metadata": {
            "tags": []
          },
          "execution_count": 8
        }
      ]
    },
    {
      "metadata": {
        "id": "vUE9n9uCO6gq",
        "colab_type": "code",
        "outputId": "598ead2f-4a51-430e-fe84-38f20a9086b7",
        "colab": {
          "base_uri": "https://localhost:8080/",
          "height": 34
        }
      },
      "cell_type": "code",
      "source": [
        " test.columns"
      ],
      "execution_count": 9,
      "outputs": [
        {
          "output_type": "execute_result",
          "data": {
            "text/plain": [
              "Index(['ID', 'Datetime'], dtype='object')"
            ]
          },
          "metadata": {
            "tags": []
          },
          "execution_count": 9
        }
      ]
    },
    {
      "metadata": {
        "id": "AxvTBw-V2UFm",
        "colab_type": "text"
      },
      "cell_type": "markdown",
      "source": [
        "Let’s look at the data types of each feature.\n",
        "\n"
      ]
    },
    {
      "metadata": {
        "id": "k91UBts7O6jj",
        "colab_type": "code",
        "outputId": "c0b2c21b-3ea6-4bc0-ee4c-e3e4e11bb5a4",
        "colab": {
          "base_uri": "https://localhost:8080/",
          "height": 119
        }
      },
      "cell_type": "code",
      "source": [
        "train.dtypes, test.dtypes"
      ],
      "execution_count": 10,
      "outputs": [
        {
          "output_type": "execute_result",
          "data": {
            "text/plain": [
              "(ID           int64\n",
              " Datetime    object\n",
              " Count        int64\n",
              " dtype: object, ID           int64\n",
              " Datetime    object\n",
              " dtype: object)"
            ]
          },
          "metadata": {
            "tags": []
          },
          "execution_count": 10
        }
      ]
    },
    {
      "metadata": {
        "id": "YIM926Gn2pK1",
        "colab_type": "text"
      },
      "cell_type": "markdown",
      "source": [
        "ID and Count are in integer format while the Datetime is in object format for the train file.\n",
        "\n",
        "In test data .\n",
        "Id is in integer and Datetime is in object format for test file."
      ]
    },
    {
      "metadata": {
        "id": "KyCYuPM02yte",
        "colab_type": "text"
      },
      "cell_type": "markdown",
      "source": [
        "Now we will see the shape of the dataset."
      ]
    },
    {
      "metadata": {
        "id": "mgah6Zwn1_9Q",
        "colab_type": "code",
        "outputId": "c18177dc-2053-4312-80ac-80513ac3542d",
        "colab": {
          "base_uri": "https://localhost:8080/",
          "height": 34
        }
      },
      "cell_type": "code",
      "source": [
        "train.shape, test.shape"
      ],
      "execution_count": 11,
      "outputs": [
        {
          "output_type": "execute_result",
          "data": {
            "text/plain": [
              "((18288, 3), (5112, 2))"
            ]
          },
          "metadata": {
            "tags": []
          },
          "execution_count": 11
        }
      ]
    },
    {
      "metadata": {
        "id": "4CknZNZU26O9",
        "colab_type": "text"
      },
      "cell_type": "markdown",
      "source": [
        "Now we will extract more features to validate our hypothesis."
      ]
    },
    {
      "metadata": {
        "id": "ggUfZ6qN3bHR",
        "colab_type": "code",
        "outputId": "46fd4d88-6922-4664-8de0-354b65722adf",
        "colab": {
          "base_uri": "https://localhost:8080/",
          "height": 119
        }
      },
      "cell_type": "code",
      "source": [
        "train.Datetime[:5]"
      ],
      "execution_count": 12,
      "outputs": [
        {
          "output_type": "execute_result",
          "data": {
            "text/plain": [
              "0    25-08-2012 00:00\n",
              "1    25-08-2012 01:00\n",
              "2    25-08-2012 02:00\n",
              "3    25-08-2012 03:00\n",
              "4    25-08-2012 04:00\n",
              "Name: Datetime, dtype: object"
            ]
          },
          "metadata": {
            "tags": []
          },
          "execution_count": 12
        }
      ]
    },
    {
      "metadata": {
        "id": "Ag6JstA1284U",
        "colab_type": "text"
      },
      "cell_type": "markdown",
      "source": [
        "#Feature Extraction"
      ]
    },
    {
      "metadata": {
        "id": "IYmwl82Y3DCD",
        "colab_type": "text"
      },
      "cell_type": "markdown",
      "source": [
        "We will extract the time and date from the Datetime. We have seen earlier that the data type of Datetime is object. So first of all we have to change the data type to datetime format otherwise we can not extract features from it."
      ]
    },
    {
      "metadata": {
        "id": "d37c82jR9viM",
        "colab_type": "code",
        "outputId": "30d81fb9-28a4-4e18-f021-b20ffc20feab",
        "colab": {
          "base_uri": "https://localhost:8080/",
          "height": 142
        }
      },
      "cell_type": "code",
      "source": [
        "train.head(3)"
      ],
      "execution_count": 13,
      "outputs": [
        {
          "output_type": "execute_result",
          "data": {
            "text/html": [
              "<div>\n",
              "<style scoped>\n",
              "    .dataframe tbody tr th:only-of-type {\n",
              "        vertical-align: middle;\n",
              "    }\n",
              "\n",
              "    .dataframe tbody tr th {\n",
              "        vertical-align: top;\n",
              "    }\n",
              "\n",
              "    .dataframe thead th {\n",
              "        text-align: right;\n",
              "    }\n",
              "</style>\n",
              "<table border=\"1\" class=\"dataframe\">\n",
              "  <thead>\n",
              "    <tr style=\"text-align: right;\">\n",
              "      <th></th>\n",
              "      <th>ID</th>\n",
              "      <th>Datetime</th>\n",
              "      <th>Count</th>\n",
              "    </tr>\n",
              "  </thead>\n",
              "  <tbody>\n",
              "    <tr>\n",
              "      <th>0</th>\n",
              "      <td>0</td>\n",
              "      <td>25-08-2012 00:00</td>\n",
              "      <td>8</td>\n",
              "    </tr>\n",
              "    <tr>\n",
              "      <th>1</th>\n",
              "      <td>1</td>\n",
              "      <td>25-08-2012 01:00</td>\n",
              "      <td>2</td>\n",
              "    </tr>\n",
              "    <tr>\n",
              "      <th>2</th>\n",
              "      <td>2</td>\n",
              "      <td>25-08-2012 02:00</td>\n",
              "      <td>6</td>\n",
              "    </tr>\n",
              "  </tbody>\n",
              "</table>\n",
              "</div>"
            ],
            "text/plain": [
              "   ID          Datetime  Count\n",
              "0   0  25-08-2012 00:00      8\n",
              "1   1  25-08-2012 01:00      2\n",
              "2   2  25-08-2012 02:00      6"
            ]
          },
          "metadata": {
            "tags": []
          },
          "execution_count": 13
        }
      ]
    },
    {
      "metadata": {
        "id": "yEwIRIwR2AEK",
        "colab_type": "code",
        "colab": {}
      },
      "cell_type": "code",
      "source": [
        "train['Datetime'] = pd.to_datetime(train.Datetime,format='%d-%m-%Y %H:%M') \n",
        "test['Datetime'] = pd.to_datetime(test.Datetime,format='%d-%m-%Y %H:%M') \n",
        "test_original['Datetime'] = pd.to_datetime(test_original.Datetime,format='%d-%m-%Y %H:%M')\n",
        "train_original['Datetime'] = pd.to_datetime(train_original.Datetime,format='%d-%m-%Y %H:%M')"
      ],
      "execution_count": 0,
      "outputs": []
    },
    {
      "metadata": {
        "id": "K6XQXF1n97gC",
        "colab_type": "code",
        "outputId": "11d83f29-7aee-4221-f4ae-0488cc631cb7",
        "colab": {
          "base_uri": "https://localhost:8080/",
          "height": 142
        }
      },
      "cell_type": "code",
      "source": [
        "train.head(3)"
      ],
      "execution_count": 15,
      "outputs": [
        {
          "output_type": "execute_result",
          "data": {
            "text/html": [
              "<div>\n",
              "<style scoped>\n",
              "    .dataframe tbody tr th:only-of-type {\n",
              "        vertical-align: middle;\n",
              "    }\n",
              "\n",
              "    .dataframe tbody tr th {\n",
              "        vertical-align: top;\n",
              "    }\n",
              "\n",
              "    .dataframe thead th {\n",
              "        text-align: right;\n",
              "    }\n",
              "</style>\n",
              "<table border=\"1\" class=\"dataframe\">\n",
              "  <thead>\n",
              "    <tr style=\"text-align: right;\">\n",
              "      <th></th>\n",
              "      <th>ID</th>\n",
              "      <th>Datetime</th>\n",
              "      <th>Count</th>\n",
              "    </tr>\n",
              "  </thead>\n",
              "  <tbody>\n",
              "    <tr>\n",
              "      <th>0</th>\n",
              "      <td>0</td>\n",
              "      <td>2012-08-25 00:00:00</td>\n",
              "      <td>8</td>\n",
              "    </tr>\n",
              "    <tr>\n",
              "      <th>1</th>\n",
              "      <td>1</td>\n",
              "      <td>2012-08-25 01:00:00</td>\n",
              "      <td>2</td>\n",
              "    </tr>\n",
              "    <tr>\n",
              "      <th>2</th>\n",
              "      <td>2</td>\n",
              "      <td>2012-08-25 02:00:00</td>\n",
              "      <td>6</td>\n",
              "    </tr>\n",
              "  </tbody>\n",
              "</table>\n",
              "</div>"
            ],
            "text/plain": [
              "   ID            Datetime  Count\n",
              "0   0 2012-08-25 00:00:00      8\n",
              "1   1 2012-08-25 01:00:00      2\n",
              "2   2 2012-08-25 02:00:00      6"
            ]
          },
          "metadata": {
            "tags": []
          },
          "execution_count": 15
        }
      ]
    },
    {
      "metadata": {
        "id": "JJHmUivU2AWh",
        "colab_type": "code",
        "outputId": "1ce3e566-46c3-4ee2-d68e-960783cacc00",
        "colab": {
          "base_uri": "https://localhost:8080/",
          "height": 85
        }
      },
      "cell_type": "code",
      "source": [
        "train.dtypes   # Data type has been changed"
      ],
      "execution_count": 16,
      "outputs": [
        {
          "output_type": "execute_result",
          "data": {
            "text/plain": [
              "ID                   int64\n",
              "Datetime    datetime64[ns]\n",
              "Count                int64\n",
              "dtype: object"
            ]
          },
          "metadata": {
            "tags": []
          },
          "execution_count": 16
        }
      ]
    },
    {
      "metadata": {
        "id": "u2UVvXhN2Ac2",
        "colab_type": "code",
        "outputId": "bc246304-90e0-44dc-c2eb-aa7127c3f114",
        "colab": {
          "base_uri": "https://localhost:8080/",
          "height": 68
        }
      },
      "cell_type": "code",
      "source": [
        "test.dtypes   # Data type has been changed"
      ],
      "execution_count": 17,
      "outputs": [
        {
          "output_type": "execute_result",
          "data": {
            "text/plain": [
              "ID                   int64\n",
              "Datetime    datetime64[ns]\n",
              "dtype: object"
            ]
          },
          "metadata": {
            "tags": []
          },
          "execution_count": 17
        }
      ]
    },
    {
      "metadata": {
        "id": "uSUZhfA74bns",
        "colab_type": "text"
      },
      "cell_type": "markdown",
      "source": [
        "We made some hypothesis for the effect of hour, day, month and year on the passenger count. So, let’s extract the year, month, day and hour from the Datetime to validate our hypothesis"
      ]
    },
    {
      "metadata": {
        "id": "jHJf_M_F2AkF",
        "colab_type": "code",
        "colab": {}
      },
      "cell_type": "code",
      "source": [
        "for i in (train, test, test_original, train_original):\n",
        "    i['year']=i.Datetime.dt.year \n",
        "    i['month']=i.Datetime.dt.month \n",
        "    i['day']=i.Datetime.dt.day\n",
        "    i['Hour']=i.Datetime.dt.hour "
      ],
      "execution_count": 0,
      "outputs": []
    },
    {
      "metadata": {
        "id": "g1GUBLQL9OZA",
        "colab_type": "code",
        "outputId": "be4b704b-84d5-42d0-f2f2-dd957da5c7f9",
        "colab": {
          "base_uri": "https://localhost:8080/",
          "height": 204
        }
      },
      "cell_type": "code",
      "source": [
        "train.head()"
      ],
      "execution_count": 19,
      "outputs": [
        {
          "output_type": "execute_result",
          "data": {
            "text/html": [
              "<div>\n",
              "<style scoped>\n",
              "    .dataframe tbody tr th:only-of-type {\n",
              "        vertical-align: middle;\n",
              "    }\n",
              "\n",
              "    .dataframe tbody tr th {\n",
              "        vertical-align: top;\n",
              "    }\n",
              "\n",
              "    .dataframe thead th {\n",
              "        text-align: right;\n",
              "    }\n",
              "</style>\n",
              "<table border=\"1\" class=\"dataframe\">\n",
              "  <thead>\n",
              "    <tr style=\"text-align: right;\">\n",
              "      <th></th>\n",
              "      <th>ID</th>\n",
              "      <th>Datetime</th>\n",
              "      <th>Count</th>\n",
              "      <th>year</th>\n",
              "      <th>month</th>\n",
              "      <th>day</th>\n",
              "      <th>Hour</th>\n",
              "    </tr>\n",
              "  </thead>\n",
              "  <tbody>\n",
              "    <tr>\n",
              "      <th>0</th>\n",
              "      <td>0</td>\n",
              "      <td>2012-08-25 00:00:00</td>\n",
              "      <td>8</td>\n",
              "      <td>2012</td>\n",
              "      <td>8</td>\n",
              "      <td>25</td>\n",
              "      <td>0</td>\n",
              "    </tr>\n",
              "    <tr>\n",
              "      <th>1</th>\n",
              "      <td>1</td>\n",
              "      <td>2012-08-25 01:00:00</td>\n",
              "      <td>2</td>\n",
              "      <td>2012</td>\n",
              "      <td>8</td>\n",
              "      <td>25</td>\n",
              "      <td>1</td>\n",
              "    </tr>\n",
              "    <tr>\n",
              "      <th>2</th>\n",
              "      <td>2</td>\n",
              "      <td>2012-08-25 02:00:00</td>\n",
              "      <td>6</td>\n",
              "      <td>2012</td>\n",
              "      <td>8</td>\n",
              "      <td>25</td>\n",
              "      <td>2</td>\n",
              "    </tr>\n",
              "    <tr>\n",
              "      <th>3</th>\n",
              "      <td>3</td>\n",
              "      <td>2012-08-25 03:00:00</td>\n",
              "      <td>2</td>\n",
              "      <td>2012</td>\n",
              "      <td>8</td>\n",
              "      <td>25</td>\n",
              "      <td>3</td>\n",
              "    </tr>\n",
              "    <tr>\n",
              "      <th>4</th>\n",
              "      <td>4</td>\n",
              "      <td>2012-08-25 04:00:00</td>\n",
              "      <td>2</td>\n",
              "      <td>2012</td>\n",
              "      <td>8</td>\n",
              "      <td>25</td>\n",
              "      <td>4</td>\n",
              "    </tr>\n",
              "  </tbody>\n",
              "</table>\n",
              "</div>"
            ],
            "text/plain": [
              "   ID            Datetime  Count  year  month  day  Hour\n",
              "0   0 2012-08-25 00:00:00      8  2012      8   25     0\n",
              "1   1 2012-08-25 01:00:00      2  2012      8   25     1\n",
              "2   2 2012-08-25 02:00:00      6  2012      8   25     2\n",
              "3   3 2012-08-25 03:00:00      2  2012      8   25     3\n",
              "4   4 2012-08-25 04:00:00      2  2012      8   25     4"
            ]
          },
          "metadata": {
            "tags": []
          },
          "execution_count": 19
        }
      ]
    },
    {
      "metadata": {
        "id": "aa5nsJkt5kst",
        "colab_type": "text"
      },
      "cell_type": "markdown",
      "source": [
        "We made a hypothesis for the traffic pattern on weekday and weekend as well. So, let’s make a weekend variable to visualize the impact of weekend on traffic.\n",
        "\n",
        "We will first extract the day of week from Datetime and then based on the values we will assign whether the day is a weekend or not.\n",
        "\n",
        "Values of 5 and 6 represents that the days are weekend."
      ]
    },
    {
      "metadata": {
        "id": "rklwh_3T2Aqo",
        "colab_type": "code",
        "colab": {}
      },
      "cell_type": "code",
      "source": [
        "train['day of week'] = train['Datetime'].dt.dayofweek \n",
        "temp = train['Datetime']"
      ],
      "execution_count": 0,
      "outputs": []
    },
    {
      "metadata": {
        "id": "lssv9Ysd-OVN",
        "colab_type": "code",
        "outputId": "730c4304-f517-447d-dc9a-b33091f00865",
        "colab": {
          "base_uri": "https://localhost:8080/",
          "height": 142
        }
      },
      "cell_type": "code",
      "source": [
        "train.head(3)"
      ],
      "execution_count": 21,
      "outputs": [
        {
          "output_type": "execute_result",
          "data": {
            "text/html": [
              "<div>\n",
              "<style scoped>\n",
              "    .dataframe tbody tr th:only-of-type {\n",
              "        vertical-align: middle;\n",
              "    }\n",
              "\n",
              "    .dataframe tbody tr th {\n",
              "        vertical-align: top;\n",
              "    }\n",
              "\n",
              "    .dataframe thead th {\n",
              "        text-align: right;\n",
              "    }\n",
              "</style>\n",
              "<table border=\"1\" class=\"dataframe\">\n",
              "  <thead>\n",
              "    <tr style=\"text-align: right;\">\n",
              "      <th></th>\n",
              "      <th>ID</th>\n",
              "      <th>Datetime</th>\n",
              "      <th>Count</th>\n",
              "      <th>year</th>\n",
              "      <th>month</th>\n",
              "      <th>day</th>\n",
              "      <th>Hour</th>\n",
              "      <th>day of week</th>\n",
              "    </tr>\n",
              "  </thead>\n",
              "  <tbody>\n",
              "    <tr>\n",
              "      <th>0</th>\n",
              "      <td>0</td>\n",
              "      <td>2012-08-25 00:00:00</td>\n",
              "      <td>8</td>\n",
              "      <td>2012</td>\n",
              "      <td>8</td>\n",
              "      <td>25</td>\n",
              "      <td>0</td>\n",
              "      <td>5</td>\n",
              "    </tr>\n",
              "    <tr>\n",
              "      <th>1</th>\n",
              "      <td>1</td>\n",
              "      <td>2012-08-25 01:00:00</td>\n",
              "      <td>2</td>\n",
              "      <td>2012</td>\n",
              "      <td>8</td>\n",
              "      <td>25</td>\n",
              "      <td>1</td>\n",
              "      <td>5</td>\n",
              "    </tr>\n",
              "    <tr>\n",
              "      <th>2</th>\n",
              "      <td>2</td>\n",
              "      <td>2012-08-25 02:00:00</td>\n",
              "      <td>6</td>\n",
              "      <td>2012</td>\n",
              "      <td>8</td>\n",
              "      <td>25</td>\n",
              "      <td>2</td>\n",
              "      <td>5</td>\n",
              "    </tr>\n",
              "  </tbody>\n",
              "</table>\n",
              "</div>"
            ],
            "text/plain": [
              "   ID            Datetime  Count  year  month  day  Hour  day of week\n",
              "0   0 2012-08-25 00:00:00      8  2012      8   25     0            5\n",
              "1   1 2012-08-25 01:00:00      2  2012      8   25     1            5\n",
              "2   2 2012-08-25 02:00:00      6  2012      8   25     2            5"
            ]
          },
          "metadata": {
            "tags": []
          },
          "execution_count": 21
        }
      ]
    },
    {
      "metadata": {
        "id": "CE8NKw812AuY",
        "colab_type": "code",
        "outputId": "28b68902-ad28-43a1-b666-78979c39f7af",
        "colab": {
          "base_uri": "https://localhost:8080/",
          "height": 119
        }
      },
      "cell_type": "code",
      "source": [
        "print(train['day of week'][:5])"
      ],
      "execution_count": 22,
      "outputs": [
        {
          "output_type": "stream",
          "text": [
            "0    5\n",
            "1    5\n",
            "2    5\n",
            "3    5\n",
            "4    5\n",
            "Name: day of week, dtype: int64\n"
          ],
          "name": "stdout"
        }
      ]
    },
    {
      "metadata": {
        "id": "-DnPz6aJ2Azb",
        "colab_type": "code",
        "colab": {}
      },
      "cell_type": "code",
      "source": [
        "def applyer(var_week):\n",
        "    if var_week.dayofweek == 5 or var_week.dayofweek == 6:\n",
        "        return 1\n",
        "    else:\n",
        "        return 0 \n",
        "temp2 = train['Datetime'].apply(applyer)  # apply() method is used for seires time format.\n",
        "train['weekend']=temp2   # one more column is added in the training dataset"
      ],
      "execution_count": 0,
      "outputs": []
    },
    {
      "metadata": {
        "id": "3Pv2GuYX-di0",
        "colab_type": "code",
        "outputId": "907f928a-fa61-484c-bd07-9b2d2fc34307",
        "colab": {
          "base_uri": "https://localhost:8080/",
          "height": 204
        }
      },
      "cell_type": "code",
      "source": [
        "train.head()"
      ],
      "execution_count": 24,
      "outputs": [
        {
          "output_type": "execute_result",
          "data": {
            "text/html": [
              "<div>\n",
              "<style scoped>\n",
              "    .dataframe tbody tr th:only-of-type {\n",
              "        vertical-align: middle;\n",
              "    }\n",
              "\n",
              "    .dataframe tbody tr th {\n",
              "        vertical-align: top;\n",
              "    }\n",
              "\n",
              "    .dataframe thead th {\n",
              "        text-align: right;\n",
              "    }\n",
              "</style>\n",
              "<table border=\"1\" class=\"dataframe\">\n",
              "  <thead>\n",
              "    <tr style=\"text-align: right;\">\n",
              "      <th></th>\n",
              "      <th>ID</th>\n",
              "      <th>Datetime</th>\n",
              "      <th>Count</th>\n",
              "      <th>year</th>\n",
              "      <th>month</th>\n",
              "      <th>day</th>\n",
              "      <th>Hour</th>\n",
              "      <th>day of week</th>\n",
              "      <th>weekend</th>\n",
              "    </tr>\n",
              "  </thead>\n",
              "  <tbody>\n",
              "    <tr>\n",
              "      <th>0</th>\n",
              "      <td>0</td>\n",
              "      <td>2012-08-25 00:00:00</td>\n",
              "      <td>8</td>\n",
              "      <td>2012</td>\n",
              "      <td>8</td>\n",
              "      <td>25</td>\n",
              "      <td>0</td>\n",
              "      <td>5</td>\n",
              "      <td>1</td>\n",
              "    </tr>\n",
              "    <tr>\n",
              "      <th>1</th>\n",
              "      <td>1</td>\n",
              "      <td>2012-08-25 01:00:00</td>\n",
              "      <td>2</td>\n",
              "      <td>2012</td>\n",
              "      <td>8</td>\n",
              "      <td>25</td>\n",
              "      <td>1</td>\n",
              "      <td>5</td>\n",
              "      <td>1</td>\n",
              "    </tr>\n",
              "    <tr>\n",
              "      <th>2</th>\n",
              "      <td>2</td>\n",
              "      <td>2012-08-25 02:00:00</td>\n",
              "      <td>6</td>\n",
              "      <td>2012</td>\n",
              "      <td>8</td>\n",
              "      <td>25</td>\n",
              "      <td>2</td>\n",
              "      <td>5</td>\n",
              "      <td>1</td>\n",
              "    </tr>\n",
              "    <tr>\n",
              "      <th>3</th>\n",
              "      <td>3</td>\n",
              "      <td>2012-08-25 03:00:00</td>\n",
              "      <td>2</td>\n",
              "      <td>2012</td>\n",
              "      <td>8</td>\n",
              "      <td>25</td>\n",
              "      <td>3</td>\n",
              "      <td>5</td>\n",
              "      <td>1</td>\n",
              "    </tr>\n",
              "    <tr>\n",
              "      <th>4</th>\n",
              "      <td>4</td>\n",
              "      <td>2012-08-25 04:00:00</td>\n",
              "      <td>2</td>\n",
              "      <td>2012</td>\n",
              "      <td>8</td>\n",
              "      <td>25</td>\n",
              "      <td>4</td>\n",
              "      <td>5</td>\n",
              "      <td>1</td>\n",
              "    </tr>\n",
              "  </tbody>\n",
              "</table>\n",
              "</div>"
            ],
            "text/plain": [
              "   ID            Datetime  Count  year  month  day  Hour  day of week  weekend\n",
              "0   0 2012-08-25 00:00:00      8  2012      8   25     0            5        1\n",
              "1   1 2012-08-25 01:00:00      2  2012      8   25     1            5        1\n",
              "2   2 2012-08-25 02:00:00      6  2012      8   25     2            5        1\n",
              "3   3 2012-08-25 03:00:00      2  2012      8   25     3            5        1\n",
              "4   4 2012-08-25 04:00:00      2  2012      8   25     4            5        1"
            ]
          },
          "metadata": {
            "tags": []
          },
          "execution_count": 24
        }
      ]
    },
    {
      "metadata": {
        "id": "SJ7ynou07iQX",
        "colab_type": "text"
      },
      "cell_type": "markdown",
      "source": [
        "Let’s look at the time series."
      ]
    },
    {
      "metadata": {
        "id": "1ycL7WpM2A5j",
        "colab_type": "code",
        "outputId": "bb9d4115-4b1b-4c2b-8291-d151869eec8e",
        "colab": {
          "base_uri": "https://localhost:8080/",
          "height": 221
        }
      },
      "cell_type": "code",
      "source": [
        "train.index = train['Datetime'] # indexing the Datetime to get the time period on the x-axis. \n",
        "train.index     # This is looking like a variable but it is something else."
      ],
      "execution_count": 25,
      "outputs": [
        {
          "output_type": "execute_result",
          "data": {
            "text/plain": [
              "DatetimeIndex(['2012-08-25 00:00:00', '2012-08-25 01:00:00',\n",
              "               '2012-08-25 02:00:00', '2012-08-25 03:00:00',\n",
              "               '2012-08-25 04:00:00', '2012-08-25 05:00:00',\n",
              "               '2012-08-25 06:00:00', '2012-08-25 07:00:00',\n",
              "               '2012-08-25 08:00:00', '2012-08-25 09:00:00',\n",
              "               ...\n",
              "               '2014-09-25 14:00:00', '2014-09-25 15:00:00',\n",
              "               '2014-09-25 16:00:00', '2014-09-25 17:00:00',\n",
              "               '2014-09-25 18:00:00', '2014-09-25 19:00:00',\n",
              "               '2014-09-25 20:00:00', '2014-09-25 21:00:00',\n",
              "               '2014-09-25 22:00:00', '2014-09-25 23:00:00'],\n",
              "              dtype='datetime64[ns]', name='Datetime', length=18288, freq=None)"
            ]
          },
          "metadata": {
            "tags": []
          },
          "execution_count": 25
        }
      ]
    },
    {
      "metadata": {
        "id": "obNM1x4T84OZ",
        "colab_type": "code",
        "outputId": "c5c28fa7-6b23-4f07-abf8-e0940872210f",
        "colab": {
          "base_uri": "https://localhost:8080/",
          "height": 235
        }
      },
      "cell_type": "code",
      "source": [
        "train.head()  # after completion of indexing the Datetime , we have time period on the x-axis."
      ],
      "execution_count": 26,
      "outputs": [
        {
          "output_type": "execute_result",
          "data": {
            "text/html": [
              "<div>\n",
              "<style scoped>\n",
              "    .dataframe tbody tr th:only-of-type {\n",
              "        vertical-align: middle;\n",
              "    }\n",
              "\n",
              "    .dataframe tbody tr th {\n",
              "        vertical-align: top;\n",
              "    }\n",
              "\n",
              "    .dataframe thead th {\n",
              "        text-align: right;\n",
              "    }\n",
              "</style>\n",
              "<table border=\"1\" class=\"dataframe\">\n",
              "  <thead>\n",
              "    <tr style=\"text-align: right;\">\n",
              "      <th></th>\n",
              "      <th>ID</th>\n",
              "      <th>Datetime</th>\n",
              "      <th>Count</th>\n",
              "      <th>year</th>\n",
              "      <th>month</th>\n",
              "      <th>day</th>\n",
              "      <th>Hour</th>\n",
              "      <th>day of week</th>\n",
              "      <th>weekend</th>\n",
              "    </tr>\n",
              "    <tr>\n",
              "      <th>Datetime</th>\n",
              "      <th></th>\n",
              "      <th></th>\n",
              "      <th></th>\n",
              "      <th></th>\n",
              "      <th></th>\n",
              "      <th></th>\n",
              "      <th></th>\n",
              "      <th></th>\n",
              "      <th></th>\n",
              "    </tr>\n",
              "  </thead>\n",
              "  <tbody>\n",
              "    <tr>\n",
              "      <th>2012-08-25 00:00:00</th>\n",
              "      <td>0</td>\n",
              "      <td>2012-08-25 00:00:00</td>\n",
              "      <td>8</td>\n",
              "      <td>2012</td>\n",
              "      <td>8</td>\n",
              "      <td>25</td>\n",
              "      <td>0</td>\n",
              "      <td>5</td>\n",
              "      <td>1</td>\n",
              "    </tr>\n",
              "    <tr>\n",
              "      <th>2012-08-25 01:00:00</th>\n",
              "      <td>1</td>\n",
              "      <td>2012-08-25 01:00:00</td>\n",
              "      <td>2</td>\n",
              "      <td>2012</td>\n",
              "      <td>8</td>\n",
              "      <td>25</td>\n",
              "      <td>1</td>\n",
              "      <td>5</td>\n",
              "      <td>1</td>\n",
              "    </tr>\n",
              "    <tr>\n",
              "      <th>2012-08-25 02:00:00</th>\n",
              "      <td>2</td>\n",
              "      <td>2012-08-25 02:00:00</td>\n",
              "      <td>6</td>\n",
              "      <td>2012</td>\n",
              "      <td>8</td>\n",
              "      <td>25</td>\n",
              "      <td>2</td>\n",
              "      <td>5</td>\n",
              "      <td>1</td>\n",
              "    </tr>\n",
              "    <tr>\n",
              "      <th>2012-08-25 03:00:00</th>\n",
              "      <td>3</td>\n",
              "      <td>2012-08-25 03:00:00</td>\n",
              "      <td>2</td>\n",
              "      <td>2012</td>\n",
              "      <td>8</td>\n",
              "      <td>25</td>\n",
              "      <td>3</td>\n",
              "      <td>5</td>\n",
              "      <td>1</td>\n",
              "    </tr>\n",
              "    <tr>\n",
              "      <th>2012-08-25 04:00:00</th>\n",
              "      <td>4</td>\n",
              "      <td>2012-08-25 04:00:00</td>\n",
              "      <td>2</td>\n",
              "      <td>2012</td>\n",
              "      <td>8</td>\n",
              "      <td>25</td>\n",
              "      <td>4</td>\n",
              "      <td>5</td>\n",
              "      <td>1</td>\n",
              "    </tr>\n",
              "  </tbody>\n",
              "</table>\n",
              "</div>"
            ],
            "text/plain": [
              "                     ID            Datetime  Count  year  month  day  Hour  \\\n",
              "Datetime                                                                     \n",
              "2012-08-25 00:00:00   0 2012-08-25 00:00:00      8  2012      8   25     0   \n",
              "2012-08-25 01:00:00   1 2012-08-25 01:00:00      2  2012      8   25     1   \n",
              "2012-08-25 02:00:00   2 2012-08-25 02:00:00      6  2012      8   25     2   \n",
              "2012-08-25 03:00:00   3 2012-08-25 03:00:00      2  2012      8   25     3   \n",
              "2012-08-25 04:00:00   4 2012-08-25 04:00:00      2  2012      8   25     4   \n",
              "\n",
              "                     day of week  weekend  \n",
              "Datetime                                   \n",
              "2012-08-25 00:00:00            5        1  \n",
              "2012-08-25 01:00:00            5        1  \n",
              "2012-08-25 02:00:00            5        1  \n",
              "2012-08-25 03:00:00            5        1  \n",
              "2012-08-25 04:00:00            5        1  "
            ]
          },
          "metadata": {
            "tags": []
          },
          "execution_count": 26
        }
      ]
    },
    {
      "metadata": {
        "id": "Xga9662g2BHD",
        "colab_type": "code",
        "outputId": "38ddaebe-f27e-471a-e377-586d4dc3372c",
        "colab": {
          "base_uri": "https://localhost:8080/",
          "height": 235
        }
      },
      "cell_type": "code",
      "source": [
        "df=train.drop('ID',1)           # drop ID variable to get only the Datetime on x-axis. \n",
        "df.head()  # ID has been removed "
      ],
      "execution_count": 27,
      "outputs": [
        {
          "output_type": "execute_result",
          "data": {
            "text/html": [
              "<div>\n",
              "<style scoped>\n",
              "    .dataframe tbody tr th:only-of-type {\n",
              "        vertical-align: middle;\n",
              "    }\n",
              "\n",
              "    .dataframe tbody tr th {\n",
              "        vertical-align: top;\n",
              "    }\n",
              "\n",
              "    .dataframe thead th {\n",
              "        text-align: right;\n",
              "    }\n",
              "</style>\n",
              "<table border=\"1\" class=\"dataframe\">\n",
              "  <thead>\n",
              "    <tr style=\"text-align: right;\">\n",
              "      <th></th>\n",
              "      <th>Datetime</th>\n",
              "      <th>Count</th>\n",
              "      <th>year</th>\n",
              "      <th>month</th>\n",
              "      <th>day</th>\n",
              "      <th>Hour</th>\n",
              "      <th>day of week</th>\n",
              "      <th>weekend</th>\n",
              "    </tr>\n",
              "    <tr>\n",
              "      <th>Datetime</th>\n",
              "      <th></th>\n",
              "      <th></th>\n",
              "      <th></th>\n",
              "      <th></th>\n",
              "      <th></th>\n",
              "      <th></th>\n",
              "      <th></th>\n",
              "      <th></th>\n",
              "    </tr>\n",
              "  </thead>\n",
              "  <tbody>\n",
              "    <tr>\n",
              "      <th>2012-08-25 00:00:00</th>\n",
              "      <td>2012-08-25 00:00:00</td>\n",
              "      <td>8</td>\n",
              "      <td>2012</td>\n",
              "      <td>8</td>\n",
              "      <td>25</td>\n",
              "      <td>0</td>\n",
              "      <td>5</td>\n",
              "      <td>1</td>\n",
              "    </tr>\n",
              "    <tr>\n",
              "      <th>2012-08-25 01:00:00</th>\n",
              "      <td>2012-08-25 01:00:00</td>\n",
              "      <td>2</td>\n",
              "      <td>2012</td>\n",
              "      <td>8</td>\n",
              "      <td>25</td>\n",
              "      <td>1</td>\n",
              "      <td>5</td>\n",
              "      <td>1</td>\n",
              "    </tr>\n",
              "    <tr>\n",
              "      <th>2012-08-25 02:00:00</th>\n",
              "      <td>2012-08-25 02:00:00</td>\n",
              "      <td>6</td>\n",
              "      <td>2012</td>\n",
              "      <td>8</td>\n",
              "      <td>25</td>\n",
              "      <td>2</td>\n",
              "      <td>5</td>\n",
              "      <td>1</td>\n",
              "    </tr>\n",
              "    <tr>\n",
              "      <th>2012-08-25 03:00:00</th>\n",
              "      <td>2012-08-25 03:00:00</td>\n",
              "      <td>2</td>\n",
              "      <td>2012</td>\n",
              "      <td>8</td>\n",
              "      <td>25</td>\n",
              "      <td>3</td>\n",
              "      <td>5</td>\n",
              "      <td>1</td>\n",
              "    </tr>\n",
              "    <tr>\n",
              "      <th>2012-08-25 04:00:00</th>\n",
              "      <td>2012-08-25 04:00:00</td>\n",
              "      <td>2</td>\n",
              "      <td>2012</td>\n",
              "      <td>8</td>\n",
              "      <td>25</td>\n",
              "      <td>4</td>\n",
              "      <td>5</td>\n",
              "      <td>1</td>\n",
              "    </tr>\n",
              "  </tbody>\n",
              "</table>\n",
              "</div>"
            ],
            "text/plain": [
              "                               Datetime  Count  year  month  day  Hour  \\\n",
              "Datetime                                                                 \n",
              "2012-08-25 00:00:00 2012-08-25 00:00:00      8  2012      8   25     0   \n",
              "2012-08-25 01:00:00 2012-08-25 01:00:00      2  2012      8   25     1   \n",
              "2012-08-25 02:00:00 2012-08-25 02:00:00      6  2012      8   25     2   \n",
              "2012-08-25 03:00:00 2012-08-25 03:00:00      2  2012      8   25     3   \n",
              "2012-08-25 04:00:00 2012-08-25 04:00:00      2  2012      8   25     4   \n",
              "\n",
              "                     day of week  weekend  \n",
              "Datetime                                   \n",
              "2012-08-25 00:00:00            5        1  \n",
              "2012-08-25 01:00:00            5        1  \n",
              "2012-08-25 02:00:00            5        1  \n",
              "2012-08-25 03:00:00            5        1  \n",
              "2012-08-25 04:00:00            5        1  "
            ]
          },
          "metadata": {
            "tags": []
          },
          "execution_count": 27
        }
      ]
    },
    {
      "metadata": {
        "id": "nMQcAs1F2BKn",
        "colab_type": "code",
        "outputId": "e3fc1d73-3d4e-43b6-f01d-7b221fe9a034",
        "colab": {
          "base_uri": "https://localhost:8080/",
          "height": 529
        }
      },
      "cell_type": "code",
      "source": [
        "ts = df['Count'] \n",
        "plt.figure(figsize=(16,8)) \n",
        "plt.plot(ts, label='Passenger Count') \n",
        "plt.title('Time Series') \n",
        "plt.xlabel(\"Time(year-month)\") \n",
        "plt.ylabel(\"Passenger count\") \n",
        "plt.legend(loc='best')   # To give the label in the graph (right-top side)"
      ],
      "execution_count": 28,
      "outputs": [
        {
          "output_type": "execute_result",
          "data": {
            "text/plain": [
              "<matplotlib.legend.Legend at 0x7f3b384e9668>"
            ]
          },
          "metadata": {
            "tags": []
          },
          "execution_count": 28
        },
        {
          "output_type": "display_data",
          "data": {
            "image/png": "[encoded data removed]",
            "text/plain": [
              "<Figure size 1152x576 with 1 Axes>"
            ]
          },
          "metadata": {
            "tags": []
          }
        }
      ]
    },
    {
      "metadata": {
        "id": "bK_vyzGuAJze",
        "colab_type": "text"
      },
      "cell_type": "markdown",
      "source": [
        "Here we can infer that there is an increasing trend in the series, i.e., the number of count is increasing with respect to time. We can also see that at certain points there is a sudden increase in the number of counts. The possible reason behind this could be that on particular day, due to some event the traffic was high.\n",
        "\n",
        "We will work on the train file for all the analysis and will use the test file for forecasting."
      ]
    },
    {
      "metadata": {
        "id": "XP7innWcBUum",
        "colab_type": "text"
      },
      "cell_type": "markdown",
      "source": [
        "Lets recall the hypothesis that we made earlier:\n",
        "\n",
        "\n",
        "```\n",
        "\n",
        "Traffic will increase as the years pass by\n",
        "Traffic will be high from May to October\n",
        "Traffic on weekdays will be more\n",
        "Traffic during the peak hours will be high\n",
        "```\n",
        "\n",
        "\n",
        "After having a look at the dataset, we will now try to validate our hypothesis and make other inferences from the dataset."
      ]
    },
    {
      "metadata": {
        "id": "zVP8KQyHBfnv",
        "colab_type": "text"
      },
      "cell_type": "markdown",
      "source": [
        "#Exploratory Analysis"
      ]
    },
    {
      "metadata": {
        "id": "jziO8CBOByfY",
        "colab_type": "text"
      },
      "cell_type": "markdown",
      "source": [
        "Let's' try to verify our hypothesis using the actual data.  (training data)\n",
        "\n",
        "Our first hypothesis was traffic will increase as the years pass by.\n",
        "\n",
        "So let’s look at yearly passenger count."
      ]
    },
    {
      "metadata": {
        "id": "oV9FceMG2BE5",
        "colab_type": "code",
        "outputId": "aa7c741f-e42b-4f72-eb02-c845cfa46c7f",
        "colab": {
          "base_uri": "https://localhost:8080/",
          "height": 309
        }
      },
      "cell_type": "code",
      "source": [
        "train.groupby('year')['Count'].mean().plot.bar()"
      ],
      "execution_count": 29,
      "outputs": [
        {
          "output_type": "execute_result",
          "data": {
            "text/plain": [
              "<matplotlib.axes._subplots.AxesSubplot at 0x7f3b386f4a20>"
            ]
          },
          "metadata": {
            "tags": []
          },
          "execution_count": 29
        },
        {
          "output_type": "display_data",
          "data": {
            "image/png": "[encoded data removed]",
            "text/plain": [
              "<Figure size 432x288 with 1 Axes>"
            ]
          },
          "metadata": {
            "tags": []
          }
        }
      ]
    },
    {
      "metadata": {
        "id": "wkXTld5oI50V",
        "colab_type": "code",
        "outputId": "df30fcb7-c22e-4759-80c6-a2b5d16155f5",
        "colab": {
          "base_uri": "https://localhost:8080/",
          "height": 386
        }
      },
      "cell_type": "code",
      "source": [
        "sns.lmplot(data=train, x ='year',y='Count')   #By linear regression we can see that No. of passengers is increasing per year. But this is not good method."
      ],
      "execution_count": 30,
      "outputs": [
        {
          "output_type": "execute_result",
          "data": {
            "text/plain": [
              "<seaborn.axisgrid.FacetGrid at 0x7f3b386dae10>"
            ]
          },
          "metadata": {
            "tags": []
          },
          "execution_count": 30
        },
        {
          "output_type": "display_data",
          "data": {
            "image/png": "[encoded data removed]",
            "text/plain": [
              "<Figure size 360x360 with 1 Axes>"
            ]
          },
          "metadata": {
            "tags": []
          }
        }
      ]
    },
    {
      "metadata": {
        "id": "EWeiq_9oH1O_",
        "colab_type": "text"
      },
      "cell_type": "markdown",
      "source": [
        "We have seen an exponential growth in the traffic with respect to year which validates our hypothesis.\n",
        "\n",
        "Our second hypothesis was about increase in traffic from May to October. So, let’s see the relation between count and month."
      ]
    },
    {
      "metadata": {
        "id": "6dHQIg4K2A-S",
        "colab_type": "code",
        "outputId": "f4d452ed-7629-4048-85fc-bdf1d51108c5",
        "colab": {
          "base_uri": "https://localhost:8080/",
          "height": 298
        }
      },
      "cell_type": "code",
      "source": [
        "train.groupby('month')['Count'].mean().plot.bar()   # according to month ,we will check How many passengers are travelling per month."
      ],
      "execution_count": 31,
      "outputs": [
        {
          "output_type": "execute_result",
          "data": {
            "text/plain": [
              "<matplotlib.axes._subplots.AxesSubplot at 0x7f3b38562630>"
            ]
          },
          "metadata": {
            "tags": []
          },
          "execution_count": 31
        },
        {
          "output_type": "display_data",
          "data": {
            "image/png": "[encoded data removed]",
            "text/plain": [
              "<Figure size 432x288 with 1 Axes>"
            ]
          },
          "metadata": {
            "tags": []
          }
        }
      ]
    },
    {
      "metadata": {
        "id": "cFAVhusI2A3X",
        "colab_type": "code",
        "outputId": "51d7389b-dd6c-475a-97ba-4c7c51f64017",
        "colab": {
          "base_uri": "https://localhost:8080/",
          "height": 34
        }
      },
      "cell_type": "code",
      "source": [
        "len(train['month']) , train['month'].shape"
      ],
      "execution_count": 32,
      "outputs": [
        {
          "output_type": "execute_result",
          "data": {
            "text/plain": [
              "(18288, (18288,))"
            ]
          },
          "metadata": {
            "tags": []
          },
          "execution_count": 32
        }
      ]
    },
    {
      "metadata": {
        "id": "RlX4zKP-2AyA",
        "colab_type": "code",
        "outputId": "c9a1f23f-4c54-4a70-aa8e-90a09bdec1f8",
        "colab": {
          "base_uri": "https://localhost:8080/",
          "height": 51
        }
      },
      "cell_type": "code",
      "source": [
        "m=np.unique(train['month'])\n",
        "print(len(m))\n",
        "print(m)"
      ],
      "execution_count": 33,
      "outputs": [
        {
          "output_type": "stream",
          "text": [
            "12\n",
            "[ 1  2  3  4  5  6  7  8  9 10 11 12]\n"
          ],
          "name": "stdout"
        }
      ]
    },
    {
      "metadata": {
        "id": "W4Vs8Vyt2ApA",
        "colab_type": "code",
        "outputId": "6491bf6a-6612-4ebd-ed1a-6ad2dafb4f60",
        "colab": {
          "base_uri": "https://localhost:8080/",
          "height": 51
        }
      },
      "cell_type": "code",
      "source": [
        "y=np.unique(train['year'])\n",
        "print(len(y))\n",
        "print(y)"
      ],
      "execution_count": 34,
      "outputs": [
        {
          "output_type": "stream",
          "text": [
            "3\n",
            "[2012 2013 2014]\n"
          ],
          "name": "stdout"
        }
      ]
    },
    {
      "metadata": {
        "id": "-H3mU_rGIwLq",
        "colab_type": "text"
      },
      "cell_type": "markdown",
      "source": [
        "Here we see a decrease in the mean of passenger count in last three months (In monthly graph ).  This does not look right. Let’s look at the monthly mean of each year separately."
      ]
    },
    {
      "metadata": {
        "id": "h5EgFEEA2AbX",
        "colab_type": "code",
        "outputId": "f5b8727b-c390-4ee0-d930-e64108d9a960",
        "colab": {
          "base_uri": "https://localhost:8080/",
          "height": 332
        }
      },
      "cell_type": "code",
      "source": [
        "temp=train.groupby(['year', 'month'])['Count'].mean() \n",
        "temp.plot.bar()"
      ],
      "execution_count": 35,
      "outputs": [
        {
          "output_type": "execute_result",
          "data": {
            "text/plain": [
              "<matplotlib.axes._subplots.AxesSubplot at 0x7f3b3649b2e8>"
            ]
          },
          "metadata": {
            "tags": []
          },
          "execution_count": 35
        },
        {
          "output_type": "display_data",
          "data": {
            "image/png": "[encoded data removed]",
            "text/plain": [
              "<Figure size 432x288 with 1 Axes>"
            ]
          },
          "metadata": {
            "tags": []
          }
        }
      ]
    },
    {
      "metadata": {
        "id": "d-xryKPP2AZn",
        "colab_type": "code",
        "outputId": "6c40d11c-48a1-4bc9-a192-aae54f7437e5",
        "colab": {
          "base_uri": "https://localhost:8080/",
          "height": 356
        }
      },
      "cell_type": "code",
      "source": [
        "temp.plot(figsize=(15,5), title= 'Passenger Count(Monthwise)', fontsize=14)"
      ],
      "execution_count": 36,
      "outputs": [
        {
          "output_type": "execute_result",
          "data": {
            "text/plain": [
              "<matplotlib.axes._subplots.AxesSubplot at 0x7f3b386dad30>"
            ]
          },
          "metadata": {
            "tags": []
          },
          "execution_count": 36
        },
        {
          "output_type": "display_data",
          "data": {
            "image/png": "[encoded data removed]",
            "text/plain": [
              "<Figure size 1080x360 with 1 Axes>"
            ]
          },
          "metadata": {
            "tags": []
          }
        }
      ]
    },
    {
      "metadata": {
        "id": "llRmRl3-LDTm",
        "colab_type": "text"
      },
      "cell_type": "markdown",
      "source": [
        "~~We see that the months 10, 11 and 12 are not present for the year 2014 and the mean value for these months in year 2012 is very less.\n",
        "\n",
        "~~Since there is an increasing trend in our time series, the mean value for rest of the months will be more because of their larger passenger counts in year 2014 and we will get smaller value for these 3 months.\n",
        "\n",
        "\n",
        "~~In the above line plot we can see an increasing trend in monthly passenger count and the growth is approximately exponential.\n",
        "\n",
        "Let’s look at the daily mean of passenger count."
      ]
    },
    {
      "metadata": {
        "id": "GsOvQ02q2AVI",
        "colab_type": "code",
        "outputId": "75ba0052-35e0-4311-8183-da4e1964a72b",
        "colab": {
          "base_uri": "https://localhost:8080/",
          "height": 299
        }
      },
      "cell_type": "code",
      "source": [
        "train.groupby('day')['Count'].mean().plot.bar()"
      ],
      "execution_count": 37,
      "outputs": [
        {
          "output_type": "execute_result",
          "data": {
            "text/plain": [
              "<matplotlib.axes._subplots.AxesSubplot at 0x7f3b3649b7f0>"
            ]
          },
          "metadata": {
            "tags": []
          },
          "execution_count": 37
        },
        {
          "output_type": "display_data",
          "data": {
            "image/png": "[encoded data removed]",
            "text/plain": [
              "<Figure size 432x288 with 1 Axes>"
            ]
          },
          "metadata": {
            "tags": []
          }
        }
      ]
    },
    {
      "metadata": {
        "id": "-RdmCRCeL7TD",
        "colab_type": "text"
      },
      "cell_type": "markdown",
      "source": [
        "We are not getting much insights from day wise count of the passengers.\n",
        "\n",
        "We also made a hypothesis that the traffic will be more during peak hours. So let’s see the mean of hourly passenger count."
      ]
    },
    {
      "metadata": {
        "id": "VpJoGcLe2ATJ",
        "colab_type": "code",
        "outputId": "6f247524-f6c8-46e3-91b6-2ea8b137cf39",
        "colab": {
          "base_uri": "https://localhost:8080/",
          "height": 298
        }
      },
      "cell_type": "code",
      "source": [
        "train.groupby('Hour')['Count'].mean().plot.bar()"
      ],
      "execution_count": 38,
      "outputs": [
        {
          "output_type": "execute_result",
          "data": {
            "text/plain": [
              "<matplotlib.axes._subplots.AxesSubplot at 0x7f3b36389da0>"
            ]
          },
          "metadata": {
            "tags": []
          },
          "execution_count": 38
        },
        {
          "output_type": "display_data",
          "data": {
            "image/png": "[encoded data removed]",
            "text/plain": [
              "<Figure size 432x288 with 1 Axes>"
            ]
          },
          "metadata": {
            "tags": []
          }
        }
      ]
    },
    {
      "metadata": {
        "id": "AxzvzO5fMjOA",
        "colab_type": "text"
      },
      "cell_type": "markdown",
      "source": [
        "It can be inferred that the peak traffic is at 7 PM (19) and then we see a decreasing trend till 5 AM.\n",
        "\n",
        "After that the passenger count starts increasing again and peaks again between 11AM and 12 Noon."
      ]
    },
    {
      "metadata": {
        "id": "g5j3DA0-M6hB",
        "colab_type": "text"
      },
      "cell_type": "markdown",
      "source": [
        "Let’s try to validate our hypothesis in which we assumed that the traffic will be more on weekdays."
      ]
    },
    {
      "metadata": {
        "id": "mZ9075gb2ANu",
        "colab_type": "code",
        "outputId": "109d2351-23f6-4aab-dd56-e8a42c2c05d7",
        "colab": {
          "base_uri": "https://localhost:8080/",
          "height": 292
        }
      },
      "cell_type": "code",
      "source": [
        "train.groupby('weekend')['Count'].mean().plot.bar()   # Here 0 represents the weekdays and 1 represents the 'weekends'"
      ],
      "execution_count": 39,
      "outputs": [
        {
          "output_type": "execute_result",
          "data": {
            "text/plain": [
              "<matplotlib.axes._subplots.AxesSubplot at 0x7f3b361fc550>"
            ]
          },
          "metadata": {
            "tags": []
          },
          "execution_count": 39
        },
        {
          "output_type": "display_data",
          "data": {
            "image/png": "[encoded data removed]",
            "text/plain": [
              "<Figure size 432x288 with 1 Axes>"
            ]
          },
          "metadata": {
            "tags": []
          }
        }
      ]
    },
    {
      "metadata": {
        "id": "ZE9TJlkMNUaV",
        "colab_type": "text"
      },
      "cell_type": "markdown",
      "source": [
        "It can be inferred from the above plot that the traffic is more on weekdays as compared to weekends which validates our hypothesis.\n",
        "\n",
        "Now we will try to look at the day wise passenger count. (corresponding to week days)\n",
        "\n",
        "Note - 0 is the starting of the week, i.e., 0 is Monday and 6 is Sunday."
      ]
    },
    {
      "metadata": {
        "id": "a3IadtcY2ALx",
        "colab_type": "code",
        "outputId": "7e5a2fc4-d7fe-4b92-e125-f4ad0287edf0",
        "colab": {
          "base_uri": "https://localhost:8080/",
          "height": 292
        }
      },
      "cell_type": "code",
      "source": [
        "train.groupby('day of week')['Count'].mean().plot.bar()"
      ],
      "execution_count": 40,
      "outputs": [
        {
          "output_type": "execute_result",
          "data": {
            "text/plain": [
              "<matplotlib.axes._subplots.AxesSubplot at 0x7f3b361d6b70>"
            ]
          },
          "metadata": {
            "tags": []
          },
          "execution_count": 40
        },
        {
          "output_type": "display_data",
          "data": {
            "image/png": "[encoded data removed]",
            "text/plain": [
              "<Figure size 432x288 with 1 Axes>"
            ]
          },
          "metadata": {
            "tags": []
          }
        }
      ]
    },
    {
      "metadata": {
        "id": "05w7Val_NuhL",
        "colab_type": "text"
      },
      "cell_type": "markdown",
      "source": [
        "It can be clearly seen , From the above bar plot, we can infer that the passenger count is less for saturday and sunday as compared to the other days of the week. \n",
        "\n",
        "Now ,we will drop the ID variable as it has nothing to do with the passenger count."
      ]
    },
    {
      "metadata": {
        "id": "viRI6Bch2AHR",
        "colab_type": "code",
        "colab": {}
      },
      "cell_type": "code",
      "source": [
        "train=train.drop('ID',1)"
      ],
      "execution_count": 0,
      "outputs": []
    },
    {
      "metadata": {
        "id": "LSJoZJj6OzPa",
        "colab_type": "code",
        "outputId": "531e8b85-25de-4223-efe6-8b081f5b1b94",
        "colab": {
          "base_uri": "https://localhost:8080/",
          "height": 173
        }
      },
      "cell_type": "code",
      "source": [
        "train.head(3)   # ID has been removed"
      ],
      "execution_count": 42,
      "outputs": [
        {
          "output_type": "execute_result",
          "data": {
            "text/html": [
              "<div>\n",
              "<style scoped>\n",
              "    .dataframe tbody tr th:only-of-type {\n",
              "        vertical-align: middle;\n",
              "    }\n",
              "\n",
              "    .dataframe tbody tr th {\n",
              "        vertical-align: top;\n",
              "    }\n",
              "\n",
              "    .dataframe thead th {\n",
              "        text-align: right;\n",
              "    }\n",
              "</style>\n",
              "<table border=\"1\" class=\"dataframe\">\n",
              "  <thead>\n",
              "    <tr style=\"text-align: right;\">\n",
              "      <th></th>\n",
              "      <th>Datetime</th>\n",
              "      <th>Count</th>\n",
              "      <th>year</th>\n",
              "      <th>month</th>\n",
              "      <th>day</th>\n",
              "      <th>Hour</th>\n",
              "      <th>day of week</th>\n",
              "      <th>weekend</th>\n",
              "    </tr>\n",
              "    <tr>\n",
              "      <th>Datetime</th>\n",
              "      <th></th>\n",
              "      <th></th>\n",
              "      <th></th>\n",
              "      <th></th>\n",
              "      <th></th>\n",
              "      <th></th>\n",
              "      <th></th>\n",
              "      <th></th>\n",
              "    </tr>\n",
              "  </thead>\n",
              "  <tbody>\n",
              "    <tr>\n",
              "      <th>2012-08-25 00:00:00</th>\n",
              "      <td>2012-08-25 00:00:00</td>\n",
              "      <td>8</td>\n",
              "      <td>2012</td>\n",
              "      <td>8</td>\n",
              "      <td>25</td>\n",
              "      <td>0</td>\n",
              "      <td>5</td>\n",
              "      <td>1</td>\n",
              "    </tr>\n",
              "    <tr>\n",
              "      <th>2012-08-25 01:00:00</th>\n",
              "      <td>2012-08-25 01:00:00</td>\n",
              "      <td>2</td>\n",
              "      <td>2012</td>\n",
              "      <td>8</td>\n",
              "      <td>25</td>\n",
              "      <td>1</td>\n",
              "      <td>5</td>\n",
              "      <td>1</td>\n",
              "    </tr>\n",
              "    <tr>\n",
              "      <th>2012-08-25 02:00:00</th>\n",
              "      <td>2012-08-25 02:00:00</td>\n",
              "      <td>6</td>\n",
              "      <td>2012</td>\n",
              "      <td>8</td>\n",
              "      <td>25</td>\n",
              "      <td>2</td>\n",
              "      <td>5</td>\n",
              "      <td>1</td>\n",
              "    </tr>\n",
              "  </tbody>\n",
              "</table>\n",
              "</div>"
            ],
            "text/plain": [
              "                               Datetime  Count  year  month  day  Hour  \\\n",
              "Datetime                                                                 \n",
              "2012-08-25 00:00:00 2012-08-25 00:00:00      8  2012      8   25     0   \n",
              "2012-08-25 01:00:00 2012-08-25 01:00:00      2  2012      8   25     1   \n",
              "2012-08-25 02:00:00 2012-08-25 02:00:00      6  2012      8   25     2   \n",
              "\n",
              "                     day of week  weekend  \n",
              "Datetime                                   \n",
              "2012-08-25 00:00:00            5        1  \n",
              "2012-08-25 01:00:00            5        1  \n",
              "2012-08-25 02:00:00            5        1  "
            ]
          },
          "metadata": {
            "tags": []
          },
          "execution_count": 42
        }
      ]
    },
    {
      "metadata": {
        "id": "Go8uQBhTOz9o",
        "colab_type": "text"
      },
      "cell_type": "markdown",
      "source": [
        "As we have seen that there is a lot of noise in the hourly time series, we will aggregate the hourly time series to daily, weekly, and monthly time series to reduce the noise and make it more stable \n",
        "\n",
        "hence it would be easier for a model to learn."
      ]
    },
    {
      "metadata": {
        "id": "tu_gLBd3OzK9",
        "colab_type": "code",
        "outputId": "0e7ddefb-5ff5-4605-fc01-24a1f8f15f00",
        "colab": {
          "base_uri": "https://localhost:8080/",
          "height": 190
        }
      },
      "cell_type": "code",
      "source": [
        "train.Timestamp = pd.to_datetime(train.Datetime,format='%d-%m-%Y %H:%M') \n",
        "train.Timestamp[:5]"
      ],
      "execution_count": 43,
      "outputs": [
        {
          "output_type": "stream",
          "text": [
            "/usr/local/lib/python3.6/dist-packages/ipykernel_launcher.py:1: UserWarning: Pandas doesn't allow columns to be created via a new attribute name - see https://pandas.pydata.org/pandas-docs/stable/indexing.html#attribute-access\n",
            "  \"\"\"Entry point for launching an IPython kernel.\n"
          ],
          "name": "stderr"
        },
        {
          "output_type": "execute_result",
          "data": {
            "text/plain": [
              "Datetime\n",
              "2012-08-25 00:00:00   2012-08-25 00:00:00\n",
              "2012-08-25 01:00:00   2012-08-25 01:00:00\n",
              "2012-08-25 02:00:00   2012-08-25 02:00:00\n",
              "2012-08-25 03:00:00   2012-08-25 03:00:00\n",
              "2012-08-25 04:00:00   2012-08-25 04:00:00\n",
              "Name: Datetime, dtype: datetime64[ns]"
            ]
          },
          "metadata": {
            "tags": []
          },
          "execution_count": 43
        }
      ]
    },
    {
      "metadata": {
        "id": "D_oZ16SYPJtY",
        "colab_type": "code",
        "outputId": "0169f5e7-c1be-4b6b-fad3-cbe1fa97022d",
        "colab": {
          "base_uri": "https://localhost:8080/",
          "height": 85
        }
      },
      "cell_type": "code",
      "source": [
        "train.index = train.Timestamp \n",
        "train.index[:5]"
      ],
      "execution_count": 44,
      "outputs": [
        {
          "output_type": "execute_result",
          "data": {
            "text/plain": [
              "DatetimeIndex(['2012-08-25 00:00:00', '2012-08-25 01:00:00',\n",
              "               '2012-08-25 02:00:00', '2012-08-25 03:00:00',\n",
              "               '2012-08-25 04:00:00'],\n",
              "              dtype='datetime64[ns]', name='Datetime', freq=None)"
            ]
          },
          "metadata": {
            "tags": []
          },
          "execution_count": 44
        }
      ]
    },
    {
      "metadata": {
        "id": "SrVeU3PqPJy9",
        "colab_type": "code",
        "outputId": "3927bff2-7982-4798-83d3-e5549ddc4a25",
        "colab": {
          "base_uri": "https://localhost:8080/",
          "height": 173
        }
      },
      "cell_type": "code",
      "source": [
        "# Hourly time series \n",
        "hourly = train.resample('H').mean() \n",
        "hourly.head(3)"
      ],
      "execution_count": 45,
      "outputs": [
        {
          "output_type": "execute_result",
          "data": {
            "text/html": [
              "<div>\n",
              "<style scoped>\n",
              "    .dataframe tbody tr th:only-of-type {\n",
              "        vertical-align: middle;\n",
              "    }\n",
              "\n",
              "    .dataframe tbody tr th {\n",
              "        vertical-align: top;\n",
              "    }\n",
              "\n",
              "    .dataframe thead th {\n",
              "        text-align: right;\n",
              "    }\n",
              "</style>\n",
              "<table border=\"1\" class=\"dataframe\">\n",
              "  <thead>\n",
              "    <tr style=\"text-align: right;\">\n",
              "      <th></th>\n",
              "      <th>Count</th>\n",
              "      <th>year</th>\n",
              "      <th>month</th>\n",
              "      <th>day</th>\n",
              "      <th>Hour</th>\n",
              "      <th>day of week</th>\n",
              "      <th>weekend</th>\n",
              "    </tr>\n",
              "    <tr>\n",
              "      <th>Datetime</th>\n",
              "      <th></th>\n",
              "      <th></th>\n",
              "      <th></th>\n",
              "      <th></th>\n",
              "      <th></th>\n",
              "      <th></th>\n",
              "      <th></th>\n",
              "    </tr>\n",
              "  </thead>\n",
              "  <tbody>\n",
              "    <tr>\n",
              "      <th>2012-08-25 00:00:00</th>\n",
              "      <td>8</td>\n",
              "      <td>2012</td>\n",
              "      <td>8</td>\n",
              "      <td>25</td>\n",
              "      <td>0</td>\n",
              "      <td>5</td>\n",
              "      <td>1</td>\n",
              "    </tr>\n",
              "    <tr>\n",
              "      <th>2012-08-25 01:00:00</th>\n",
              "      <td>2</td>\n",
              "      <td>2012</td>\n",
              "      <td>8</td>\n",
              "      <td>25</td>\n",
              "      <td>1</td>\n",
              "      <td>5</td>\n",
              "      <td>1</td>\n",
              "    </tr>\n",
              "    <tr>\n",
              "      <th>2012-08-25 02:00:00</th>\n",
              "      <td>6</td>\n",
              "      <td>2012</td>\n",
              "      <td>8</td>\n",
              "      <td>25</td>\n",
              "      <td>2</td>\n",
              "      <td>5</td>\n",
              "      <td>1</td>\n",
              "    </tr>\n",
              "  </tbody>\n",
              "</table>\n",
              "</div>"
            ],
            "text/plain": [
              "                     Count  year  month  day  Hour  day of week  weekend\n",
              "Datetime                                                                \n",
              "2012-08-25 00:00:00      8  2012      8   25     0            5        1\n",
              "2012-08-25 01:00:00      2  2012      8   25     1            5        1\n",
              "2012-08-25 02:00:00      6  2012      8   25     2            5        1"
            ]
          },
          "metadata": {
            "tags": []
          },
          "execution_count": 45
        }
      ]
    },
    {
      "metadata": {
        "id": "5_HLCpsePJ42",
        "colab_type": "code",
        "outputId": "5fb2bb46-f6ff-477c-d0bb-c40dab2fdb61",
        "colab": {
          "base_uri": "https://localhost:8080/",
          "height": 173
        }
      },
      "cell_type": "code",
      "source": [
        "train.head(3)"
      ],
      "execution_count": 46,
      "outputs": [
        {
          "output_type": "execute_result",
          "data": {
            "text/html": [
              "<div>\n",
              "<style scoped>\n",
              "    .dataframe tbody tr th:only-of-type {\n",
              "        vertical-align: middle;\n",
              "    }\n",
              "\n",
              "    .dataframe tbody tr th {\n",
              "        vertical-align: top;\n",
              "    }\n",
              "\n",
              "    .dataframe thead th {\n",
              "        text-align: right;\n",
              "    }\n",
              "</style>\n",
              "<table border=\"1\" class=\"dataframe\">\n",
              "  <thead>\n",
              "    <tr style=\"text-align: right;\">\n",
              "      <th></th>\n",
              "      <th>Datetime</th>\n",
              "      <th>Count</th>\n",
              "      <th>year</th>\n",
              "      <th>month</th>\n",
              "      <th>day</th>\n",
              "      <th>Hour</th>\n",
              "      <th>day of week</th>\n",
              "      <th>weekend</th>\n",
              "    </tr>\n",
              "    <tr>\n",
              "      <th>Datetime</th>\n",
              "      <th></th>\n",
              "      <th></th>\n",
              "      <th></th>\n",
              "      <th></th>\n",
              "      <th></th>\n",
              "      <th></th>\n",
              "      <th></th>\n",
              "      <th></th>\n",
              "    </tr>\n",
              "  </thead>\n",
              "  <tbody>\n",
              "    <tr>\n",
              "      <th>2012-08-25 00:00:00</th>\n",
              "      <td>2012-08-25 00:00:00</td>\n",
              "      <td>8</td>\n",
              "      <td>2012</td>\n",
              "      <td>8</td>\n",
              "      <td>25</td>\n",
              "      <td>0</td>\n",
              "      <td>5</td>\n",
              "      <td>1</td>\n",
              "    </tr>\n",
              "    <tr>\n",
              "      <th>2012-08-25 01:00:00</th>\n",
              "      <td>2012-08-25 01:00:00</td>\n",
              "      <td>2</td>\n",
              "      <td>2012</td>\n",
              "      <td>8</td>\n",
              "      <td>25</td>\n",
              "      <td>1</td>\n",
              "      <td>5</td>\n",
              "      <td>1</td>\n",
              "    </tr>\n",
              "    <tr>\n",
              "      <th>2012-08-25 02:00:00</th>\n",
              "      <td>2012-08-25 02:00:00</td>\n",
              "      <td>6</td>\n",
              "      <td>2012</td>\n",
              "      <td>8</td>\n",
              "      <td>25</td>\n",
              "      <td>2</td>\n",
              "      <td>5</td>\n",
              "      <td>1</td>\n",
              "    </tr>\n",
              "  </tbody>\n",
              "</table>\n",
              "</div>"
            ],
            "text/plain": [
              "                               Datetime  Count  year  month  day  Hour  \\\n",
              "Datetime                                                                 \n",
              "2012-08-25 00:00:00 2012-08-25 00:00:00      8  2012      8   25     0   \n",
              "2012-08-25 01:00:00 2012-08-25 01:00:00      2  2012      8   25     1   \n",
              "2012-08-25 02:00:00 2012-08-25 02:00:00      6  2012      8   25     2   \n",
              "\n",
              "                     day of week  weekend  \n",
              "Datetime                                   \n",
              "2012-08-25 00:00:00            5        1  \n",
              "2012-08-25 01:00:00            5        1  \n",
              "2012-08-25 02:00:00            5        1  "
            ]
          },
          "metadata": {
            "tags": []
          },
          "execution_count": 46
        }
      ]
    },
    {
      "metadata": {
        "id": "HVoS8niTPJ_v",
        "colab_type": "code",
        "outputId": "dc40136d-8683-4aad-d7ea-73ccb9dee934",
        "colab": {
          "base_uri": "https://localhost:8080/",
          "height": 235
        }
      },
      "cell_type": "code",
      "source": [
        "# Converting to daily mean \n",
        "daily = train.resample('D').mean() \n",
        "daily.head()"
      ],
      "execution_count": 47,
      "outputs": [
        {
          "output_type": "execute_result",
          "data": {
            "text/html": [
              "<div>\n",
              "<style scoped>\n",
              "    .dataframe tbody tr th:only-of-type {\n",
              "        vertical-align: middle;\n",
              "    }\n",
              "\n",
              "    .dataframe tbody tr th {\n",
              "        vertical-align: top;\n",
              "    }\n",
              "\n",
              "    .dataframe thead th {\n",
              "        text-align: right;\n",
              "    }\n",
              "</style>\n",
              "<table border=\"1\" class=\"dataframe\">\n",
              "  <thead>\n",
              "    <tr style=\"text-align: right;\">\n",
              "      <th></th>\n",
              "      <th>Count</th>\n",
              "      <th>year</th>\n",
              "      <th>month</th>\n",
              "      <th>day</th>\n",
              "      <th>Hour</th>\n",
              "      <th>day of week</th>\n",
              "      <th>weekend</th>\n",
              "    </tr>\n",
              "    <tr>\n",
              "      <th>Datetime</th>\n",
              "      <th></th>\n",
              "      <th></th>\n",
              "      <th></th>\n",
              "      <th></th>\n",
              "      <th></th>\n",
              "      <th></th>\n",
              "      <th></th>\n",
              "    </tr>\n",
              "  </thead>\n",
              "  <tbody>\n",
              "    <tr>\n",
              "      <th>2012-08-25</th>\n",
              "      <td>3.166667</td>\n",
              "      <td>2012.0</td>\n",
              "      <td>8.0</td>\n",
              "      <td>25.0</td>\n",
              "      <td>11.5</td>\n",
              "      <td>5.0</td>\n",
              "      <td>1.0</td>\n",
              "    </tr>\n",
              "    <tr>\n",
              "      <th>2012-08-26</th>\n",
              "      <td>3.666667</td>\n",
              "      <td>2012.0</td>\n",
              "      <td>8.0</td>\n",
              "      <td>26.0</td>\n",
              "      <td>11.5</td>\n",
              "      <td>6.0</td>\n",
              "      <td>1.0</td>\n",
              "    </tr>\n",
              "    <tr>\n",
              "      <th>2012-08-27</th>\n",
              "      <td>2.583333</td>\n",
              "      <td>2012.0</td>\n",
              "      <td>8.0</td>\n",
              "      <td>27.0</td>\n",
              "      <td>11.5</td>\n",
              "      <td>0.0</td>\n",
              "      <td>0.0</td>\n",
              "    </tr>\n",
              "    <tr>\n",
              "      <th>2012-08-28</th>\n",
              "      <td>2.416667</td>\n",
              "      <td>2012.0</td>\n",
              "      <td>8.0</td>\n",
              "      <td>28.0</td>\n",
              "      <td>11.5</td>\n",
              "      <td>1.0</td>\n",
              "      <td>0.0</td>\n",
              "    </tr>\n",
              "    <tr>\n",
              "      <th>2012-08-29</th>\n",
              "      <td>2.500000</td>\n",
              "      <td>2012.0</td>\n",
              "      <td>8.0</td>\n",
              "      <td>29.0</td>\n",
              "      <td>11.5</td>\n",
              "      <td>2.0</td>\n",
              "      <td>0.0</td>\n",
              "    </tr>\n",
              "  </tbody>\n",
              "</table>\n",
              "</div>"
            ],
            "text/plain": [
              "               Count    year  month   day  Hour  day of week  weekend\n",
              "Datetime                                                             \n",
              "2012-08-25  3.166667  2012.0    8.0  25.0  11.5          5.0      1.0\n",
              "2012-08-26  3.666667  2012.0    8.0  26.0  11.5          6.0      1.0\n",
              "2012-08-27  2.583333  2012.0    8.0  27.0  11.5          0.0      0.0\n",
              "2012-08-28  2.416667  2012.0    8.0  28.0  11.5          1.0      0.0\n",
              "2012-08-29  2.500000  2012.0    8.0  29.0  11.5          2.0      0.0"
            ]
          },
          "metadata": {
            "tags": []
          },
          "execution_count": 47
        }
      ]
    },
    {
      "metadata": {
        "id": "LhrWcxTGPKIn",
        "colab_type": "code",
        "outputId": "e6530736-0acd-4f04-db87-12c48352d0a9",
        "colab": {
          "base_uri": "https://localhost:8080/",
          "height": 235
        }
      },
      "cell_type": "code",
      "source": [
        "# Converting to weekly mean \n",
        "weekly = train.resample('W').mean() \n",
        "weekly.head()"
      ],
      "execution_count": 48,
      "outputs": [
        {
          "output_type": "execute_result",
          "data": {
            "text/html": [
              "<div>\n",
              "<style scoped>\n",
              "    .dataframe tbody tr th:only-of-type {\n",
              "        vertical-align: middle;\n",
              "    }\n",
              "\n",
              "    .dataframe tbody tr th {\n",
              "        vertical-align: top;\n",
              "    }\n",
              "\n",
              "    .dataframe thead th {\n",
              "        text-align: right;\n",
              "    }\n",
              "</style>\n",
              "<table border=\"1\" class=\"dataframe\">\n",
              "  <thead>\n",
              "    <tr style=\"text-align: right;\">\n",
              "      <th></th>\n",
              "      <th>Count</th>\n",
              "      <th>year</th>\n",
              "      <th>month</th>\n",
              "      <th>day</th>\n",
              "      <th>Hour</th>\n",
              "      <th>day of week</th>\n",
              "      <th>weekend</th>\n",
              "    </tr>\n",
              "    <tr>\n",
              "      <th>Datetime</th>\n",
              "      <th></th>\n",
              "      <th></th>\n",
              "      <th></th>\n",
              "      <th></th>\n",
              "      <th></th>\n",
              "      <th></th>\n",
              "      <th></th>\n",
              "    </tr>\n",
              "  </thead>\n",
              "  <tbody>\n",
              "    <tr>\n",
              "      <th>2012-08-26</th>\n",
              "      <td>3.416667</td>\n",
              "      <td>2012.0</td>\n",
              "      <td>8.000000</td>\n",
              "      <td>25.500000</td>\n",
              "      <td>11.5</td>\n",
              "      <td>5.5</td>\n",
              "      <td>1.000000</td>\n",
              "    </tr>\n",
              "    <tr>\n",
              "      <th>2012-09-02</th>\n",
              "      <td>3.345238</td>\n",
              "      <td>2012.0</td>\n",
              "      <td>8.285714</td>\n",
              "      <td>21.142857</td>\n",
              "      <td>11.5</td>\n",
              "      <td>3.0</td>\n",
              "      <td>0.285714</td>\n",
              "    </tr>\n",
              "    <tr>\n",
              "      <th>2012-09-09</th>\n",
              "      <td>3.654762</td>\n",
              "      <td>2012.0</td>\n",
              "      <td>9.000000</td>\n",
              "      <td>6.000000</td>\n",
              "      <td>11.5</td>\n",
              "      <td>3.0</td>\n",
              "      <td>0.285714</td>\n",
              "    </tr>\n",
              "    <tr>\n",
              "      <th>2012-09-16</th>\n",
              "      <td>3.119048</td>\n",
              "      <td>2012.0</td>\n",
              "      <td>9.000000</td>\n",
              "      <td>13.000000</td>\n",
              "      <td>11.5</td>\n",
              "      <td>3.0</td>\n",
              "      <td>0.285714</td>\n",
              "    </tr>\n",
              "    <tr>\n",
              "      <th>2012-09-23</th>\n",
              "      <td>4.714286</td>\n",
              "      <td>2012.0</td>\n",
              "      <td>9.000000</td>\n",
              "      <td>20.000000</td>\n",
              "      <td>11.5</td>\n",
              "      <td>3.0</td>\n",
              "      <td>0.285714</td>\n",
              "    </tr>\n",
              "  </tbody>\n",
              "</table>\n",
              "</div>"
            ],
            "text/plain": [
              "               Count    year     month        day  Hour  day of week   weekend\n",
              "Datetime                                                                      \n",
              "2012-08-26  3.416667  2012.0  8.000000  25.500000  11.5          5.5  1.000000\n",
              "2012-09-02  3.345238  2012.0  8.285714  21.142857  11.5          3.0  0.285714\n",
              "2012-09-09  3.654762  2012.0  9.000000   6.000000  11.5          3.0  0.285714\n",
              "2012-09-16  3.119048  2012.0  9.000000  13.000000  11.5          3.0  0.285714\n",
              "2012-09-23  4.714286  2012.0  9.000000  20.000000  11.5          3.0  0.285714"
            ]
          },
          "metadata": {
            "tags": []
          },
          "execution_count": 48
        }
      ]
    },
    {
      "metadata": {
        "id": "hKmoqW1MPKTZ",
        "colab_type": "code",
        "outputId": "ce78ceb4-336e-4c31-b88c-4b9666a6bf4f",
        "colab": {
          "base_uri": "https://localhost:8080/",
          "height": 235
        }
      },
      "cell_type": "code",
      "source": [
        "# Converting to monthly mean \n",
        "monthly = train.resample('M').mean()\n",
        "monthly.head()"
      ],
      "execution_count": 49,
      "outputs": [
        {
          "output_type": "execute_result",
          "data": {
            "text/html": [
              "<div>\n",
              "<style scoped>\n",
              "    .dataframe tbody tr th:only-of-type {\n",
              "        vertical-align: middle;\n",
              "    }\n",
              "\n",
              "    .dataframe tbody tr th {\n",
              "        vertical-align: top;\n",
              "    }\n",
              "\n",
              "    .dataframe thead th {\n",
              "        text-align: right;\n",
              "    }\n",
              "</style>\n",
              "<table border=\"1\" class=\"dataframe\">\n",
              "  <thead>\n",
              "    <tr style=\"text-align: right;\">\n",
              "      <th></th>\n",
              "      <th>Count</th>\n",
              "      <th>year</th>\n",
              "      <th>month</th>\n",
              "      <th>day</th>\n",
              "      <th>Hour</th>\n",
              "      <th>day of week</th>\n",
              "      <th>weekend</th>\n",
              "    </tr>\n",
              "    <tr>\n",
              "      <th>Datetime</th>\n",
              "      <th></th>\n",
              "      <th></th>\n",
              "      <th></th>\n",
              "      <th></th>\n",
              "      <th></th>\n",
              "      <th></th>\n",
              "      <th></th>\n",
              "    </tr>\n",
              "  </thead>\n",
              "  <tbody>\n",
              "    <tr>\n",
              "      <th>2012-08-31</th>\n",
              "      <td>2.952381</td>\n",
              "      <td>2012.0</td>\n",
              "      <td>8.0</td>\n",
              "      <td>28.0</td>\n",
              "      <td>11.5</td>\n",
              "      <td>3.000000</td>\n",
              "      <td>0.285714</td>\n",
              "    </tr>\n",
              "    <tr>\n",
              "      <th>2012-09-30</th>\n",
              "      <td>4.444444</td>\n",
              "      <td>2012.0</td>\n",
              "      <td>9.0</td>\n",
              "      <td>15.5</td>\n",
              "      <td>11.5</td>\n",
              "      <td>3.166667</td>\n",
              "      <td>0.333333</td>\n",
              "    </tr>\n",
              "    <tr>\n",
              "      <th>2012-10-31</th>\n",
              "      <td>10.986559</td>\n",
              "      <td>2012.0</td>\n",
              "      <td>10.0</td>\n",
              "      <td>16.0</td>\n",
              "      <td>11.5</td>\n",
              "      <td>2.806452</td>\n",
              "      <td>0.258065</td>\n",
              "    </tr>\n",
              "    <tr>\n",
              "      <th>2012-11-30</th>\n",
              "      <td>15.827778</td>\n",
              "      <td>2012.0</td>\n",
              "      <td>11.0</td>\n",
              "      <td>15.5</td>\n",
              "      <td>11.5</td>\n",
              "      <td>3.033333</td>\n",
              "      <td>0.266667</td>\n",
              "    </tr>\n",
              "    <tr>\n",
              "      <th>2012-12-31</th>\n",
              "      <td>15.680108</td>\n",
              "      <td>2012.0</td>\n",
              "      <td>12.0</td>\n",
              "      <td>16.0</td>\n",
              "      <td>11.5</td>\n",
              "      <td>3.064516</td>\n",
              "      <td>0.322581</td>\n",
              "    </tr>\n",
              "  </tbody>\n",
              "</table>\n",
              "</div>"
            ],
            "text/plain": [
              "                Count    year  month   day  Hour  day of week   weekend\n",
              "Datetime                                                               \n",
              "2012-08-31   2.952381  2012.0    8.0  28.0  11.5     3.000000  0.285714\n",
              "2012-09-30   4.444444  2012.0    9.0  15.5  11.5     3.166667  0.333333\n",
              "2012-10-31  10.986559  2012.0   10.0  16.0  11.5     2.806452  0.258065\n",
              "2012-11-30  15.827778  2012.0   11.0  15.5  11.5     3.033333  0.266667\n",
              "2012-12-31  15.680108  2012.0   12.0  16.0  11.5     3.064516  0.322581"
            ]
          },
          "metadata": {
            "tags": []
          },
          "execution_count": 49
        }
      ]
    },
    {
      "metadata": {
        "id": "cNAroFPoSJuF",
        "colab_type": "text"
      },
      "cell_type": "markdown",
      "source": [
        "Let’s look at the hourly, daily, weekly and monthly time series."
      ]
    },
    {
      "metadata": {
        "id": "cveAjfbmPKdz",
        "colab_type": "code",
        "outputId": "8ab10e3e-f984-4d3a-fe3b-b2da99b8dc51",
        "colab": {
          "base_uri": "https://localhost:8080/",
          "height": 549
        }
      },
      "cell_type": "code",
      "source": [
        "fig, axs = plt.subplots(4,1) \n",
        "hourly.Count.plot(figsize=(15,8), title= 'Hourly', fontsize=14, ax=axs[0]) \n",
        "daily.Count.plot(figsize=(15,8), title= 'Daily', fontsize=14, ax=axs[1]) \n",
        "weekly.Count.plot(figsize=(15,8), title= 'Weekly', fontsize=14, ax=axs[2]) \n",
        "monthly.Count.plot(figsize=(15,8), title= 'Monthly', fontsize=14, ax=axs[3]) "
      ],
      "execution_count": 50,
      "outputs": [
        {
          "output_type": "execute_result",
          "data": {
            "text/plain": [
              "<matplotlib.axes._subplots.AxesSubplot at 0x7f3b36070be0>"
            ]
          },
          "metadata": {
            "tags": []
          },
          "execution_count": 50
        },
        {
          "output_type": "display_data",
          "data": {
            "image/png": "[encoded data removed]",
            "text/plain": [
              "<Figure size 1080x576 with 4 Axes>"
            ]
          },
          "metadata": {
            "tags": []
          }
        }
      ]
    },
    {
      "metadata": {
        "id": "UwmneDzzTH5X",
        "colab_type": "text"
      },
      "cell_type": "markdown",
      "source": [
        "We can see that the time series is becoming more and more stable when we are aggregating it on daily, weekly and monthly basis.\n",
        "\n",
        "But it would be difficult to convert the monthly and weekly predictions to hourly predictions, as first we have to convert the monthly predictions to weekly, weekly to daily and daily to hourly predictions, which will become very expanded process. So, we will work on the daily time series."
      ]
    },
    {
      "metadata": {
        "id": "CwoiiBOfPKmk",
        "colab_type": "code",
        "outputId": "19afa2e9-c879-42ed-8ead-a9e757b69e60",
        "colab": {
          "base_uri": "https://localhost:8080/",
          "height": 71
        }
      },
      "cell_type": "code",
      "source": [
        "test.Timestamp = pd.to_datetime(test.Datetime,format='%d-%m-%Y %H:%M') \n",
        "test.index = test.Timestamp  \n",
        "\n",
        "# Converting to daily mean \n",
        "test = test.resample('D').mean() "
      ],
      "execution_count": 51,
      "outputs": [
        {
          "output_type": "stream",
          "text": [
            "/usr/local/lib/python3.6/dist-packages/ipykernel_launcher.py:1: UserWarning: Pandas doesn't allow columns to be created via a new attribute name - see https://pandas.pydata.org/pandas-docs/stable/indexing.html#attribute-access\n",
            "  \"\"\"Entry point for launching an IPython kernel.\n"
          ],
          "name": "stderr"
        }
      ]
    },
    {
      "metadata": {
        "id": "Nbl8ZH4yXD6p",
        "colab_type": "text"
      },
      "cell_type": "markdown",
      "source": [
        "![alt text](https://cdn-images-1.medium.com/max/1600/1*ZiYvylk60EY2XG7ck1lqJA.png)\n",
        "\n",
        "We have two datasets \n",
        "\n",
        "\n",
        "1.   Training set   to train the model based on features/characteristics\n",
        "2.   Testing set  is used to predict the output/throughput as a target value.\n",
        "\n",
        "Now we can devide this training set (further) into two sets . In which training set has one set of 'validation data' .that is used to give an estimate of model skill while tuning model's hyperparameters\n",
        "\n"
      ]
    },
    {
      "metadata": {
        "id": "aSHjh8kXZTiE",
        "colab_type": "text"
      },
      "cell_type": "markdown",
      "source": [
        "\n",
        "\n",
        "```\n",
        "As we have validated all our hypothesis, let’s go ahead and build models for Time Series Forecasting. But before we do that, we will need a dataset(validation) to check the performance and generalisation ability of our model. Below are some of the properties of the dataset required for the purpose.\n",
        "\n",
        "1. The dataset should have the true values of the dependent variable against which the predictions can be checked. Therefore, test dataset cannot be used for the purpose.\n",
        "\n",
        "2. The model should not be trained on the validation dataset. Hence, we cannot train the model on the train dataset and validate on it as well.\n",
        "\n",
        "So, for the above two reasons, we generally divide the train dataset into two parts. One part is used to train the model and the other part is used as the validation dataset. Now there are multiple ways to divide the train dataset such as Random Division etc. \n",
        "```\n",
        "\n"
      ]
    },
    {
      "metadata": {
        "id": "yRbQuCfcZiNd",
        "colab_type": "text"
      },
      "cell_type": "markdown",
      "source": [
        "For this course, We will be using a time based split explained below."
      ]
    },
    {
      "metadata": {
        "id": "c32wRAddZlwP",
        "colab_type": "text"
      },
      "cell_type": "markdown",
      "source": [
        "**1) Splitting the data into training and validation part**\n",
        "\n",
        "---\n",
        "\n",
        "\n",
        "```\n",
        "Now we will divide our data in train and validation. We will make a model on the train part and predict on the validation part to check the accuracy of our predictions.\n",
        "```\n",
        "---\n"
      ]
    },
    {
      "metadata": {
        "id": "qX7LZxmEbcZk",
        "colab_type": "text"
      },
      "cell_type": "markdown",
      "source": [
        "To divide the data into training and validation set, we will take last 3 months as the validation data and rest for training data. We will take only 3 months as the trend will be the most in them. If we take more than 3 months for the validation set, our training set will have less data points as the total duration is of 25 months. So, it will be a good choice to take 3 months for validation set.\n",
        "\n",
        "The starting date of the dataset is 25-08-2012 as we have seen in the exploration part and the end date is 25-09-2014."
      ]
    },
    {
      "metadata": {
        "id": "O_sD8DOy0lf1",
        "colab_type": "text"
      },
      "cell_type": "markdown",
      "source": [
        "# train & valid data"
      ]
    },
    {
      "metadata": {
        "id": "C6T6vYPPPKt6",
        "colab_type": "code",
        "colab": {
          "base_uri": "https://localhost:8080/",
          "height": 153
        },
        "outputId": "02acc3ae-ac6e-40eb-f4f8-877fb254305e"
      },
      "cell_type": "code",
      "source": [
        "Train=train.ix['2012-08-25':'2014-06-24']    # 20 months as a training set \n",
        "valid=train.ix['2014-06-25':'2014-09-25'] #last three months as a validation set  to check the performance of the model"
      ],
      "execution_count": 52,
      "outputs": [
        {
          "output_type": "stream",
          "text": [
            "/usr/local/lib/python3.6/dist-packages/ipykernel_launcher.py:1: DeprecationWarning: \n",
            ".ix is deprecated. Please use\n",
            ".loc for label based indexing or\n",
            ".iloc for positional indexing\n",
            "\n",
            "See the documentation here:\n",
            "http://pandas.pydata.org/pandas-docs/stable/indexing.html#ix-indexer-is-deprecated\n",
            "  \"\"\"Entry point for launching an IPython kernel.\n"
          ],
          "name": "stderr"
        }
      ]
    },
    {
      "metadata": {
        "id": "vorL9G95ekYz",
        "colab_type": "text"
      },
      "cell_type": "markdown",
      "source": [
        "We have done time based validation here by selecting the last 3 months for the validation data and rest in the train data. If we would have done it randomly it may work well for the train dataset but will not work effectively on validation dataset."
      ]
    },
    {
      "metadata": {
        "id": "A_jFArBRe5pC",
        "colab_type": "text"
      },
      "cell_type": "markdown",
      "source": [
        "Lets understand it in this way: If we choose the split randomly it will take some values from the starting and some from the last years as well. It is similar to predicting the old values (previous years) based on the future values( future years) which is not the case in** real scenario**. \n",
        "\n",
        "So, this kind of split is used while working with time related problems."
      ]
    },
    {
      "metadata": {
        "id": "1YTHWFvhftZ6",
        "colab_type": "text"
      },
      "cell_type": "markdown",
      "source": [
        "Now we will look at how the train and validation part has been divided."
      ]
    },
    {
      "metadata": {
        "id": "h5DS6Kf-PKyi",
        "colab_type": "code",
        "outputId": "ce7cf0f3-2eed-492f-bd65-c31ac9b8cca1",
        "colab": {
          "base_uri": "https://localhost:8080/",
          "height": 549
        }
      },
      "cell_type": "code",
      "source": [
        "Train.Count.plot(figsize=(15,8), title= 'Daily Ridership', fontsize=14, label='train') \n",
        "plt.xlabel(\"Datetime\")\n",
        "plt.ylabel(\"Passenger count\")\n",
        "plt.legend(loc='best')"
      ],
      "execution_count": 53,
      "outputs": [
        {
          "output_type": "execute_result",
          "data": {
            "text/plain": [
              "<matplotlib.legend.Legend at 0x7f3b360f89e8>"
            ]
          },
          "metadata": {
            "tags": []
          },
          "execution_count": 53
        },
        {
          "output_type": "display_data",
          "data": {
            "image/png": "[encoded data removed]",
            "text/plain": [
              "<Figure size 1080x576 with 1 Axes>"
            ]
          },
          "metadata": {
            "tags": []
          }
        }
      ]
    },
    {
      "metadata": {
        "id": "EfJXkusDPKrg",
        "colab_type": "code",
        "outputId": "0a1c2c63-78b2-434a-85f5-2a3302c8c5c3",
        "colab": {
          "base_uri": "https://localhost:8080/",
          "height": 549
        }
      },
      "cell_type": "code",
      "source": [
        "valid.Count.plot(figsize=(15,8), title= 'Daily Ridership', fontsize=14, label='valid') \n",
        "plt.xlabel(\"Datetime\")\n",
        "plt.ylabel(\"Passenger count\")\n",
        "plt.legend(loc='best')"
      ],
      "execution_count": 54,
      "outputs": [
        {
          "output_type": "execute_result",
          "data": {
            "text/plain": [
              "<matplotlib.legend.Legend at 0x7f3b360f8358>"
            ]
          },
          "metadata": {
            "tags": []
          },
          "execution_count": 54
        },
        {
          "output_type": "display_data",
          "data": {
            "image/png": "[encoded data removed]",
            "text/plain": [
              "<Figure size 1080x576 with 1 Axes>"
            ]
          },
          "metadata": {
            "tags": []
          }
        }
      ]
    },
    {
      "metadata": {
        "id": "x38oLRglPKks",
        "colab_type": "code",
        "outputId": "1fe4503f-37e5-4912-82d6-1c37753f8c29",
        "colab": {
          "base_uri": "https://localhost:8080/",
          "height": 549
        }
      },
      "cell_type": "code",
      "source": [
        "Train.Count.plot(figsize=(15,8), title= 'Daily Ridership', fontsize=14, label='train') \n",
        "valid.Count.plot(figsize=(15,8), title= 'Daily Ridership', fontsize=14, label='valid') \n",
        "plt.xlabel(\"Datetime\")\n",
        "plt.ylabel(\"Passenger count\")\n",
        "plt.legend(loc='best')"
      ],
      "execution_count": 55,
      "outputs": [
        {
          "output_type": "execute_result",
          "data": {
            "text/plain": [
              "<matplotlib.legend.Legend at 0x7f3b342d2278>"
            ]
          },
          "metadata": {
            "tags": []
          },
          "execution_count": 55
        },
        {
          "output_type": "display_data",
          "data": {
            "image/png": "[encoded data removed]",
            "text/plain": [
              "<Figure size 1080x576 with 1 Axes>"
            ]
          },
          "metadata": {
            "tags": []
          }
        }
      ]
    },
    {
      "metadata": {
        "id": "LQoSp2r2gnSF",
        "colab_type": "text"
      },
      "cell_type": "markdown",
      "source": [
        "Now We will predict the traffic for the validation part and then visualize how accurate our predictions are."
      ]
    },
    {
      "metadata": {
        "id": "QsS9_mUwg_7x",
        "colab_type": "text"
      },
      "cell_type": "markdown",
      "source": [
        "We will look at various models now to forecast the time series . Methods which we will be discussing for the forecasting are:\n",
        "\n",
        "i) Naive Approach\n",
        "ii) Moving Average\n",
        "iii) Simple Exponential Smoothing\n",
        "iv) Holt’s Linear Trend Model.\n",
        "\n",
        "We will discuss each of these methods in detail now."
      ]
    },
    {
      "metadata": {
        "id": "L0ungASghK6j",
        "colab_type": "text"
      },
      "cell_type": "markdown",
      "source": [
        "#i) Naive Approach"
      ]
    },
    {
      "metadata": {
        "id": "DvYTpdgliXyq",
        "colab_type": "text"
      },
      "cell_type": "markdown",
      "source": [
        "*In this forecasting technique, we assume that the next expected point is equal to the last observed point. So we can expect a straight horizontal line as the prediction. Lets understand it with an example and an image:*\n",
        "\n",
        "Suppose we have passenger count for 5 days as shown below:\n",
        "\n",
        "---\n",
        "    Day    Passengers_count\n",
        "    1             10\n",
        "    2             12\n",
        "    3             14\n",
        "    4             13    \n",
        "    5             15\n",
        "And we have to predict the passenger count for next 2 days. Naive approach will assign the 5th day’s passenger count to the 6th and 7th day, i.e., 15 will be assigned to the 6th and 7th day.\n",
        "\n",
        "---\n",
        "    Day    Passengers_count\n",
        "    1             10\n",
        "    2             12\n",
        "    3             14\n",
        "    4             13    \n",
        "    5             15\n",
        "    6             15\n",
        "    7             15"
      ]
    },
    {
      "metadata": {
        "id": "Uj0wvIb4zo2k",
        "colab_type": "text"
      },
      "cell_type": "markdown",
      "source": [
        "Now lets understand it with another example:\n",
        "\n",
        "\n",
        "![alt text](https://s3.amazonaws.com/thinkific/file_uploads/118220/images/cae/fd5/157/1549364621006.jpg)\n",
        "\n",
        "\n",
        "The blue line is the prediction here. All the predictions are equal to the last observed point."
      ]
    },
    {
      "metadata": {
        "id": "ZiT4w3jJ0CmL",
        "colab_type": "text"
      },
      "cell_type": "markdown",
      "source": [
        "Let’s make predictions using naive approach for the validation set."
      ]
    },
    {
      "metadata": {
        "id": "xyqOblSw0H1t",
        "colab_type": "code",
        "outputId": "f5bb1184-72c2-4830-d5ef-7f961a42dd85",
        "colab": {
          "base_uri": "https://localhost:8080/",
          "height": 85
        }
      },
      "cell_type": "code",
      "source": [
        "dd= np.asarray(Train.Count)   # take all traffic value (No. of passengers ) in the form of arrray\n",
        "print(len(dd))\n",
        "print(dd.shape)\n",
        "print(dd)\n",
        "print(dd[len(dd)-1])"
      ],
      "execution_count": 56,
      "outputs": [
        {
          "output_type": "stream",
          "text": [
            "16056\n",
            "(16056,)\n",
            "[  8   2   6 ... 406 352 390]\n",
            "390\n"
          ],
          "name": "stdout"
        }
      ]
    },
    {
      "metadata": {
        "id": "MfB5oPfO1DdQ",
        "colab_type": "code",
        "outputId": "6b6b1b29-d6d2-4411-dc5f-c21910f16715",
        "colab": {
          "base_uri": "https://localhost:8080/",
          "height": 142
        }
      },
      "cell_type": "code",
      "source": [
        "valid.head(2)"
      ],
      "execution_count": 57,
      "outputs": [
        {
          "output_type": "execute_result",
          "data": {
            "text/html": [
              "<div>\n",
              "<style scoped>\n",
              "    .dataframe tbody tr th:only-of-type {\n",
              "        vertical-align: middle;\n",
              "    }\n",
              "\n",
              "    .dataframe tbody tr th {\n",
              "        vertical-align: top;\n",
              "    }\n",
              "\n",
              "    .dataframe thead th {\n",
              "        text-align: right;\n",
              "    }\n",
              "</style>\n",
              "<table border=\"1\" class=\"dataframe\">\n",
              "  <thead>\n",
              "    <tr style=\"text-align: right;\">\n",
              "      <th></th>\n",
              "      <th>Datetime</th>\n",
              "      <th>Count</th>\n",
              "      <th>year</th>\n",
              "      <th>month</th>\n",
              "      <th>day</th>\n",
              "      <th>Hour</th>\n",
              "      <th>day of week</th>\n",
              "      <th>weekend</th>\n",
              "    </tr>\n",
              "    <tr>\n",
              "      <th>Datetime</th>\n",
              "      <th></th>\n",
              "      <th></th>\n",
              "      <th></th>\n",
              "      <th></th>\n",
              "      <th></th>\n",
              "      <th></th>\n",
              "      <th></th>\n",
              "      <th></th>\n",
              "    </tr>\n",
              "  </thead>\n",
              "  <tbody>\n",
              "    <tr>\n",
              "      <th>2014-06-25 00:00:00</th>\n",
              "      <td>2014-06-25 00:00:00</td>\n",
              "      <td>332</td>\n",
              "      <td>2014</td>\n",
              "      <td>6</td>\n",
              "      <td>25</td>\n",
              "      <td>0</td>\n",
              "      <td>2</td>\n",
              "      <td>0</td>\n",
              "    </tr>\n",
              "    <tr>\n",
              "      <th>2014-06-25 01:00:00</th>\n",
              "      <td>2014-06-25 01:00:00</td>\n",
              "      <td>260</td>\n",
              "      <td>2014</td>\n",
              "      <td>6</td>\n",
              "      <td>25</td>\n",
              "      <td>1</td>\n",
              "      <td>2</td>\n",
              "      <td>0</td>\n",
              "    </tr>\n",
              "  </tbody>\n",
              "</table>\n",
              "</div>"
            ],
            "text/plain": [
              "                               Datetime  Count  year  month  day  Hour  \\\n",
              "Datetime                                                                 \n",
              "2014-06-25 00:00:00 2014-06-25 00:00:00    332  2014      6   25     0   \n",
              "2014-06-25 01:00:00 2014-06-25 01:00:00    260  2014      6   25     1   \n",
              "\n",
              "                     day of week  weekend  \n",
              "Datetime                                   \n",
              "2014-06-25 00:00:00            2        0  \n",
              "2014-06-25 01:00:00            2        0  "
            ]
          },
          "metadata": {
            "tags": []
          },
          "execution_count": 57
        }
      ]
    },
    {
      "metadata": {
        "id": "xmKteaDXPKhx",
        "colab_type": "code",
        "outputId": "41da907f-f803-4fec-9b75-2e50b8fcec36",
        "colab": {
          "base_uri": "https://localhost:8080/",
          "height": 235
        }
      },
      "cell_type": "code",
      "source": [
        "y_hat = valid.copy()   # copy the complete validation dataset to y_hat \n",
        "y_hat['naive'] = dd[len(dd)-1] #take last observation from the training set and make a new column for prediction and put the same value forall predictions\n",
        "y_hat.head()"
      ],
      "execution_count": 58,
      "outputs": [
        {
          "output_type": "execute_result",
          "data": {
            "text/html": [
              "<div>\n",
              "<style scoped>\n",
              "    .dataframe tbody tr th:only-of-type {\n",
              "        vertical-align: middle;\n",
              "    }\n",
              "\n",
              "    .dataframe tbody tr th {\n",
              "        vertical-align: top;\n",
              "    }\n",
              "\n",
              "    .dataframe thead th {\n",
              "        text-align: right;\n",
              "    }\n",
              "</style>\n",
              "<table border=\"1\" class=\"dataframe\">\n",
              "  <thead>\n",
              "    <tr style=\"text-align: right;\">\n",
              "      <th></th>\n",
              "      <th>Datetime</th>\n",
              "      <th>Count</th>\n",
              "      <th>year</th>\n",
              "      <th>month</th>\n",
              "      <th>day</th>\n",
              "      <th>Hour</th>\n",
              "      <th>day of week</th>\n",
              "      <th>weekend</th>\n",
              "      <th>naive</th>\n",
              "    </tr>\n",
              "    <tr>\n",
              "      <th>Datetime</th>\n",
              "      <th></th>\n",
              "      <th></th>\n",
              "      <th></th>\n",
              "      <th></th>\n",
              "      <th></th>\n",
              "      <th></th>\n",
              "      <th></th>\n",
              "      <th></th>\n",
              "      <th></th>\n",
              "    </tr>\n",
              "  </thead>\n",
              "  <tbody>\n",
              "    <tr>\n",
              "      <th>2014-06-25 00:00:00</th>\n",
              "      <td>2014-06-25 00:00:00</td>\n",
              "      <td>332</td>\n",
              "      <td>2014</td>\n",
              "      <td>6</td>\n",
              "      <td>25</td>\n",
              "      <td>0</td>\n",
              "      <td>2</td>\n",
              "      <td>0</td>\n",
              "      <td>390</td>\n",
              "    </tr>\n",
              "    <tr>\n",
              "      <th>2014-06-25 01:00:00</th>\n",
              "      <td>2014-06-25 01:00:00</td>\n",
              "      <td>260</td>\n",
              "      <td>2014</td>\n",
              "      <td>6</td>\n",
              "      <td>25</td>\n",
              "      <td>1</td>\n",
              "      <td>2</td>\n",
              "      <td>0</td>\n",
              "      <td>390</td>\n",
              "    </tr>\n",
              "    <tr>\n",
              "      <th>2014-06-25 02:00:00</th>\n",
              "      <td>2014-06-25 02:00:00</td>\n",
              "      <td>218</td>\n",
              "      <td>2014</td>\n",
              "      <td>6</td>\n",
              "      <td>25</td>\n",
              "      <td>2</td>\n",
              "      <td>2</td>\n",
              "      <td>0</td>\n",
              "      <td>390</td>\n",
              "    </tr>\n",
              "    <tr>\n",
              "      <th>2014-06-25 03:00:00</th>\n",
              "      <td>2014-06-25 03:00:00</td>\n",
              "      <td>244</td>\n",
              "      <td>2014</td>\n",
              "      <td>6</td>\n",
              "      <td>25</td>\n",
              "      <td>3</td>\n",
              "      <td>2</td>\n",
              "      <td>0</td>\n",
              "      <td>390</td>\n",
              "    </tr>\n",
              "    <tr>\n",
              "      <th>2014-06-25 04:00:00</th>\n",
              "      <td>2014-06-25 04:00:00</td>\n",
              "      <td>168</td>\n",
              "      <td>2014</td>\n",
              "      <td>6</td>\n",
              "      <td>25</td>\n",
              "      <td>4</td>\n",
              "      <td>2</td>\n",
              "      <td>0</td>\n",
              "      <td>390</td>\n",
              "    </tr>\n",
              "  </tbody>\n",
              "</table>\n",
              "</div>"
            ],
            "text/plain": [
              "                               Datetime  Count  year  month  day  Hour  \\\n",
              "Datetime                                                                 \n",
              "2014-06-25 00:00:00 2014-06-25 00:00:00    332  2014      6   25     0   \n",
              "2014-06-25 01:00:00 2014-06-25 01:00:00    260  2014      6   25     1   \n",
              "2014-06-25 02:00:00 2014-06-25 02:00:00    218  2014      6   25     2   \n",
              "2014-06-25 03:00:00 2014-06-25 03:00:00    244  2014      6   25     3   \n",
              "2014-06-25 04:00:00 2014-06-25 04:00:00    168  2014      6   25     4   \n",
              "\n",
              "                     day of week  weekend  naive  \n",
              "Datetime                                          \n",
              "2014-06-25 00:00:00            2        0    390  \n",
              "2014-06-25 01:00:00            2        0    390  \n",
              "2014-06-25 02:00:00            2        0    390  \n",
              "2014-06-25 03:00:00            2        0    390  \n",
              "2014-06-25 04:00:00            2        0    390  "
            ]
          },
          "metadata": {
            "tags": []
          },
          "execution_count": 58
        }
      ]
    },
    {
      "metadata": {
        "id": "-lFGIg4OPKRW",
        "colab_type": "code",
        "outputId": "940eae50-565f-48a9-b1bb-d5b3951781a5",
        "colab": {
          "base_uri": "https://localhost:8080/",
          "height": 515
        }
      },
      "cell_type": "code",
      "source": [
        "plt.figure(figsize=(12,8)) \n",
        "plt.plot(Train.index, Train['Count'], label='Train') \n",
        "plt.plot(valid.index,valid['Count'], label='Valid') \n",
        "plt.plot(y_hat.index,y_hat['naive'], label='Naive Forecast') \n",
        "plt.legend(loc='best') \n",
        "plt.title(\"Naive Forecast\") "
      ],
      "execution_count": 59,
      "outputs": [
        {
          "output_type": "execute_result",
          "data": {
            "text/plain": [
              "Text(0.5, 1.0, 'Naive Forecast')"
            ]
          },
          "metadata": {
            "tags": []
          },
          "execution_count": 59
        },
        {
          "output_type": "display_data",
          "data": {
            "image/png": "[encoded data removed]",
            "text/plain": [
              "<Figure size 864x576 with 1 Axes>"
            ]
          },
          "metadata": {
            "tags": []
          }
        }
      ]
    },
    {
      "metadata": {
        "id": "zxSuDRB9HJsy",
        "colab_type": "text"
      },
      "cell_type": "markdown",
      "source": [
        "Here red horizontal line shows the predicted value in next months BY using Naive bias approach"
      ]
    },
    {
      "metadata": {
        "id": "Fy4rZdm33UuF",
        "colab_type": "text"
      },
      "cell_type": "markdown",
      "source": [
        "1.   We can calculate how accurate our predictions are using rmse(Root Mean Square Error).\n",
        "2.   rmse is the standard deviation of the residuals.\n",
        "3.   Residuals are a measure of how far from the regression line data points are."
      ]
    },
    {
      "metadata": {
        "id": "Vba3u0FR3jnY",
        "colab_type": "text"
      },
      "cell_type": "markdown",
      "source": [
        "We will now calculate RMSE to check the accuracy of our model on validation data set."
      ]
    },
    {
      "metadata": {
        "id": "298S4oskPKPf",
        "colab_type": "code",
        "outputId": "5a67deca-e665-4f34-d707-ddacac1a93a7",
        "colab": {
          "base_uri": "https://localhost:8080/",
          "height": 34
        }
      },
      "cell_type": "code",
      "source": [
        "from sklearn.metrics import mean_squared_error \n",
        "from math import sqrt \n",
        "rmse = sqrt(mean_squared_error(valid.Count, y_hat.naive))  # check the difference between both of the values.\n",
        "print(rmse) #root mean squared  error"
      ],
      "execution_count": 60,
      "outputs": [
        {
          "output_type": "stream",
          "text": [
            "186.37368520699056\n"
          ],
          "name": "stdout"
        }
      ]
    },
    {
      "metadata": {
        "id": "mk6Oks55MRQj",
        "colab_type": "text"
      },
      "cell_type": "markdown",
      "source": [
        "We are getting 186.374 error in the Naive bias approach "
      ]
    },
    {
      "metadata": {
        "id": "L0MnoGAA4DzK",
        "colab_type": "text"
      },
      "cell_type": "markdown",
      "source": [
        "We can infer that this method is not suitable for datasets with high variability. We can reduce the rmse value by adopting different techniques."
      ]
    },
    {
      "metadata": {
        "id": "TIEne0P14HNK",
        "colab_type": "text"
      },
      "cell_type": "markdown",
      "source": [
        "#ii) Moving Average"
      ]
    },
    {
      "metadata": {
        "id": "znVK9uKx4as-",
        "colab_type": "text"
      },
      "cell_type": "markdown",
      "source": [
        "In this technique we will take the average of the passenger counts for last few time periods only."
      ]
    },
    {
      "metadata": {
        "id": "-g8TXS5wHw4g",
        "colab_type": "text"
      },
      "cell_type": "markdown",
      "source": [
        "Let’s take an example to understand it:\n",
        "\n",
        "\n",
        "![alt text](https://s3.amazonaws.com/thinkific/file_uploads/118220/images/1f6/be6/381/1549364621459.jpg)\n",
        "\n",
        "Here the predictions are made on the basis of the average of last few points instead of taking all the previously known values.\n"
      ]
    },
    {
      "metadata": {
        "id": "yj52-wL4IKzZ",
        "colab_type": "text"
      },
      "cell_type": "markdown",
      "source": [
        "Lets try the rolling mean for last 10, 20, 50 days and visualize the results.Lets try the rolling mean for last 10, 20, 50 days and visualize the results."
      ]
    },
    {
      "metadata": {
        "id": "HKC1eluNJmTM",
        "colab_type": "text"
      },
      "cell_type": "markdown",
      "source": [
        "***# For 10 days**\n",
        "\n",
        "```\n",
        "Take the average of last 10 days(observation) from the training datasset\n",
        "\n",
        "Data should be of passenger_Count \n",
        "```"
      ]
    },
    {
      "metadata": {
        "id": "Y97qZBWePKNM",
        "colab_type": "code",
        "colab": {
          "base_uri": "https://localhost:8080/",
          "height": 235
        },
        "outputId": "63b6c4e3-71c0-4d51-ffb7-65eba437c424"
      },
      "cell_type": "code",
      "source": [
        "y_hat_avg = valid.copy()   # nake  a copy of the valdation dataset \n",
        "y_hat_avg['moving_avg_forecast'] = Train['Count'].rolling(10).mean().iloc[-1] # average of last 10 observations( of th e'Count' from the train dataset). in  the last column \n",
        "y_hat_avg.head()"
      ],
      "execution_count": 64,
      "outputs": [
        {
          "output_type": "execute_result",
          "data": {
            "text/html": [
              "<div>\n",
              "<style scoped>\n",
              "    .dataframe tbody tr th:only-of-type {\n",
              "        vertical-align: middle;\n",
              "    }\n",
              "\n",
              "    .dataframe tbody tr th {\n",
              "        vertical-align: top;\n",
              "    }\n",
              "\n",
              "    .dataframe thead th {\n",
              "        text-align: right;\n",
              "    }\n",
              "</style>\n",
              "<table border=\"1\" class=\"dataframe\">\n",
              "  <thead>\n",
              "    <tr style=\"text-align: right;\">\n",
              "      <th></th>\n",
              "      <th>Datetime</th>\n",
              "      <th>Count</th>\n",
              "      <th>year</th>\n",
              "      <th>month</th>\n",
              "      <th>day</th>\n",
              "      <th>Hour</th>\n",
              "      <th>day of week</th>\n",
              "      <th>weekend</th>\n",
              "      <th>moving_avg_forecast</th>\n",
              "    </tr>\n",
              "    <tr>\n",
              "      <th>Datetime</th>\n",
              "      <th></th>\n",
              "      <th></th>\n",
              "      <th></th>\n",
              "      <th></th>\n",
              "      <th></th>\n",
              "      <th></th>\n",
              "      <th></th>\n",
              "      <th></th>\n",
              "      <th></th>\n",
              "    </tr>\n",
              "  </thead>\n",
              "  <tbody>\n",
              "    <tr>\n",
              "      <th>2014-06-25 00:00:00</th>\n",
              "      <td>2014-06-25 00:00:00</td>\n",
              "      <td>332</td>\n",
              "      <td>2014</td>\n",
              "      <td>6</td>\n",
              "      <td>25</td>\n",
              "      <td>0</td>\n",
              "      <td>2</td>\n",
              "      <td>0</td>\n",
              "      <td>439.2</td>\n",
              "    </tr>\n",
              "    <tr>\n",
              "      <th>2014-06-25 01:00:00</th>\n",
              "      <td>2014-06-25 01:00:00</td>\n",
              "      <td>260</td>\n",
              "      <td>2014</td>\n",
              "      <td>6</td>\n",
              "      <td>25</td>\n",
              "      <td>1</td>\n",
              "      <td>2</td>\n",
              "      <td>0</td>\n",
              "      <td>439.2</td>\n",
              "    </tr>\n",
              "    <tr>\n",
              "      <th>2014-06-25 02:00:00</th>\n",
              "      <td>2014-06-25 02:00:00</td>\n",
              "      <td>218</td>\n",
              "      <td>2014</td>\n",
              "      <td>6</td>\n",
              "      <td>25</td>\n",
              "      <td>2</td>\n",
              "      <td>2</td>\n",
              "      <td>0</td>\n",
              "      <td>439.2</td>\n",
              "    </tr>\n",
              "    <tr>\n",
              "      <th>2014-06-25 03:00:00</th>\n",
              "      <td>2014-06-25 03:00:00</td>\n",
              "      <td>244</td>\n",
              "      <td>2014</td>\n",
              "      <td>6</td>\n",
              "      <td>25</td>\n",
              "      <td>3</td>\n",
              "      <td>2</td>\n",
              "      <td>0</td>\n",
              "      <td>439.2</td>\n",
              "    </tr>\n",
              "    <tr>\n",
              "      <th>2014-06-25 04:00:00</th>\n",
              "      <td>2014-06-25 04:00:00</td>\n",
              "      <td>168</td>\n",
              "      <td>2014</td>\n",
              "      <td>6</td>\n",
              "      <td>25</td>\n",
              "      <td>4</td>\n",
              "      <td>2</td>\n",
              "      <td>0</td>\n",
              "      <td>439.2</td>\n",
              "    </tr>\n",
              "  </tbody>\n",
              "</table>\n",
              "</div>"
            ],
            "text/plain": [
              "                               Datetime  Count  year  month  day  Hour  \\\n",
              "Datetime                                                                 \n",
              "2014-06-25 00:00:00 2014-06-25 00:00:00    332  2014      6   25     0   \n",
              "2014-06-25 01:00:00 2014-06-25 01:00:00    260  2014      6   25     1   \n",
              "2014-06-25 02:00:00 2014-06-25 02:00:00    218  2014      6   25     2   \n",
              "2014-06-25 03:00:00 2014-06-25 03:00:00    244  2014      6   25     3   \n",
              "2014-06-25 04:00:00 2014-06-25 04:00:00    168  2014      6   25     4   \n",
              "\n",
              "                     day of week  weekend  moving_avg_forecast  \n",
              "Datetime                                                        \n",
              "2014-06-25 00:00:00            2        0                439.2  \n",
              "2014-06-25 01:00:00            2        0                439.2  \n",
              "2014-06-25 02:00:00            2        0                439.2  \n",
              "2014-06-25 03:00:00            2        0                439.2  \n",
              "2014-06-25 04:00:00            2        0                439.2  "
            ]
          },
          "metadata": {
            "tags": []
          },
          "execution_count": 64
        }
      ]
    },
    {
      "metadata": {
        "id": "oM6jXZ-cHa6b",
        "colab_type": "code",
        "colab": {
          "base_uri": "https://localhost:8080/",
          "height": 337
        },
        "outputId": "3b875526-0db4-495c-c1b5-2fb34dfcfb06"
      },
      "cell_type": "code",
      "source": [
        "plt.figure(figsize=(15,5)) \n",
        "plt.plot(Train['Count'], label='Train') \n",
        "plt.plot(valid['Count'], label='Valid') \n",
        "plt.plot(y_hat_avg['moving_avg_forecast'], label='Moving Average Forecast using 10 observations') \n",
        "plt.legend(loc='best')"
      ],
      "execution_count": 65,
      "outputs": [
        {
          "output_type": "execute_result",
          "data": {
            "text/plain": [
              "<matplotlib.legend.Legend at 0x7f3b32685f28>"
            ]
          },
          "metadata": {
            "tags": []
          },
          "execution_count": 65
        },
        {
          "output_type": "display_data",
          "data": {
            "image/png": "[encoded data removed]",
            "text/plain": [
              "<Figure size 1080x360 with 1 Axes>"
            ]
          },
          "metadata": {
            "tags": []
          }
        }
      ]
    },
    {
      "metadata": {
        "id": "TiI5XAj1LXb_",
        "colab_type": "code",
        "colab": {
          "base_uri": "https://localhost:8080/",
          "height": 34
        },
        "outputId": "98dadcb9-db4b-456c-c23a-cf361b2fe9b9"
      },
      "cell_type": "code",
      "source": [
        "rms = sqrt(mean_squared_error(valid.Count, y_hat_avg.moving_avg_forecast)) \n",
        "print(rms)"
      ],
      "execution_count": 66,
      "outputs": [
        {
          "output_type": "stream",
          "text": [
            "192.93805680435588\n"
          ],
          "name": "stdout"
        }
      ]
    },
    {
      "metadata": {
        "id": "nGxg8XEXJiiW",
        "colab_type": "text"
      },
      "cell_type": "markdown",
      "source": [
        "**# For 20 days**\n",
        "\n",
        "```\n",
        "Take the average of last 20 days(observation) from the training datasset\n",
        "\n",
        "Data should be of passenger_Count \n",
        "And then assign the same value in the further coming dataset in the prediction column\n",
        "```\n",
        "\n"
      ]
    },
    {
      "metadata": {
        "id": "S7rkyK25Ha3h",
        "colab_type": "code",
        "colab": {
          "base_uri": "https://localhost:8080/",
          "height": 235
        },
        "outputId": "e82cf241-1ab4-4b30-e7fc-e995afed8e1a"
      },
      "cell_type": "code",
      "source": [
        "y_hat_avg = valid.copy() \n",
        "y_hat_avg['moving_avg_forecast'] = Train['Count'].rolling(20).mean().iloc[-1] # average of last 20 observations. \n",
        "y_hat_avg.head()"
      ],
      "execution_count": 67,
      "outputs": [
        {
          "output_type": "execute_result",
          "data": {
            "text/html": [
              "<div>\n",
              "<style scoped>\n",
              "    .dataframe tbody tr th:only-of-type {\n",
              "        vertical-align: middle;\n",
              "    }\n",
              "\n",
              "    .dataframe tbody tr th {\n",
              "        vertical-align: top;\n",
              "    }\n",
              "\n",
              "    .dataframe thead th {\n",
              "        text-align: right;\n",
              "    }\n",
              "</style>\n",
              "<table border=\"1\" class=\"dataframe\">\n",
              "  <thead>\n",
              "    <tr style=\"text-align: right;\">\n",
              "      <th></th>\n",
              "      <th>Datetime</th>\n",
              "      <th>Count</th>\n",
              "      <th>year</th>\n",
              "      <th>month</th>\n",
              "      <th>day</th>\n",
              "      <th>Hour</th>\n",
              "      <th>day of week</th>\n",
              "      <th>weekend</th>\n",
              "      <th>moving_avg_forecast</th>\n",
              "    </tr>\n",
              "    <tr>\n",
              "      <th>Datetime</th>\n",
              "      <th></th>\n",
              "      <th></th>\n",
              "      <th></th>\n",
              "      <th></th>\n",
              "      <th></th>\n",
              "      <th></th>\n",
              "      <th></th>\n",
              "      <th></th>\n",
              "      <th></th>\n",
              "    </tr>\n",
              "  </thead>\n",
              "  <tbody>\n",
              "    <tr>\n",
              "      <th>2014-06-25 00:00:00</th>\n",
              "      <td>2014-06-25 00:00:00</td>\n",
              "      <td>332</td>\n",
              "      <td>2014</td>\n",
              "      <td>6</td>\n",
              "      <td>25</td>\n",
              "      <td>0</td>\n",
              "      <td>2</td>\n",
              "      <td>0</td>\n",
              "      <td>378.6</td>\n",
              "    </tr>\n",
              "    <tr>\n",
              "      <th>2014-06-25 01:00:00</th>\n",
              "      <td>2014-06-25 01:00:00</td>\n",
              "      <td>260</td>\n",
              "      <td>2014</td>\n",
              "      <td>6</td>\n",
              "      <td>25</td>\n",
              "      <td>1</td>\n",
              "      <td>2</td>\n",
              "      <td>0</td>\n",
              "      <td>378.6</td>\n",
              "    </tr>\n",
              "    <tr>\n",
              "      <th>2014-06-25 02:00:00</th>\n",
              "      <td>2014-06-25 02:00:00</td>\n",
              "      <td>218</td>\n",
              "      <td>2014</td>\n",
              "      <td>6</td>\n",
              "      <td>25</td>\n",
              "      <td>2</td>\n",
              "      <td>2</td>\n",
              "      <td>0</td>\n",
              "      <td>378.6</td>\n",
              "    </tr>\n",
              "    <tr>\n",
              "      <th>2014-06-25 03:00:00</th>\n",
              "      <td>2014-06-25 03:00:00</td>\n",
              "      <td>244</td>\n",
              "      <td>2014</td>\n",
              "      <td>6</td>\n",
              "      <td>25</td>\n",
              "      <td>3</td>\n",
              "      <td>2</td>\n",
              "      <td>0</td>\n",
              "      <td>378.6</td>\n",
              "    </tr>\n",
              "    <tr>\n",
              "      <th>2014-06-25 04:00:00</th>\n",
              "      <td>2014-06-25 04:00:00</td>\n",
              "      <td>168</td>\n",
              "      <td>2014</td>\n",
              "      <td>6</td>\n",
              "      <td>25</td>\n",
              "      <td>4</td>\n",
              "      <td>2</td>\n",
              "      <td>0</td>\n",
              "      <td>378.6</td>\n",
              "    </tr>\n",
              "  </tbody>\n",
              "</table>\n",
              "</div>"
            ],
            "text/plain": [
              "                               Datetime  Count  year  month  day  Hour  \\\n",
              "Datetime                                                                 \n",
              "2014-06-25 00:00:00 2014-06-25 00:00:00    332  2014      6   25     0   \n",
              "2014-06-25 01:00:00 2014-06-25 01:00:00    260  2014      6   25     1   \n",
              "2014-06-25 02:00:00 2014-06-25 02:00:00    218  2014      6   25     2   \n",
              "2014-06-25 03:00:00 2014-06-25 03:00:00    244  2014      6   25     3   \n",
              "2014-06-25 04:00:00 2014-06-25 04:00:00    168  2014      6   25     4   \n",
              "\n",
              "                     day of week  weekend  moving_avg_forecast  \n",
              "Datetime                                                        \n",
              "2014-06-25 00:00:00            2        0                378.6  \n",
              "2014-06-25 01:00:00            2        0                378.6  \n",
              "2014-06-25 02:00:00            2        0                378.6  \n",
              "2014-06-25 03:00:00            2        0                378.6  \n",
              "2014-06-25 04:00:00            2        0                378.6  "
            ]
          },
          "metadata": {
            "tags": []
          },
          "execution_count": 67
        }
      ]
    },
    {
      "metadata": {
        "id": "Ww2VeyA2Jrgo",
        "colab_type": "code",
        "colab": {
          "base_uri": "https://localhost:8080/",
          "height": 337
        },
        "outputId": "1c64d8cb-67f0-436d-ddd0-8bd910470deb"
      },
      "cell_type": "code",
      "source": [
        "plt.figure(figsize=(15,5)) \n",
        "plt.plot(Train['Count'], label='Train') \n",
        "plt.plot(valid['Count'], label='Valid') \n",
        "plt.plot(y_hat_avg['moving_avg_forecast'], label='Moving Average Forecast using 20 observations') \n",
        "plt.legend(loc='best')"
      ],
      "execution_count": 68,
      "outputs": [
        {
          "output_type": "execute_result",
          "data": {
            "text/plain": [
              "<matplotlib.legend.Legend at 0x7f3b32601a58>"
            ]
          },
          "metadata": {
            "tags": []
          },
          "execution_count": 68
        },
        {
          "output_type": "display_data",
          "data": {
            "image/png": "[encoded data removed]",
            "text/plain": [
              "<Figure size 1080x360 with 1 Axes>"
            ]
          },
          "metadata": {
            "tags": []
          }
        }
      ]
    },
    {
      "metadata": {
        "id": "qFVucJUzLg5y",
        "colab_type": "code",
        "colab": {
          "base_uri": "https://localhost:8080/",
          "height": 34
        },
        "outputId": "f5cda7e6-5373-48f1-ac8b-162087d96591"
      },
      "cell_type": "code",
      "source": [
        "rms = sqrt(mean_squared_error(valid.Count, y_hat_avg.moving_avg_forecast)) \n",
        "print(rms)"
      ],
      "execution_count": 69,
      "outputs": [
        {
          "output_type": "stream",
          "text": [
            "186.67900919256638\n"
          ],
          "name": "stdout"
        }
      ]
    },
    {
      "metadata": {
        "id": "_21F7kYaKv5f",
        "colab_type": "text"
      },
      "cell_type": "markdown",
      "source": [
        "**# For 50 days**\n",
        "\n",
        "```\n",
        "Take the average of last 50 days(observation) from the training datasset\n",
        "\n",
        "Data should be of passenger_Count \n",
        "And then assign the same value in the further coming dataset in the prediction column\n",
        "```\n"
      ]
    },
    {
      "metadata": {
        "id": "7hDBTeC_Ha0i",
        "colab_type": "code",
        "colab": {
          "base_uri": "https://localhost:8080/",
          "height": 235
        },
        "outputId": "0d8957f3-5bb6-4501-e09d-4fe054169dd1"
      },
      "cell_type": "code",
      "source": [
        "y_hat_avg = valid.copy() \n",
        "y_hat_avg['moving_avg_forecast'] = Train['Count'].rolling(50).mean().iloc[-1] # average of last 50 observations. \n",
        "y_hat_avg.head()"
      ],
      "execution_count": 70,
      "outputs": [
        {
          "output_type": "execute_result",
          "data": {
            "text/html": [
              "<div>\n",
              "<style scoped>\n",
              "    .dataframe tbody tr th:only-of-type {\n",
              "        vertical-align: middle;\n",
              "    }\n",
              "\n",
              "    .dataframe tbody tr th {\n",
              "        vertical-align: top;\n",
              "    }\n",
              "\n",
              "    .dataframe thead th {\n",
              "        text-align: right;\n",
              "    }\n",
              "</style>\n",
              "<table border=\"1\" class=\"dataframe\">\n",
              "  <thead>\n",
              "    <tr style=\"text-align: right;\">\n",
              "      <th></th>\n",
              "      <th>Datetime</th>\n",
              "      <th>Count</th>\n",
              "      <th>year</th>\n",
              "      <th>month</th>\n",
              "      <th>day</th>\n",
              "      <th>Hour</th>\n",
              "      <th>day of week</th>\n",
              "      <th>weekend</th>\n",
              "      <th>moving_avg_forecast</th>\n",
              "    </tr>\n",
              "    <tr>\n",
              "      <th>Datetime</th>\n",
              "      <th></th>\n",
              "      <th></th>\n",
              "      <th></th>\n",
              "      <th></th>\n",
              "      <th></th>\n",
              "      <th></th>\n",
              "      <th></th>\n",
              "      <th></th>\n",
              "      <th></th>\n",
              "    </tr>\n",
              "  </thead>\n",
              "  <tbody>\n",
              "    <tr>\n",
              "      <th>2014-06-25 00:00:00</th>\n",
              "      <td>2014-06-25 00:00:00</td>\n",
              "      <td>332</td>\n",
              "      <td>2014</td>\n",
              "      <td>6</td>\n",
              "      <td>25</td>\n",
              "      <td>0</td>\n",
              "      <td>2</td>\n",
              "      <td>0</td>\n",
              "      <td>398.04</td>\n",
              "    </tr>\n",
              "    <tr>\n",
              "      <th>2014-06-25 01:00:00</th>\n",
              "      <td>2014-06-25 01:00:00</td>\n",
              "      <td>260</td>\n",
              "      <td>2014</td>\n",
              "      <td>6</td>\n",
              "      <td>25</td>\n",
              "      <td>1</td>\n",
              "      <td>2</td>\n",
              "      <td>0</td>\n",
              "      <td>398.04</td>\n",
              "    </tr>\n",
              "    <tr>\n",
              "      <th>2014-06-25 02:00:00</th>\n",
              "      <td>2014-06-25 02:00:00</td>\n",
              "      <td>218</td>\n",
              "      <td>2014</td>\n",
              "      <td>6</td>\n",
              "      <td>25</td>\n",
              "      <td>2</td>\n",
              "      <td>2</td>\n",
              "      <td>0</td>\n",
              "      <td>398.04</td>\n",
              "    </tr>\n",
              "    <tr>\n",
              "      <th>2014-06-25 03:00:00</th>\n",
              "      <td>2014-06-25 03:00:00</td>\n",
              "      <td>244</td>\n",
              "      <td>2014</td>\n",
              "      <td>6</td>\n",
              "      <td>25</td>\n",
              "      <td>3</td>\n",
              "      <td>2</td>\n",
              "      <td>0</td>\n",
              "      <td>398.04</td>\n",
              "    </tr>\n",
              "    <tr>\n",
              "      <th>2014-06-25 04:00:00</th>\n",
              "      <td>2014-06-25 04:00:00</td>\n",
              "      <td>168</td>\n",
              "      <td>2014</td>\n",
              "      <td>6</td>\n",
              "      <td>25</td>\n",
              "      <td>4</td>\n",
              "      <td>2</td>\n",
              "      <td>0</td>\n",
              "      <td>398.04</td>\n",
              "    </tr>\n",
              "  </tbody>\n",
              "</table>\n",
              "</div>"
            ],
            "text/plain": [
              "                               Datetime  Count  year  month  day  Hour  \\\n",
              "Datetime                                                                 \n",
              "2014-06-25 00:00:00 2014-06-25 00:00:00    332  2014      6   25     0   \n",
              "2014-06-25 01:00:00 2014-06-25 01:00:00    260  2014      6   25     1   \n",
              "2014-06-25 02:00:00 2014-06-25 02:00:00    218  2014      6   25     2   \n",
              "2014-06-25 03:00:00 2014-06-25 03:00:00    244  2014      6   25     3   \n",
              "2014-06-25 04:00:00 2014-06-25 04:00:00    168  2014      6   25     4   \n",
              "\n",
              "                     day of week  weekend  moving_avg_forecast  \n",
              "Datetime                                                        \n",
              "2014-06-25 00:00:00            2        0               398.04  \n",
              "2014-06-25 01:00:00            2        0               398.04  \n",
              "2014-06-25 02:00:00            2        0               398.04  \n",
              "2014-06-25 03:00:00            2        0               398.04  \n",
              "2014-06-25 04:00:00            2        0               398.04  "
            ]
          },
          "metadata": {
            "tags": []
          },
          "execution_count": 70
        }
      ]
    },
    {
      "metadata": {
        "id": "sl8WDkVbHaxC",
        "colab_type": "code",
        "colab": {
          "base_uri": "https://localhost:8080/",
          "height": 320
        },
        "outputId": "e3e65dcd-9432-463b-d659-7103abebab1f"
      },
      "cell_type": "code",
      "source": [
        "plt.figure(figsize=(15,5)) \n",
        "plt.plot(Train['Count'], label='Train') \n",
        "plt.plot(valid['Count'], label='Valid') \n",
        "plt.plot(y_hat_avg['moving_avg_forecast'], label='Moving Average Forecast using 50 observations') \n",
        "plt.legend(loc='best') \n",
        "plt.show()"
      ],
      "execution_count": 71,
      "outputs": [
        {
          "output_type": "display_data",
          "data": {
            "image/png": "[encoded data removed]",
            "text/plain": [
              "<Figure size 1080x360 with 1 Axes>"
            ]
          },
          "metadata": {
            "tags": []
          }
        }
      ]
    },
    {
      "metadata": {
        "id": "unNzV7G5Llcu",
        "colab_type": "code",
        "colab": {
          "base_uri": "https://localhost:8080/",
          "height": 34
        },
        "outputId": "2532e6c7-5cf7-4cfb-af55-3ebbafb02c15"
      },
      "cell_type": "code",
      "source": [
        "rms = sqrt(mean_squared_error(valid.Count, y_hat_avg.moving_avg_forecast)) \n",
        "print(rms)"
      ],
      "execution_count": 72,
      "outputs": [
        {
          "output_type": "stream",
          "text": [
            "186.5773761711873\n"
          ],
          "name": "stdout"
        }
      ]
    },
    {
      "metadata": {
        "id": "s2FSOJNILMwn",
        "colab_type": "text"
      },
      "cell_type": "markdown",
      "source": [
        "We took the average of last 10, 20 and 50 observations and predicted based on that. This value can be changed in the above code in .rolling().mean() part. We can see that the predictions are getting weaker as we increase the number of observations.\n",
        "\n",
        "\n",
        "You can see below :\n",
        "When we are taking last 100 observations , then we  are getting the rmse value around 200 , which is greater than previous one ,This is not good for model"
      ]
    },
    {
      "metadata": {
        "id": "uz-593vUPJ9r",
        "colab_type": "code",
        "colab": {
          "base_uri": "https://localhost:8080/",
          "height": 337
        },
        "outputId": "69cfeedf-66e0-41b8-b5a8-10b5e9a4480e"
      },
      "cell_type": "code",
      "source": [
        "y_hat_avg = valid.copy() \n",
        "y_hat_avg['moving_avg_forecast'] = Train['Count'].rolling(100).mean().iloc[-1] # average of last 50 observations. \n",
        "plt.figure(figsize=(15,5)) \n",
        "plt.plot(Train['Count'], label='Train') \n",
        "plt.plot(valid['Count'], label='Valid') \n",
        "plt.plot(y_hat_avg['moving_avg_forecast'], label='Moving Average Forecast using 50 observations') \n",
        "plt.legend(loc='best') \n",
        "rms = sqrt(mean_squared_error(valid.Count, y_hat_avg.moving_avg_forecast)) \n",
        "print(rms)"
      ],
      "execution_count": 101,
      "outputs": [
        {
          "output_type": "stream",
          "text": [
            "200.0119746415199\n"
          ],
          "name": "stdout"
        },
        {
          "output_type": "display_data",
          "data": {
            "image/png": "[encoded data removed]",
            "text/plain": [
              "<Figure size 1080x360 with 1 Axes>"
            ]
          },
          "metadata": {
            "tags": []
          }
        }
      ]
    },
    {
      "metadata": {
        "id": "gnCzclumN3q1",
        "colab_type": "text"
      },
      "cell_type": "markdown",
      "source": [
        "#iii) Simple Exponential Smoothing"
      ]
    },
    {
      "metadata": {
        "id": "aKt4fUeYOEmr",
        "colab_type": "text"
      },
      "cell_type": "markdown",
      "source": [
        "1.    In this technique, we assign** larger weights** to more recent observations(last observations) than to observations from the distant past.\n",
        "\n",
        "2 .  The weights decrease exponentially as observations come from further in the past, the smallest weights are associated with the oldest observations.\n",
        "\n",
        "Now we can say,\n",
        "Starting observations (older observations) have smaller values of weights .\n"
      ]
    },
    {
      "metadata": {
        "id": "zsKXG1mnPVg8",
        "colab_type": "text"
      },
      "cell_type": "markdown",
      "source": [
        "NOTE - If we give the entire weight to the last observed value only, this method will be similar to the naive approach. So, we can say that naive approach is also a simple exponential smoothing technique where the entire weight is given to the last observed value."
      ]
    },
    {
      "metadata": {
        "id": "O3lgyeC1PbT6",
        "colab_type": "text"
      },
      "cell_type": "markdown",
      "source": [
        "Let’s look at an example of simple exponential smoothing:\n",
        "\n",
        "![alt text](https://s3.amazonaws.com/thinkific/file_uploads/118220/images/77b/752/347/1549364622440.jpg)\n",
        "\n"
      ]
    },
    {
      "metadata": {
        "id": "PBmHBJPcQdLi",
        "colab_type": "text"
      },
      "cell_type": "markdown",
      "source": [
        "Here the predictions are made by assigning larger weight to the recent values and lesser weight to the old values."
      ]
    },
    {
      "metadata": {
        "id": "vPyzdwZFRmNJ",
        "colab_type": "code",
        "colab": {
          "base_uri": "https://localhost:8080/",
          "height": 54
        },
        "outputId": "ceb44d95-7312-4600-acf4-14b29566b40f"
      },
      "cell_type": "code",
      "source": [
        "import statsmodels.tsa.api\n",
        "print(dir(statsmodels.tsa.api))"
      ],
      "execution_count": 61,
      "outputs": [
        {
          "output_type": "stream",
          "text": [
            "['AR', 'ARIMA', 'ARMA', 'ArmaProcess', 'DynamicFactor', 'DynamicVAR', 'ExponentialSmoothing', 'Holt', 'MarkovAutoregression', 'MarkovRegression', 'SARIMAX', 'SVAR', 'SimpleExpSmoothing', 'UnobservedComponents', 'VAR', 'VARMAX', 'VECM', '__builtins__', '__cached__', '__doc__', '__file__', '__loader__', '__name__', '__package__', '__spec__', 'acf', 'acovf', 'add_lag', 'add_trend', 'adfuller', 'arma_generate_sample', 'arma_order_select_ic', 'bds', 'ccf', 'ccovf', 'coint', 'datetools', 'detrend', 'filters', 'graphics', 'interp', 'kpss', 'lagmat', 'lagmat2ds', 'pacf', 'pacf_ols', 'pacf_yw', 'periodogram', 'q_stat', 'seasonal_decompose', 'statespace', 'stattools', 'tsatools', 'var', 'x13_arima_analysis', 'x13_arima_select_order']\n"
          ],
          "name": "stdout"
        }
      ]
    },
    {
      "metadata": {
        "id": "feKpYFoPS1Q4",
        "colab_type": "code",
        "colab": {
          "base_uri": "https://localhost:8080/",
          "height": 377
        },
        "outputId": "97160a5c-e275-4062-8455-943f0ba2d519"
      },
      "cell_type": "code",
      "source": [
        "!pip install statsmodels==0.9.0   # install the library/ package in google colab\n",
        "print (statsmodels.__version__)"
      ],
      "execution_count": 116,
      "outputs": [
        {
          "output_type": "stream",
          "text": [
            "Collecting statsmodels==0.9.0\n",
            "\u001b[?25l  Downloading https://files.pythonhosted.org/packages/85/d1/69ee7e757f657e7f527cbf500ec2d295396e5bcec873cf4eb68962c41024/statsmodels-0.9.0-cp36-cp36m-manylinux1_x86_64.whl (7.4MB)\n",
            "\u001b[K    100% |████████████████████████████████| 7.4MB 6.4MB/s \n",
            "\u001b[?25hRequirement already satisfied: pandas in /usr/local/lib/python3.6/dist-packages (from statsmodels==0.9.0) (0.22.0)\n",
            "Requirement already satisfied: patsy in /usr/local/lib/python3.6/dist-packages (from statsmodels==0.9.0) (0.5.1)\n",
            "Requirement already satisfied: numpy>=1.9.0 in /usr/local/lib/python3.6/dist-packages (from pandas->statsmodels==0.9.0) (1.14.6)\n",
            "Requirement already satisfied: python-dateutil>=2 in /usr/local/lib/python3.6/dist-packages (from pandas->statsmodels==0.9.0) (2.5.3)\n",
            "Requirement already satisfied: pytz>=2011k in /usr/local/lib/python3.6/dist-packages (from pandas->statsmodels==0.9.0) (2018.9)\n",
            "Requirement already satisfied: six in /usr/local/lib/python3.6/dist-packages (from patsy->statsmodels==0.9.0) (1.11.0)\n",
            "Installing collected packages: statsmodels\n",
            "  Found existing installation: statsmodels 0.8.0\n",
            "    Uninstalling statsmodels-0.8.0:\n",
            "      Successfully uninstalled statsmodels-0.8.0\n",
            "Successfully installed statsmodels-0.9.0\n"
          ],
          "name": "stdout"
        },
        {
          "output_type": "display_data",
          "data": {
            "application/vnd.colab-display-data+json": {
              "pip_warning": {
                "packages": [
                  "statsmodels"
                ]
              }
            }
          },
          "metadata": {
            "tags": []
          }
        },
        {
          "output_type": "stream",
          "text": [
            "0.8.0\n"
          ],
          "name": "stdout"
        }
      ]
    },
    {
      "metadata": {
        "id": "Cp6Q7yHyPJ2x",
        "colab_type": "code",
        "colab": {}
      },
      "cell_type": "code",
      "source": [
        "from statsmodels.tsa.api import ExponentialSmoothing, SimpleExpSmoothing, Holt\n",
        "y_hat_avg = valid.copy() "
      ],
      "execution_count": 0,
      "outputs": []
    },
    {
      "metadata": {
        "id": "-aYvNEY9QFBc",
        "colab_type": "code",
        "colab": {
          "base_uri": "https://localhost:8080/",
          "height": 235
        },
        "outputId": "d95669e3-19cb-4006-82bf-3a0b198f0e14"
      },
      "cell_type": "code",
      "source": [
        "fit2 = SimpleExpSmoothing(np.asarray(Train['Count'])).fit(smoothing_level=0.6,optimized=False)\n",
        "y_hat_avg['SES'] = fit2.forecast(len(valid)) \n",
        "y_hat_avg.head()"
      ],
      "execution_count": 75,
      "outputs": [
        {
          "output_type": "execute_result",
          "data": {
            "text/html": [
              "<div>\n",
              "<style scoped>\n",
              "    .dataframe tbody tr th:only-of-type {\n",
              "        vertical-align: middle;\n",
              "    }\n",
              "\n",
              "    .dataframe tbody tr th {\n",
              "        vertical-align: top;\n",
              "    }\n",
              "\n",
              "    .dataframe thead th {\n",
              "        text-align: right;\n",
              "    }\n",
              "</style>\n",
              "<table border=\"1\" class=\"dataframe\">\n",
              "  <thead>\n",
              "    <tr style=\"text-align: right;\">\n",
              "      <th></th>\n",
              "      <th>Datetime</th>\n",
              "      <th>Count</th>\n",
              "      <th>year</th>\n",
              "      <th>month</th>\n",
              "      <th>day</th>\n",
              "      <th>Hour</th>\n",
              "      <th>day of week</th>\n",
              "      <th>weekend</th>\n",
              "      <th>moving_avg_forecast</th>\n",
              "      <th>SES</th>\n",
              "    </tr>\n",
              "    <tr>\n",
              "      <th>Datetime</th>\n",
              "      <th></th>\n",
              "      <th></th>\n",
              "      <th></th>\n",
              "      <th></th>\n",
              "      <th></th>\n",
              "      <th></th>\n",
              "      <th></th>\n",
              "      <th></th>\n",
              "      <th></th>\n",
              "      <th></th>\n",
              "    </tr>\n",
              "  </thead>\n",
              "  <tbody>\n",
              "    <tr>\n",
              "      <th>2014-06-25 00:00:00</th>\n",
              "      <td>2014-06-25 00:00:00</td>\n",
              "      <td>332</td>\n",
              "      <td>2014</td>\n",
              "      <td>6</td>\n",
              "      <td>25</td>\n",
              "      <td>0</td>\n",
              "      <td>2</td>\n",
              "      <td>0</td>\n",
              "      <td>398.04</td>\n",
              "      <td>385.577197</td>\n",
              "    </tr>\n",
              "    <tr>\n",
              "      <th>2014-06-25 01:00:00</th>\n",
              "      <td>2014-06-25 01:00:00</td>\n",
              "      <td>260</td>\n",
              "      <td>2014</td>\n",
              "      <td>6</td>\n",
              "      <td>25</td>\n",
              "      <td>1</td>\n",
              "      <td>2</td>\n",
              "      <td>0</td>\n",
              "      <td>398.04</td>\n",
              "      <td>385.577197</td>\n",
              "    </tr>\n",
              "    <tr>\n",
              "      <th>2014-06-25 02:00:00</th>\n",
              "      <td>2014-06-25 02:00:00</td>\n",
              "      <td>218</td>\n",
              "      <td>2014</td>\n",
              "      <td>6</td>\n",
              "      <td>25</td>\n",
              "      <td>2</td>\n",
              "      <td>2</td>\n",
              "      <td>0</td>\n",
              "      <td>398.04</td>\n",
              "      <td>385.577197</td>\n",
              "    </tr>\n",
              "    <tr>\n",
              "      <th>2014-06-25 03:00:00</th>\n",
              "      <td>2014-06-25 03:00:00</td>\n",
              "      <td>244</td>\n",
              "      <td>2014</td>\n",
              "      <td>6</td>\n",
              "      <td>25</td>\n",
              "      <td>3</td>\n",
              "      <td>2</td>\n",
              "      <td>0</td>\n",
              "      <td>398.04</td>\n",
              "      <td>385.577197</td>\n",
              "    </tr>\n",
              "    <tr>\n",
              "      <th>2014-06-25 04:00:00</th>\n",
              "      <td>2014-06-25 04:00:00</td>\n",
              "      <td>168</td>\n",
              "      <td>2014</td>\n",
              "      <td>6</td>\n",
              "      <td>25</td>\n",
              "      <td>4</td>\n",
              "      <td>2</td>\n",
              "      <td>0</td>\n",
              "      <td>398.04</td>\n",
              "      <td>385.577197</td>\n",
              "    </tr>\n",
              "  </tbody>\n",
              "</table>\n",
              "</div>"
            ],
            "text/plain": [
              "                               Datetime  Count  year  month  day  Hour  \\\n",
              "Datetime                                                                 \n",
              "2014-06-25 00:00:00 2014-06-25 00:00:00    332  2014      6   25     0   \n",
              "2014-06-25 01:00:00 2014-06-25 01:00:00    260  2014      6   25     1   \n",
              "2014-06-25 02:00:00 2014-06-25 02:00:00    218  2014      6   25     2   \n",
              "2014-06-25 03:00:00 2014-06-25 03:00:00    244  2014      6   25     3   \n",
              "2014-06-25 04:00:00 2014-06-25 04:00:00    168  2014      6   25     4   \n",
              "\n",
              "                     day of week  weekend  moving_avg_forecast         SES  \n",
              "Datetime                                                                    \n",
              "2014-06-25 00:00:00            2        0               398.04  385.577197  \n",
              "2014-06-25 01:00:00            2        0               398.04  385.577197  \n",
              "2014-06-25 02:00:00            2        0               398.04  385.577197  \n",
              "2014-06-25 03:00:00            2        0               398.04  385.577197  \n",
              "2014-06-25 04:00:00            2        0               398.04  385.577197  "
            ]
          },
          "metadata": {
            "tags": []
          },
          "execution_count": 75
        }
      ]
    },
    {
      "metadata": {
        "id": "YSij9I3XQE-c",
        "colab_type": "code",
        "colab": {
          "base_uri": "https://localhost:8080/",
          "height": 500
        },
        "outputId": "74baf8b3-49c3-4ecd-c478-f33653c68043"
      },
      "cell_type": "code",
      "source": [
        "plt.figure(figsize=(16,8)) \n",
        "plt.plot(Train['Count'], label='Train') \n",
        "plt.plot(valid['Count'], label='Valid') \n",
        "plt.plot(y_hat_avg['SES'], label='SES') \n",
        "plt.legend(loc='best') "
      ],
      "execution_count": 76,
      "outputs": [
        {
          "output_type": "execute_result",
          "data": {
            "text/plain": [
              "<matplotlib.legend.Legend at 0x7f3b324f2da0>"
            ]
          },
          "metadata": {
            "tags": []
          },
          "execution_count": 76
        },
        {
          "output_type": "display_data",
          "data": {
            "image/png": "[encoded data removed]",
            "text/plain": [
              "<Figure size 1152x576 with 1 Axes>"
            ]
          },
          "metadata": {
            "tags": []
          }
        }
      ]
    },
    {
      "metadata": {
        "id": "jUB2L5yDQE75",
        "colab_type": "code",
        "colab": {
          "base_uri": "https://localhost:8080/",
          "height": 34
        },
        "outputId": "31ce512d-f4e6-4fb7-b236-b7f19ec03305"
      },
      "cell_type": "code",
      "source": [
        "rms = sqrt(mean_squared_error(valid.Count, y_hat_avg.SES)) \n",
        "print(rms)"
      ],
      "execution_count": 77,
      "outputs": [
        {
          "output_type": "stream",
          "text": [
            "186.40944652452376\n"
          ],
          "name": "stdout"
        }
      ]
    },
    {
      "metadata": {
        "id": "u-7SebeMVkNJ",
        "colab_type": "text"
      },
      "cell_type": "markdown",
      "source": [
        "We can infer that the fit of the model has improved as the rmse value has reduced."
      ]
    },
    {
      "metadata": {
        "id": "SL5PuG3gVoyH",
        "colab_type": "text"
      },
      "cell_type": "markdown",
      "source": [
        "#iv) Holt’s Linear Trend Model"
      ]
    },
    {
      "metadata": {
        "id": "VEVVKU3VQEwk",
        "colab_type": "code",
        "colab": {}
      },
      "cell_type": "code",
      "source": [
        ""
      ],
      "execution_count": 0,
      "outputs": []
    },
    {
      "metadata": {
        "id": "XfGhAzEPQEtu",
        "colab_type": "code",
        "colab": {}
      },
      "cell_type": "code",
      "source": [
        ""
      ],
      "execution_count": 0,
      "outputs": []
    },
    {
      "metadata": {
        "id": "erEI-4WJQEqx",
        "colab_type": "code",
        "colab": {}
      },
      "cell_type": "code",
      "source": [
        ""
      ],
      "execution_count": 0,
      "outputs": []
    },
    {
      "metadata": {
        "id": "2CLI0hlMQEnH",
        "colab_type": "code",
        "colab": {}
      },
      "cell_type": "code",
      "source": [
        ""
      ],
      "execution_count": 0,
      "outputs": []
    },
    {
      "metadata": {
        "id": "raBHXFB3QEkH",
        "colab_type": "code",
        "colab": {}
      },
      "cell_type": "code",
      "source": [
        ""
      ],
      "execution_count": 0,
      "outputs": []
    },
    {
      "metadata": {
        "id": "6RAnM1RaQEfp",
        "colab_type": "code",
        "colab": {}
      },
      "cell_type": "code",
      "source": [
        ""
      ],
      "execution_count": 0,
      "outputs": []
    },
    {
      "metadata": {
        "id": "37D_5y_BPX--",
        "colab_type": "code",
        "colab": {}
      },
      "cell_type": "code",
      "source": [
        ""
      ],
      "execution_count": 0,
      "outputs": []
    },
    {
      "metadata": {
        "id": "YoNsB_WNPX8N",
        "colab_type": "code",
        "colab": {}
      },
      "cell_type": "code",
      "source": [
        ""
      ],
      "execution_count": 0,
      "outputs": []
    },
    {
      "metadata": {
        "id": "gwnfT6ZfPX4y",
        "colab_type": "code",
        "colab": {}
      },
      "cell_type": "code",
      "source": [
        ""
      ],
      "execution_count": 0,
      "outputs": []
    },
    {
      "metadata": {
        "id": "f10iOyGoPX2I",
        "colab_type": "code",
        "colab": {}
      },
      "cell_type": "code",
      "source": [
        ""
      ],
      "execution_count": 0,
      "outputs": []
    },
    {
      "metadata": {
        "id": "8nI3e0m1PXzA",
        "colab_type": "code",
        "colab": {}
      },
      "cell_type": "code",
      "source": [
        ""
      ],
      "execution_count": 0,
      "outputs": []
    },
    {
      "metadata": {
        "id": "NbIJ7CJ9PXwY",
        "colab_type": "code",
        "colab": {}
      },
      "cell_type": "code",
      "source": [
        ""
      ],
      "execution_count": 0,
      "outputs": []
    },
    {
      "metadata": {
        "id": "D1lXUTCiPXtn",
        "colab_type": "code",
        "colab": {}
      },
      "cell_type": "code",
      "source": [
        ""
      ],
      "execution_count": 0,
      "outputs": []
    },
    {
      "metadata": {
        "id": "aP-pN9TgPXqp",
        "colab_type": "code",
        "colab": {}
      },
      "cell_type": "code",
      "source": [
        ""
      ],
      "execution_count": 0,
      "outputs": []
    },
    {
      "metadata": {
        "id": "eyW0TMPKPXn1",
        "colab_type": "code",
        "colab": {}
      },
      "cell_type": "code",
      "source": [
        ""
      ],
      "execution_count": 0,
      "outputs": []
    },
    {
      "metadata": {
        "id": "ca8qr4zdOzG8",
        "colab_type": "code",
        "colab": {}
      },
      "cell_type": "code",
      "source": [
        ""
      ],
      "execution_count": 0,
      "outputs": []
    },
    {
      "metadata": {
        "id": "NcJB2ShTOFSr",
        "colab_type": "code",
        "colab": {}
      },
      "cell_type": "code",
      "source": [
        ""
      ],
      "execution_count": 0,
      "outputs": []
    }
  ]
}